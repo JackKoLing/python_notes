{
 "cells": [
  {
   "cell_type": "markdown",
   "metadata": {},
   "source": [
    "### This file include some coding styles"
   ]
  },
  {
   "cell_type": "markdown",
   "metadata": {},
   "source": [
    "### 1、语句语法：\n",
    "- \\表示续行，#是单行注释，\"\"\"  \"\"\"或'''   '''是多行注释\n",
    "- 每一个python文件都可以当做一个模块，所以模块通常都是可调用函数，而不是直接的语句，\n",
    "- 因为import进来会直接运行语句了，使用主程序name==main来实现测试的效果"
   ]
  },
  {
   "cell_type": "markdown",
   "metadata": {},
   "source": [
    "### 2、编码风格\n",
    "+ 每个模块文件、类、函数开头都可以用\" \"或\"\"\"  \"\"\"写个文件描述，可以使用\".\\__doc\\__\"来查看\n",
    "+ 变量名的首字母只能用字母或者下划线，不能用数字，因为担心变量名和数值混淆"
   ]
  },
  {
   "cell_type": "code",
   "execution_count": 1,
   "metadata": {
    "tags": []
   },
   "outputs": [
    {
     "output_type": "stream",
     "name": "stdout",
     "text": "str(object='') -> str\nstr(bytes_or_buffer[, encoding[, errors]]) -> str\n\nCreate a new string object from the given object. If encoding or\nerrors is specified, then the object must expose a data buffer\nthat will be decoded using the given encoding and error handler.\nOtherwise, returns the result of object.__str__() (if defined)\nor repr(object).\nencoding defaults to sys.getdefaultencoding().\nerrors defaults to 'strict'.\n"
    }
   ],
   "source": [
    "print(str.__doc__) # 使用__doc__获取内置函数的介绍文档print(str.__doc__)"
   ]
  },
  {
   "cell_type": "markdown",
   "metadata": {},
   "source": [
    "#### 命名规则：\n",
    "+ _x不会被from module import *语句导入\n",
    "+ __x__是系统定义的变量名，对python解释器有特殊意义\n",
    "+ __x是类的本地变量，在类的内部使用\n",
    "+ 交互模式下，\"_\"用于保存最后表达式的结果"
   ]
  },
  {
   "cell_type": "markdown",
   "metadata": {},
   "source": [
    "#### python文件结构：\n",
    "（1）起始行：对于linux系统，#/usr/bin/env python，对于windows，不用写明coding=UTF-8，因为python3默认就是UTF-8\n",
    "\n",
    "（2）模块文档：单行用\" \"，多行用\"\"\"  \"\"\"，如\"This is a test module.\"\n",
    "\n",
    "（3）模块导入：如import sys\n",
    "\n",
    "（4）（全局）变量定义：如Flag = False\n",
    "\n",
    "（5）类定义(若有)：如class F(object):\n",
    "                       \"this is a F class.\"\n",
    "                           pass\n",
    "\n",
    "（6）函数定义（若有）：如def test():\n",
    "                         \"test function\"\n",
    "                         f = F() # 类的实例化 \n",
    "                          pass\n",
    "\n",
    "（7）主程序（无论是被导入还是作为脚本直接执行，都会执行这部分，实现测试效果）：\n",
    "            if __name__ == \"__main__\":\n",
    "                test()"
   ]
  },
  {
   "cell_type": "markdown",
   "metadata": {},
   "source": [
    "#### 补充：\n",
    "1、没有缩进的语句，在模块被导入时就会执行，所以除了那些真正需要执行的代码以外，所有的功能代码都通过函数来建立，所以仅在主程序模块中编写大量的执行代码，其他都应该为类或函数以供调用\n",
    "\n",
    "2、每个模块都有一个名为__name__的内建变量，此变量值会根据调用此模块的方式发生变化：如果此文件被作为模块导入，则__name__的值为模块名称如果此文件被直接执行，则__name__的值为\"__main__\""
   ]
  },
  {
   "cell_type": "code",
   "execution_count": null,
   "metadata": {},
   "outputs": [],
   "source": []
  }
 ],
 "metadata": {
  "language_info": {
   "codemirror_mode": {
    "name": "ipython",
    "version": 3
   },
   "file_extension": ".py",
   "mimetype": "text/x-python",
   "name": "python",
   "nbconvert_exporter": "python",
   "pygments_lexer": "ipython3",
   "version": 3
  },
  "orig_nbformat": 2,
  "kernelspec": {
   "name": "python_defaultSpec_1594959968240",
   "display_name": "Python 3.7.1 64-bit ('learnPy': conda)"
  }
 },
 "nbformat": 4,
 "nbformat_minor": 2
}
{
 "cells": [
  {
   "cell_type": "markdown",
   "metadata": {},
   "source": [
    "## python的关键要素\n",
    "基本数据类型、对象引用、组合数据类型、逻辑操作符、控制流语句、算术操作符、输入/输出、函数的创建与调用"
   ]
  },
  {
   "cell_type": "markdown",
   "metadata": {},
   "source": [
    "### 1、基本数据类型：int整型、浮点型、字符串"
   ]
  },
  {
   "cell_type": "code",
   "execution_count": 1,
   "metadata": {
    "tags": []
   },
   "outputs": [
    {
     "output_type": "stream",
     "name": "stdout",
     "text": "1 140713172311584\n2 140713172311616\na\nJackko 1722238052144\nAnney 1722238052704\n"
    }
   ],
   "source": [
    "# int分为：不可变整数和布尔型(True, False)\n",
    "num = 1\n",
    "print(num, id(num))\n",
    "num = 2\n",
    "print(num, id(num)) \n",
    "# 由此可见,1、2都不变，这是不可变的整型，只是num变量指向的位置变了，并非2覆盖了1\n",
    "\n",
    "# 浮点型分为：浮点数、复数和十进制数字\n",
    "\n",
    "# 字符串要用引号包起来，单双引号不加区别，但通常单字符用单引号，多字符用双引号\n",
    "name = \"Jackko\"\n",
    "print(name[1]) # 可见字符串就是一个序列\n",
    "print(name, id(name))\n",
    "name = \"Anney\"\n",
    "print(name, id(name))\n",
    "# 可见，字符串也是不可变对象"
   ]
  },
  {
   "cell_type": "markdown",
   "metadata": {},
   "source": [
    "### 2、对象引用（变量）：\n",
    "所有的数据都存为内存对象，变量事实上是指向内存对象的引用。所以，变量也是一个对象，有自己的存储空间，可以理解成指针。多次没有被引用的数据对象会被垃圾回收机制回收。"
   ]
  },
  {
   "cell_type": "code",
   "execution_count": 2,
   "metadata": {
    "tags": []
   },
   "outputs": [
    {
     "output_type": "stream",
     "name": "stdout",
     "text": "<class 'str'>\n<class 'int'>\nAnney 1722238052704\nAnney 1722238052704\n"
    }
   ],
   "source": [
    "# 查看对象类型\n",
    "print(type(name))\n",
    "print(type(num))\n",
    "\n",
    "print(name, id(name)) \n",
    "test = \"Anney\"\n",
    "print(test, id(test))\n",
    "# 可见，如果内存已存在数据对象，则直接指向它"
   ]
  },
  {
   "cell_type": "markdown",
   "metadata": {},
   "source": [
    "#### 命名规则：\n",
    "- _x不会被from module import *语句导入\n",
    "- __x__是系统定义的变量名，对python解释器有特殊意义\n",
    "- __x是类的本地变量，在类的内部使用\n",
    "- 交互模式下，\"_\"用于保存最后表达式的结果"
   ]
  },
  {
   "cell_type": "code",
   "execution_count": 3,
   "metadata": {
    "tags": []
   },
   "outputs": [
    {
     "output_type": "stream",
     "name": "stdout",
     "text": "<class 'str'>\n<class 'float'>\n"
    }
   ],
   "source": [
    "print(type(name))\n",
    "name = 3.14\n",
    "print(type(name))\n",
    "# 可见，变量名没有类型，变量所引用的对象才有类型，且变量可以引用任意对象"
   ]
  },
  {
   "cell_type": "markdown",
   "metadata": {},
   "source": [
    "### 3、组合数据类型(可嵌套)：\n",
    "- 序列类型\n",
    "- 集合类型：集合set\n",
    "- 映射类型：字典,key-value集合,可变对象"
   ]
  },
  {
   "cell_type": "code",
   "execution_count": 4,
   "metadata": {
    "tags": []
   },
   "outputs": [
    {
     "output_type": "stream",
     "name": "stdout",
     "text": "T\n['That', 'is', 'a', 'pig']\n['That', 'is', 'a', 'pig', 'yes']\nje\nje\nrry\njr\n5\n"
    }
   ],
   "source": [
    "# 序列类型，注意列表和元组并不真正存储数据，而是存放对象引用\n",
    "# 列表，使用[]创建,是可变对象，可以在内存直接修改，但是只能修改一层，如list[0],不能list[0][0]\n",
    "list1 = [\"This\", \"is\", \"a\", \"pig\"]\n",
    "print(list1[0][0])\n",
    "list1[0] = 'That' \n",
    "print(list1) \n",
    "list1.append(\"yes\")\n",
    "print(list1) \n",
    "\n",
    "# 元组，使用()创建，是不可变对象，故不可修改\n",
    "# 字符串，使用\"\"创建，可以分片，切片是一个新的对象\n",
    "name = \"jerry\"\n",
    "print(name[0:2]) # 注意是顾首不顾尾\n",
    "print(name[:2])\n",
    "print(name[2:])\n",
    "print(name[0:4:2]) #步长是2\n",
    "print(len(name))"
   ]
  },
  {
   "cell_type": "markdown",
   "metadata": {},
   "source": [
    "### 4、逻辑操作符"
   ]
  },
  {
   "cell_type": "code",
   "execution_count": 5,
   "metadata": {
    "tags": []
   },
   "outputs": [
    {
     "output_type": "stream",
     "name": "stdout",
     "text": "True\nTrue\n"
    }
   ],
   "source": [
    "# 身份操作符：is，判定左端对象引用是否相同于右端对象引用，可以与None进行\n",
    "name = \"Jerry\"\n",
    "test = \"Jerry\"\n",
    "print(name is test)\n",
    "print(type(name) is type(test))\n",
    "# 比较操作符：<、>、<=、>=、!=、==\n",
    "# 成员操作符：in 、not in，用于测试成员关系\n",
    "# 逻辑运算符：and、 or、 not"
   ]
  },
  {
   "cell_type": "markdown",
   "metadata": {},
   "source": [
    "### 5、控制流语句（过程式编程语言的基本控制机制）\n",
    "if、 while、 for..in..、 try"
   ]
  },
  {
   "cell_type": "markdown",
   "metadata": {},
   "source": [
    "### 6、算术操作符+、-、*、/、%、+=等\n",
    "同样的功能，使用增强型赋值操作符（+=）性能更好"
   ]
  },
  {
   "cell_type": "markdown",
   "metadata": {},
   "source": [
    "### 7、输入输出\n",
    "print是把一个或多个对象转换为其文本表达形式，然后发送给标准输出或另一个类似文件的流"
   ]
  },
  {
   "cell_type": "code",
   "execution_count": 6,
   "metadata": {
    "tags": []
   },
   "outputs": [
    {
     "output_type": "stream",
     "name": "stdout",
     "text": "The num is 7.900000\nThe num is 7\nThe nums are 7 and 9.13\nThe nums are +7 and 3.14\nThe name is Jerry.\nThe name is 9.1323.\n<class 'str'>\n<class 'float'>\nJACKKO\nThe nums are 7.9000000000         and +3.14\n32         27.5\n"
    }
   ],
   "source": [
    "# 格式化输出\n",
    "num = 7.9\n",
    "print(\"The num is %f\" % num)\n",
    "print(\"The num is %d\" % num)\n",
    "num2 = 9.1323\n",
    "print(\"The nums are %d and %.2f\" % (num, num2))\n",
    "print(\"The nums are %+d and %.2f\" % (num, 3.14))\n",
    "name = \"Jerry\"\n",
    "print(\"The name is %s.\" % name)\n",
    "print(\"The name is %s.\" % num2) #注意这个是自动转为字符串\n",
    "# 数据转换有显式（强制）和隐式（自动）之分\n",
    "test3 = str(num2)\n",
    "print(type(test3))\n",
    "print(type(num2))\n",
    "\n",
    "# 输出python的内置函数\n",
    "# print(dir(__builtins__))\n",
    "# 输出内置函数的用法以及类内的方法\n",
    "# print(help(str)) \n",
    "name = \"jackko\"\n",
    "print(name.upper())\n",
    "\n",
    "# 更复杂的带修饰符的格式化\n",
    "num = 7.9\n",
    "print(\"The nums are %-20.10f and %+.2f\" % (num, 3.1412)) \n",
    "\n",
    "d = {'x':32, 'y':27.490325, 'z':65}\n",
    "print(\"%(x)-10d %(y)0.3g\" % d) "
   ]
  },
  {
   "cell_type": "markdown",
   "metadata": {},
   "source": [
    "### 8、函数的创建与调用 \n",
    "函数是实现模式化编程的基本组件"
   ]
  },
  {
   "cell_type": "code",
   "execution_count": 7,
   "metadata": {
    "tags": []
   },
   "outputs": [
    {
     "output_type": "stream",
     "name": "stdout",
     "text": "Jackko\nTrue\nrange(0, 10)\nrange(2, 11, 3)\n6\n"
    }
   ],
   "source": [
    "def print_name(name):\n",
    "    print(name)\n",
    "print_name(\"Jackko\")\n",
    "# 查看函数是否可调用\n",
    "print(callable(print_name))\n",
    "print(range(10))\n",
    "print(range(2,11,3))\n",
    "\n",
    "import random\n",
    "x = random.choice([1, 2, 3, 4, 5, 6])\n",
    "print(x)"
   ]
  },
  {
   "cell_type": "code",
   "execution_count": null,
   "metadata": {},
   "outputs": [],
   "source": []
  }
 ],
 "metadata": {
  "kernelspec": {
   "display_name": "Python 3",
   "language": "python",
   "name": "python3"
  },
  "language_info": {
   "codemirror_mode": {
    "name": "ipython",
    "version": 3
   },
   "file_extension": ".py",
   "mimetype": "text/x-python",
   "name": "python",
   "nbconvert_exporter": "python",
   "pygments_lexer": "ipython3",
   "version": "3.6.2"
  }
 },
 "nbformat": 4,
 "nbformat_minor": 2
}
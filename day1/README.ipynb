{
 "cells": [
  {
   "cell_type": "markdown",
   "metadata": {},
   "source": [
    "## 学习内容：\n",
    "1、 hello_word.ipynb：配置python环境，跑通Hello world\n",
    "\n",
    "2、 key_elements.ipynb：快速过一下python的八个关键要素：基本数据类型、对象引用、组合数据类型、逻辑操作符、控制流语句、算术操作符、输入/输出、函数的创建与调用\n",
    "    \n",
    "3、coding_style.ipynb：python的文件结构及编码风格"
   ]
  },
  {
   "cell_type": "code",
   "execution_count": null,
   "metadata": {},
   "outputs": [],
   "source": []
  }
 ],
 "metadata": {
  "kernelspec": {
   "display_name": "Python 3",
   "language": "python",
   "name": "python3"
  },
  "language_info": {
   "codemirror_mode": {
    "name": "ipython",
    "version": 3
   },
   "file_extension": ".py",
   "mimetype": "text/x-python",
   "name": "python",
   "nbconvert_exporter": "python",
   "pygments_lexer": "ipython3",
   "version": "3.6.2"
  }
 },
 "nbformat": 4,
 "nbformat_minor": 4
}
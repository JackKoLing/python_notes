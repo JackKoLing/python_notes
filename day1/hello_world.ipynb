{
 "cells": [
  {
   "cell_type": "markdown",
   "metadata": {},
   "source": [
    "### Run the hello world."
   ]
  },
  {
   "cell_type": "code",
   "execution_count": 1,
   "metadata": {
    "tags": []
   },
   "outputs": [
    {
     "output_type": "stream",
     "name": "stdout",
     "text": "Hello, python!\n"
    }
   ],
   "source": [
    "print(\"Hello, python!\")"
   ]
  },
  {
   "cell_type": "markdown",
   "metadata": {},
   "source": [
    "- 面向过程：\n",
    "    以指令为中心，由指令处理数据，主要考虑如何组织代码解决问题（如判断语句、循环语句）\n",
    "- 面向对象：\n",
    "    以数据为中心，所有的处理代码都围绕数据展开，主要考虑如何设计数据结构组织数据，并提供对此类数据所允许处理操作（如类、模块）\n",
    "- python一切皆对象（数据就是对象），但编程时可以以面向过程的方式编写，所以二者都有"
   ]
  },
  {
   "cell_type": "code",
   "execution_count": 2,
   "metadata": {
    "tags": []
   },
   "outputs": [
    {
     "output_type": "stream",
     "name": "stdout",
     "text": "uname_result(system='Windows', node='DESKTOP-IFHTAMS', release='10', version='10.0.18362', machine='AMD64', processor='Intel64 Family 6 Model 142 Stepping 11, GenuineIntel')\n"
    }
   ],
   "source": [
    "# 一个检测浏览器和操作系统版本的JavaScript库# 一个检测浏览器和操作系统版本的JavaScript库\n",
    "import platform \n",
    "print(platform.uname()) # 输出底层的平台信息"
   ]
  },
  {
   "cell_type": "markdown",
   "metadata": {},
   "source": [
    "- 程序 = 数据结构 + 算法 \n",
    "- 数据结构：通过某种方式（如列表、元组、字典）组织在一起的数据元素的集合"
   ]
  },
  {
   "cell_type": "code",
   "execution_count": null,
   "metadata": {},
   "outputs": [],
   "source": []
  }
 ],
 "metadata": {
  "kernelspec": {
   "display_name": "Python 3",
   "language": "python",
   "name": "python3"
  },
  "language_info": {
   "codemirror_mode": {
    "name": "ipython",
    "version": 3
   },
   "file_extension": ".py",
   "mimetype": "text/x-python",
   "name": "python",
   "nbconvert_exporter": "python",
   "pygments_lexer": "ipython3",
   "version": "3.6.2"
  }
 },
 "nbformat": 4,
 "nbformat_minor": 4
}
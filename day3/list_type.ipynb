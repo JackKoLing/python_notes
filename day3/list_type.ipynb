{
 "cells": [
  {
   "cell_type": "markdown",
   "metadata": {},
   "source": [
    "### This file introduce the list type"
   ]
  },
  {
   "cell_type": "markdown",
   "metadata": {},
   "source": [
    "### 前言：序列类型\n",
    "+ 字符串、列表、元组\n",
    "+ 其中字符和元组是不可变序列，而列表支持插入、删除和替换元素，它们都支持迭代"
   ]
  },
  {
   "cell_type": "markdown",
   "metadata": {},
   "source": [
    "## 列表类型："
   ]
  },
  {
   "cell_type": "markdown",
   "metadata": {},
   "source": [
    "### 1、容器类型\n",
    "+ 任意对象的有序集合，通过索引访问其中的元素，\n",
    "+ 可变对象，支持异构（可包含多种不同元素），任意嵌套\n",
    "\n"
   ]
  },
  {
   "cell_type": "code",
   "execution_count": 1,
   "metadata": {
    "tags": []
   },
   "outputs": [
    {
     "output_type": "stream",
     "name": "stdout",
     "text": "2507620257288\n"
    }
   ],
   "source": [
    "l1 = []\n",
    "print(id(l1))"
   ]
  },
  {
   "cell_type": "code",
   "execution_count": 2,
   "metadata": {
    "tags": []
   },
   "outputs": [
    {
     "output_type": "stream",
     "name": "stdout",
     "text": "[1, 2, 3, 4, 5]\n"
    }
   ],
   "source": [
    "l2 = [1,2,3,4,5]\n",
    "print(l2)"
   ]
  },
  {
   "cell_type": "code",
   "execution_count": 3,
   "metadata": {
    "tags": []
   },
   "outputs": [
    {
     "output_type": "stream",
     "name": "stdout",
     "text": "[1, 'b']\n"
    }
   ],
   "source": [
    "l3 = [1, 'b'] # 异构\n",
    "print(l3)"
   ]
  },
  {
   "cell_type": "code",
   "execution_count": 4,
   "metadata": {
    "tags": []
   },
   "outputs": [
    {
     "output_type": "stream",
     "name": "stdout",
     "text": "[[1, 2], ['a', 'b']]\n"
    }
   ],
   "source": [
    "l4 = [[1, 2], ['a', 'b']] # 嵌套\n",
    "print(l4)"
   ]
  },
  {
   "cell_type": "markdown",
   "metadata": {},
   "source": [
    "### 2、支持在原处修改\n",
    "+ 修改的是引用，而不是对象\n",
    "+ 可修改指定的索引元素，修改指定的分片，删除语句，使用内置方法"
   ]
  },
  {
   "cell_type": "code",
   "execution_count": 5,
   "metadata": {
    "tags": []
   },
   "outputs": [
    {
     "output_type": "stream",
     "name": "stdout",
     "text": "[1, 2, 3, 4, 5]\n[1, 32, 3, 4, 5]\n"
    }
   ],
   "source": [
    "print(l2)\n",
    "l2[1] = 32\n",
    "print(l2)"
   ]
  },
  {
   "cell_type": "code",
   "execution_count": 6,
   "metadata": {
    "tags": []
   },
   "outputs": [
    {
     "output_type": "stream",
     "name": "stdout",
     "text": "[1, 32, 3, 'xyz', 5]\n"
    }
   ],
   "source": [
    "l2[3] = \"xyz\"\n",
    "print(l2)"
   ]
  },
  {
   "cell_type": "code",
   "execution_count": 7,
   "metadata": {},
   "outputs": [
    {
     "output_type": "execute_result",
     "data": {
      "text/plain": "[32, 3]"
     },
     "metadata": {},
     "execution_count": 7
    }
   ],
   "source": [
    "l2[1:3]"
   ]
  },
  {
   "cell_type": "code",
   "execution_count": 8,
   "metadata": {
    "tags": []
   },
   "outputs": [
    {
     "output_type": "stream",
     "name": "stdout",
     "text": "[1, 32, 3, 'xyz', 5]\n[1, 'xyz', 5]\nxyz\n"
    }
   ],
   "source": [
    "print(l2)\n",
    "l2[1:3] = [] # 把1、2设为空\n",
    "print(l2)\n",
    "print(l2[1])"
   ]
  },
  {
   "cell_type": "code",
   "execution_count": 9,
   "metadata": {
    "tags": []
   },
   "outputs": [
    {
     "output_type": "stream",
     "name": "stdout",
     "text": "[1, 'xyz', 5]\n[1, 'm', 'n', 'r']\n"
    }
   ],
   "source": [
    "print(l2)\n",
    "l2[1:] = ['m',  'n', 'r']\n",
    "print(l2)"
   ]
  },
  {
   "cell_type": "code",
   "execution_count": 10,
   "metadata": {
    "tags": []
   },
   "outputs": [
    {
     "output_type": "stream",
     "name": "stdout",
     "text": "2507620552392\n[1, 'm', 'n', 'r']\n[1]\n"
    }
   ],
   "source": [
    "print(id(l2))\n",
    "print(l2)\n",
    "del(l2[1:])\n",
    "print(l2)"
   ]
  },
  {
   "cell_type": "code",
   "execution_count": 11,
   "metadata": {
    "tags": []
   },
   "outputs": [
    {
     "output_type": "stream",
     "name": "stdout",
     "text": "2507620552392\n"
    }
   ],
   "source": [
    "print(id(l2)) # 可见这是在原处修改，不会改变它的id"
   ]
  },
  {
   "cell_type": "code",
   "execution_count": 12,
   "metadata": {
    "tags": []
   },
   "outputs": [
    {
     "output_type": "stream",
     "name": "stdout",
     "text": "[1, 2, 3, 4, 5, 6, 77]\n"
    }
   ],
   "source": [
    "l3 = [1, 2, 3, 4, 5, 6]\n",
    "l3.append(77)\n",
    "print(l3)"
   ]
  },
  {
   "cell_type": "code",
   "execution_count": 13,
   "metadata": {
    "tags": []
   },
   "outputs": [
    {
     "output_type": "stream",
     "name": "stdout",
     "text": "2507620217992\n[1, 2, 3, 4, 5, 6, 77, 106]\n2507620217992\n"
    }
   ],
   "source": [
    "print(id(l3))\n",
    "l3.append(106)\n",
    "print(l3)\n",
    "print(id(l3))"
   ]
  },
  {
   "cell_type": "code",
   "execution_count": 14,
   "metadata": {
    "tags": []
   },
   "outputs": [
    {
     "output_type": "stream",
     "name": "stdout",
     "text": "[1, 2, 3, 4, 5, 6, 77, 106, ['x', 'y', 'z']]\n2507620217992\n"
    }
   ],
   "source": [
    "l4 = ['x', 'y', 'z']\n",
    "l3.append(l4) # 添加一个元素\n",
    "print(l3)\n",
    "print(id(l3))"
   ]
  },
  {
   "cell_type": "code",
   "execution_count": 15,
   "metadata": {
    "tags": []
   },
   "outputs": [
    {
     "output_type": "stream",
     "name": "stdout",
     "text": "[1, 2, 3, 4, 5, 6, 77, 106, ['x', 'y', 'z'], 2]\n"
    },
    {
     "output_type": "execute_result",
     "data": {
      "text/plain": "2"
     },
     "metadata": {},
     "execution_count": 15
    }
   ],
   "source": [
    "l3.append(2)\n",
    "print(l3)\n",
    "l3.count(2) # 统计参数出现多少次"
   ]
  },
  {
   "cell_type": "code",
   "execution_count": 16,
   "metadata": {
    "tags": []
   },
   "outputs": [
    {
     "output_type": "stream",
     "name": "stdout",
     "text": "[1, 2, 3, 4, 5, 6, 77, 106, ['x', 'y', 'z'], 2, 'x', 'y', 'z']\n"
    }
   ],
   "source": [
    "l3.extend(l4) # 将参数的每个元素都一一并入列表中\n",
    "print(l3)"
   ]
  },
  {
   "cell_type": "code",
   "execution_count": 17,
   "metadata": {},
   "outputs": [
    {
     "output_type": "execute_result",
     "data": {
      "text/plain": "4"
     },
     "metadata": {},
     "execution_count": 17
    }
   ],
   "source": [
    "l3.index(5) # 查找参数的索引\n"
   ]
  },
  {
   "cell_type": "code",
   "execution_count": 18,
   "metadata": {
    "tags": []
   },
   "outputs": [
    {
     "output_type": "stream",
     "name": "stdout",
     "text": "[1, 333, 2, 3, 4, 5, 6, 77, 106, ['x', 'y', 'z'], 2, 'x', 'y', 'z']\n"
    }
   ],
   "source": [
    "l3.insert(1, 333) # 在第一位插入333\n",
    "print(l3)"
   ]
  },
  {
   "cell_type": "code",
   "execution_count": 19,
   "metadata": {
    "tags": []
   },
   "outputs": [
    {
     "output_type": "stream",
     "name": "stdout",
     "text": "[1, 333, 2, 3, 4, 5, 6, 77, 106, ['x', 'y', 'z'], 2, 'x', 'y']\n[1, 333, 2, 3, 4, 5, 6, 77, ['x', 'y', 'z'], 2, 'x', 'y']\n"
    }
   ],
   "source": [
    "l3.pop() # 不给参数则默认弹出删除最后一个元素\n",
    "print(l3)\n",
    "l3.pop(8) # 注意参数是索引。被弹出的数值能直接赋值给其他变量\n",
    "print(l3)"
   ]
  },
  {
   "cell_type": "code",
   "execution_count": 20,
   "metadata": {
    "tags": []
   },
   "outputs": [
    {
     "output_type": "stream",
     "name": "stdout",
     "text": "[333, 2, 3, 4, 5, 6, 77, ['x', 'y', 'z'], 2, 'x', 'y']\n"
    }
   ],
   "source": [
    "l3.remove(1) # 注意这个参数是元素的值\n",
    "print(l3)"
   ]
  },
  {
   "cell_type": "code",
   "execution_count": 21,
   "metadata": {
    "tags": []
   },
   "outputs": [
    {
     "output_type": "stream",
     "name": "stdout",
     "text": "['y', 'x', 2, ['x', 'y', 'z'], 77, 6, 5, 4, 3, 2, 333]\n"
    }
   ],
   "source": [
    "l3.reverse() # 逆序,返回为None\n",
    "print(l3)"
   ]
  },
  {
   "cell_type": "code",
   "execution_count": 22,
   "metadata": {
    "tags": []
   },
   "outputs": [
    {
     "output_type": "stream",
     "name": "stdout",
     "text": "[2, 3, 6, 8]\n"
    }
   ],
   "source": [
    "l5 = [3, 2, 6, 8]\n",
    "l5.sort() # 排序,其返回为None\n",
    "print(l5)"
   ]
  },
  {
   "cell_type": "markdown",
   "metadata": {},
   "source": [
    "### 3、两个列表l1、l2操作\n",
    "+ l1 + l2：合并两个列表，返回一个新的列表（和字符串加法类似）\n",
    "+ l1 * N：把l1重复N次，返回一个新的列表"
   ]
  },
  {
   "cell_type": "code",
   "execution_count": 23,
   "metadata": {
    "tags": []
   },
   "outputs": [
    {
     "output_type": "stream",
     "name": "stdout",
     "text": "[1, 2, 3, 'x', 'x', 'y', 'z']\n"
    }
   ],
   "source": [
    "l1 = [1, 2, 3, 'x']\n",
    "l2 = ['x', 'y', 'z']\n",
    "print(l1 + l2)"
   ]
  },
  {
   "cell_type": "code",
   "execution_count": 24,
   "metadata": {
    "tags": []
   },
   "outputs": [
    {
     "output_type": "stream",
     "name": "stdout",
     "text": "[1, 2, 3, 'x', 1, 2, 3, 'x', 1, 2, 3, 'x']\n"
    }
   ],
   "source": [
    "print(l1 * 3)"
   ]
  },
  {
   "cell_type": "markdown",
   "metadata": {},
   "source": [
    "### 4、in：成员关系判断字符\n",
    "+ 用法: object in container\n",
    "+ not in的用法相似,object not in container"
   ]
  },
  {
   "cell_type": "code",
   "execution_count": 25,
   "metadata": {
    "tags": []
   },
   "outputs": [
    {
     "output_type": "stream",
     "name": "stdout",
     "text": "True\n"
    }
   ],
   "source": [
    "print(2 in l1)"
   ]
  },
  {
   "cell_type": "code",
   "execution_count": 26,
   "metadata": {
    "tags": []
   },
   "outputs": [
    {
     "output_type": "stream",
     "name": "stdout",
     "text": "True\n"
    }
   ],
   "source": [
    "print(22 not in l1)"
   ]
  },
  {
   "cell_type": "markdown",
   "metadata": {},
   "source": [
    "### 5、列表解析： \n",
    "+ 和for循环一起使用，在\\[\\]内操作"
   ]
  },
  {
   "cell_type": "code",
   "execution_count": 27,
   "metadata": {
    "tags": []
   },
   "outputs": [
    {
     "output_type": "stream",
     "name": "stdout",
     "text": "[15, 25, 35, 45, 55]\n"
    }
   ],
   "source": [
    "l1 = [10, 20, 30, 40, 50]\n",
    "for i in range(len(l1)):\n",
    "    l1[i] += 5\n",
    "print(l1)"
   ]
  },
  {
   "cell_type": "code",
   "execution_count": 28,
   "metadata": {
    "tags": []
   },
   "outputs": [
    {
     "output_type": "stream",
     "name": "stdout",
     "text": "[15, 25, 35, 45, 55]\n"
    }
   ],
   "source": [
    "l2 = [10, 20, 30, 40, 50]\n",
    "l2 = [i+5 for i in l2]\n",
    "print(l2)"
   ]
  },
  {
   "cell_type": "markdown",
   "metadata": {},
   "source": [
    "### 6、列表复制三种方式\n",
    "1、l2 = l1 注意这种是赋值，指向同一对象，并非新建对象\n",
    "\n",
    "2、l2 = l1\\[:\\] 这种复制是生成新的对象\n",
    "\n",
    "3、import copy  l2 = copy.deepcopy(l1) 这种也是生成新对象\n"
   ]
  },
  {
   "cell_type": "code",
   "execution_count": 29,
   "metadata": {
    "tags": []
   },
   "outputs": [
    {
     "output_type": "stream",
     "name": "stdout",
     "text": "[1, 2, 3]\n[1, 2, 3, 4]\n[1, 2, 3, 4]\n2507620234952 2507620234952\n"
    }
   ],
   "source": [
    "l1 = [1, 2, 3]\n",
    "l2 = l1 # 列表赋值\n",
    "print(l2)\n",
    "l1.append(4)\n",
    "print(l1)\n",
    "print(l2)\n",
    "print(id(l1), id(l2)) # 可见指向同一对象"
   ]
  },
  {
   "cell_type": "code",
   "execution_count": 30,
   "metadata": {
    "tags": []
   },
   "outputs": [
    {
     "output_type": "stream",
     "name": "stdout",
     "text": "[1, 2, 3, 4]\n[1, 2, 3, 4, 5]\n[1, 2, 3, 4]\n2507620234952 2507620507976\n"
    }
   ],
   "source": [
    "l3 = l1[:] # 列表复制\n",
    "print(l3)\n",
    "l1.append(5)\n",
    "print(l1)\n",
    "print(l3)\n",
    "print(id(l1), id(l3)) # 可见是不同对象"
   ]
  },
  {
   "cell_type": "code",
   "execution_count": 31,
   "metadata": {
    "tags": []
   },
   "outputs": [
    {
     "output_type": "stream",
     "name": "stdout",
     "text": "[1, 2, 3, 4, 5] 2507620234952\n[1, 2, 3, 4, 5] 2507620217992\n"
    }
   ],
   "source": [
    "import copy\n",
    "print(l1, id(l1))\n",
    "l4 = copy.deepcopy(l1)\n",
    "print(l4, id(l4)) # 可见这种方法也可以新建对象式的复制"
   ]
  }
 ],
 "metadata": {
  "language_info": {
   "codemirror_mode": {
    "name": "ipython",
    "version": 3
   },
   "file_extension": ".py",
   "mimetype": "text/x-python",
   "name": "python",
   "nbconvert_exporter": "python",
   "pygments_lexer": "ipython3",
   "version": 3
  },
  "orig_nbformat": 2,
  "kernelspec": {
   "name": "python_defaultSpec_1594976262669",
   "display_name": "Python 3.7.1 64-bit ('learnPy': conda)"
  }
 },
 "nbformat": 4,
 "nbformat_minor": 2
}
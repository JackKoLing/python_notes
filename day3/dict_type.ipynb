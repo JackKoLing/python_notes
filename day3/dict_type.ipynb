{
 "metadata": {
  "language_info": {
   "codemirror_mode": {
    "name": "ipython",
    "version": 3
   },
   "file_extension": ".py",
   "mimetype": "text/x-python",
   "name": "python",
   "nbconvert_exporter": "python",
   "pygments_lexer": "ipython3",
   "version": 3
  },
  "orig_nbformat": 2,
  "kernelspec": {
   "name": "python_defaultSpec_1594997782007",
   "display_name": "Python 3.7.1 64-bit ('learnPy': conda)"
  }
 },
 "nbformat": 4,
 "nbformat_minor": 2,
 "cells": [
  {
   "cell_type": "markdown",
   "metadata": {},
   "source": [
    "### This file introduce dictionary type"
   ]
  },
  {
   "cell_type": "markdown",
   "metadata": {},
   "source": [
    "## 字典类型：dict\n",
    "+ 字典在其他编程语言中又称作关联数组或散列表\n",
    "\n",
    "### 特点：\n",
    "+ 通过键实现元素存取\n",
    "+ 无序集合\n",
    "+ 可变类型容器，所以长度可变，支持异构和嵌套\n",
    "\n",
    "### 形式：\n",
    "+ {key1:value1, key2:value2, ...}\n",
    "+ {}：空字典"
   ]
  },
  {
   "cell_type": "code",
   "execution_count": 1,
   "metadata": {
    "tags": []
   },
   "outputs": [
    {
     "output_type": "stream",
     "name": "stdout",
     "text": "[1, 2, 3, 4]\n[2, 3, 4]\n"
    }
   ],
   "source": [
    "d1 = {'x':32, 'y':[1, 2, 3, 4]}\n",
    "print(d1['y'])\n",
    "print(d1['y'][1:])"
   ]
  },
  {
   "cell_type": "code",
   "execution_count": 2,
   "metadata": {},
   "outputs": [
    {
     "output_type": "execute_result",
     "data": {
      "text/plain": "2"
     },
     "metadata": {},
     "execution_count": 2
    }
   ],
   "source": [
    "len(d1)"
   ]
  },
  {
   "cell_type": "code",
   "execution_count": 3,
   "metadata": {
    "tags": []
   },
   "outputs": [
    {
     "output_type": "stream",
     "name": "stdout",
     "text": "{'x': 504, 'y': [1, 2, 3, 4]}\n"
    }
   ],
   "source": [
    "d1['x'] = 504\n",
    "print(d1)"
   ]
  },
  {
   "cell_type": "markdown",
   "metadata": {},
   "source": [
    "### 字典的内置函数"
   ]
  },
  {
   "cell_type": "code",
   "execution_count": 4,
   "metadata": {
    "tags": []
   },
   "outputs": [
    {
     "output_type": "stream",
     "name": "stdout",
     "text": "{} 0\n"
    }
   ],
   "source": [
    "d1.clear() # 清空字典的元素\n",
    "print(d1, len(d1))"
   ]
  },
  {
   "cell_type": "code",
   "execution_count": 5,
   "metadata": {
    "tags": []
   },
   "outputs": [
    {
     "output_type": "stream",
     "name": "stdout",
     "text": "{'x': 504, 'y': [1, 2, 3, 4]}\n"
    }
   ],
   "source": [
    "d1 = {'x': 504, 'y': [1, 2, 3, 4]}\n",
    "d2 = d1.copy()\n",
    "print(d2)"
   ]
  },
  {
   "cell_type": "code",
   "execution_count": 6,
   "metadata": {
    "tags": []
   },
   "outputs": [
    {
     "output_type": "stream",
     "name": "stdout",
     "text": "{'x': 504, 'y': [1, 2, 3, 4]}\n2673290029528 2673290030608 2673290029528\n"
    }
   ],
   "source": [
    "d3 = d1\n",
    "print(d3)\n",
    "print(id(d1), id(d2), id(d3)) # 可见使用copy函数是创建新字典对象，而直接复制是指向同一对象"
   ]
  },
  {
   "cell_type": "code",
   "execution_count": 7,
   "metadata": {
    "tags": []
   },
   "outputs": [
    {
     "output_type": "stream",
     "name": "stdout",
     "text": "Help on built-in function fromkeys:\n\nfromkeys(iterable, value=None, /) method of builtins.type instance\n    Create a new dictionary with keys from iterable and values set to value.\n\n"
    }
   ],
   "source": [
    "help(dict.fromkeys)"
   ]
  },
  {
   "cell_type": "code",
   "execution_count": 8,
   "metadata": {
    "tags": []
   },
   "outputs": [
    {
     "output_type": "stream",
     "name": "stdout",
     "text": "{1: 'go', 2: 'go', 3: 'go'}\n"
    }
   ],
   "source": [
    "d4 = dict.fromkeys((1, 2, 3), 'go') # 创建新的字典，其中参数1为key，参数2为value,默认是None\n",
    "print(d4)"
   ]
  },
  {
   "cell_type": "code",
   "execution_count": 9,
   "metadata": {
    "tags": []
   },
   "outputs": [
    {
     "output_type": "stream",
     "name": "stdout",
     "text": "504\nNone\n"
    }
   ],
   "source": [
    "print(d1.get('x')) # 获取参数对应的value\n",
    "print(d1.get('k')) # 如果没有该键，也不会抛出异常。但是你用d1['k']就会有异常"
   ]
  },
  {
   "cell_type": "code",
   "execution_count": 10,
   "metadata": {
    "tags": []
   },
   "outputs": [
    {
     "output_type": "stream",
     "name": "stdout",
     "text": "Help on method_descriptor:\n\nitems(...)\n    D.items() -> a set-like object providing a view on D's items\n\nNone\n\n\ndict_items([('x', 504), ('y', [1, 2, 3, 4])])\n('x', 504)\n('y', [1, 2, 3, 4])\n"
    }
   ],
   "source": [
    "print(help(dict.items))\n",
    "print('\\n')\n",
    "print(d1.items()) # 返回列表，其中元素为二元元组。也就是字典变为元组列表\n",
    "t1, t2 = d1.items() # 这种也叫变量解包\n",
    "print(t1)\n",
    "print(t2)"
   ]
  },
  {
   "cell_type": "code",
   "execution_count": 11,
   "metadata": {
    "tags": []
   },
   "outputs": [
    {
     "output_type": "stream",
     "name": "stdout",
     "text": "x\ny\n"
    }
   ],
   "source": [
    "m1, m2 = {'x':1, 'y':2} # 注意这个字典解包导出的是key，而不是value\n",
    "print(m1)\n",
    "print(m2)"
   ]
  },
  {
   "cell_type": "code",
   "execution_count": 12,
   "metadata": {
    "tags": []
   },
   "outputs": [
    {
     "output_type": "stream",
     "name": "stdout",
     "text": "dict_items([('x', 504), ('y', [1, 2, 3, 4])])\ndict_keys(['x', 'y'])\ndict_values([504, [1, 2, 3, 4]])\n"
    }
   ],
   "source": [
    "print(d1.items()) # 返回键-值的元组列表\n",
    "print(d1.keys()) # 返回键列表\n",
    "print(d1.values()) # 返回值列表"
   ]
  },
  {
   "cell_type": "code",
   "execution_count": 13,
   "metadata": {
    "tags": []
   },
   "outputs": [
    {
     "output_type": "stream",
     "name": "stdout",
     "text": "504\n{'y': [1, 2, 3, 4]}\n"
    }
   ],
   "source": [
    "print(d1.pop('x')) # 弹出键为参数的value值\n",
    "print(d1)"
   ]
  },
  {
   "cell_type": "code",
   "execution_count": 14,
   "metadata": {
    "tags": []
   },
   "outputs": [
    {
     "output_type": "stream",
     "name": "stdout",
     "text": "('z', 3)\n('y', 2)\n{'x': 1}\n"
    }
   ],
   "source": [
    "d2 = {'x':1, 'y':2, 'z':3}\n",
    "print(d2.popitem()) # 弹出最后一个(也许是随机弹出)键-值元组\n",
    "print(d2.popitem())\n",
    "print(d2)"
   ]
  },
  {
   "cell_type": "code",
   "execution_count": 15,
   "metadata": {
    "tags": []
   },
   "outputs": [
    {
     "output_type": "stream",
     "name": "stdout",
     "text": "Help on method_descriptor:\n\npopitem(...)\n    D.popitem() -> (k, v), remove and return some (key, value) pair as a\n    2-tuple; but raise KeyError if D is empty.\n\n"
    }
   ],
   "source": [
    "help(dict.popitem)"
   ]
  },
  {
   "cell_type": "code",
   "execution_count": 16,
   "metadata": {
    "tags": []
   },
   "outputs": [
    {
     "output_type": "stream",
     "name": "stdout",
     "text": "{'x': 1, 'y': 44, 'm': 21, 'n': 76}\n"
    }
   ],
   "source": [
    "d1 = {'x':1, 'y':2}\n",
    "d2 = {'m':21, 'n':76, 'y':44}\n",
    "d1.update(d2) # 合并字典，若有相同的key，则以参数中的字典为准，覆盖掉旧的\n",
    "print(d1)"
   ]
  },
  {
   "cell_type": "code",
   "execution_count": 17,
   "metadata": {
    "tags": []
   },
   "outputs": [
    {
     "output_type": "stream",
     "name": "stdout",
     "text": "{'name': 'Jackko', 'age': 24, 'gender': 'm'}\n"
    }
   ],
   "source": [
    "d3 = dict(name='Jackko', age=24, gender='m') # 定义字典，注意key都是字符串类型或数字类型\n",
    "print(d3)"
   ]
  },
  {
   "cell_type": "code",
   "execution_count": 18,
   "metadata": {
    "tags": []
   },
   "outputs": [
    {
     "output_type": "stream",
     "name": "stdout",
     "text": "Jackko\n120\n{'name': 'Jackko', 'age': 24, 'gender': 'm', 'weight': 120}\n"
    }
   ],
   "source": [
    "print(d3.setdefault('name', None)) # 功能类似get(),获取参数1的value值\n",
    "print(d3.setdefault('weight', 120)) # 若没有，则添加参数key-value到字典，并返回参数value\n",
    "print(d3)"
   ]
  },
  {
   "cell_type": "code",
   "execution_count": 19,
   "metadata": {
    "tags": []
   },
   "outputs": [
    {
     "output_type": "stream",
     "name": "stdout",
     "text": "[('x', '1'), ('y', '2'), ('z', '3')]\n[('x', '1'), ('y', '2'), ('z', '3')]\n[('x', '1'), ('y', '2'), ('z', '3')]\n"
    }
   ],
   "source": [
    "zip('xyz', '123') # 将序列一一对应组成元组，返回的是对象，节省内存。需要用list()来查看\n",
    "print(list((zip('xyz', '123'))))\n",
    "print(list((zip('xyzm', '123')))) # 只会一一对应，多的不要\n",
    "print(list((zip('xyz', '1234'))))"
   ]
  },
  {
   "cell_type": "code",
   "execution_count": 20,
   "metadata": {
    "tags": []
   },
   "outputs": [
    {
     "output_type": "stream",
     "name": "stdout",
     "text": "{'x': '1', 'y': '2', 'z': '3'}\n"
    }
   ],
   "source": [
    "d4 = dict(zip('xyz', '123')) # 构建字典\n",
    "print(d4)"
   ]
  }
 ]
}
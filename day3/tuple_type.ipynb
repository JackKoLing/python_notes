{
 "metadata": {
  "language_info": {
   "codemirror_mode": {
    "name": "ipython",
    "version": 3
   },
   "file_extension": ".py",
   "mimetype": "text/x-python",
   "name": "python",
   "nbconvert_exporter": "python",
   "pygments_lexer": "ipython3",
   "version": 3
  },
  "orig_nbformat": 2,
  "kernelspec": {
   "name": "python_defaultSpec_1594989269904",
   "display_name": "Python 3.7.1 64-bit ('learnPy': conda)"
  }
 },
 "nbformat": 4,
 "nbformat_minor": 2,
 "cells": [
  {
   "cell_type": "markdown",
   "metadata": {},
   "source": [
    "### This file introduce tuple type"
   ]
  },
  {
   "cell_type": "markdown",
   "metadata": {},
   "source": [
    "### 前言：序列类型\n",
    "+ 字符串、列表、元组\n",
    "+ 其中字符和元组是不可变序列，而列表支持插入、删除和替换元素，它们都支持迭代"
   ]
  },
  {
   "cell_type": "markdown",
   "metadata": {},
   "source": [
    "## 元组类型\n",
    "+ 表达式符号：()"
   ]
  },
  {
   "cell_type": "markdown",
   "metadata": {},
   "source": [
    "### 1、容器类型\n",
    "+ 任意对象的有序集合，通过索引访问其中的元素，不可变对象，长度固定\n",
    "+ 支持异构，嵌套"
   ]
  },
  {
   "cell_type": "code",
   "execution_count": 1,
   "metadata": {
    "tags": []
   },
   "outputs": [
    {
     "output_type": "stream",
     "name": "stdout",
     "text": "1\n3\n"
    }
   ],
   "source": [
    "t1 = (1, 2, 3, 4)\n",
    "print(t1.count(2)) # 统计指定元素出现次数\n",
    "print(t1.index(4)) # 返回指定元素的索引"
   ]
  },
  {
   "cell_type": "markdown",
   "metadata": {},
   "source": [
    "### 2、常见操作：\n",
    "+ () 空元组\n",
    "+ (1,) 单元素元组,注意必须要加逗号，不然被识别成简单类型\n",
    "+ (1, 2) 双元素元组\n",
    "+ t = 'x', 'y', 'z' 定义元组可以省去括号\n",
    "+ t1 + t2 会将元素合并，变成新元组\n",
    "+ t1 * N 把元组重复N遍\n",
    "+ 支持in和not in"
   ]
  },
  {
   "cell_type": "code",
   "execution_count": 2,
   "metadata": {
    "tags": []
   },
   "outputs": [
    {
     "output_type": "stream",
     "name": "stdout",
     "text": "(1, 2, 3, 4)\n(2, 3, 4)\n"
    }
   ],
   "source": [
    "print(t1)\n",
    "print(t1[1:])"
   ]
  },
  {
   "cell_type": "code",
   "execution_count": 3,
   "metadata": {
    "tags": []
   },
   "outputs": [
    {
     "output_type": "stream",
     "name": "stdout",
     "text": "0 <class 'tuple'>\n"
    }
   ],
   "source": [
    "t2 = ()\n",
    "print(len(t2), type(t2))"
   ]
  },
  {
   "cell_type": "code",
   "execution_count": 4,
   "metadata": {
    "tags": []
   },
   "outputs": [
    {
     "output_type": "stream",
     "name": "stdout",
     "text": "(1,) 1 <class 'tuple'>\n1 <class 'int'>\n"
    }
   ],
   "source": [
    "t3 = (1, ) # 元组\n",
    "print(t3, len(t3), type(t3))\n",
    "t4 = (1) # 整数\n",
    "print(t4, type(t4))"
   ]
  },
  {
   "cell_type": "code",
   "execution_count": 5,
   "metadata": {
    "tags": []
   },
   "outputs": [
    {
     "output_type": "stream",
     "name": "stdout",
     "text": "(1, 2) 2 <class 'tuple'>\n"
    }
   ],
   "source": [
    "t4 = (1, 2)\n",
    "print(t4, len(t4), type(t4))"
   ]
  },
  {
   "cell_type": "code",
   "execution_count": 6,
   "metadata": {
    "tags": []
   },
   "outputs": [
    {
     "output_type": "stream",
     "name": "stdout",
     "text": "('x', 'y', 'z', 1, 2) <class 'tuple'>\n"
    }
   ],
   "source": [
    "t4 = 'x', 'y', 'z', 1, 2\n",
    "print(t4, type(t4)) "
   ]
  },
  {
   "cell_type": "code",
   "execution_count": 7,
   "metadata": {
    "tags": []
   },
   "outputs": [
    {
     "output_type": "stream",
     "name": "stdout",
     "text": "(1, 2, 3, 4)\n('x', 'y', 'z', 1, 2)\n(1, 2, 3, 4, 'x', 'y', 'z', 1, 2)\n"
    }
   ],
   "source": [
    "print(t1)\n",
    "print(t4)\n",
    "print(t1 + t4)"
   ]
  },
  {
   "cell_type": "code",
   "execution_count": 8,
   "metadata": {
    "tags": []
   },
   "outputs": [
    {
     "output_type": "stream",
     "name": "stdout",
     "text": "(1, 2, 3, 4, 1, 2, 3, 4, 1, 2, 3, 4)\n"
    }
   ],
   "source": [
    "print(t1 * 3)"
   ]
  },
  {
   "cell_type": "code",
   "execution_count": 9,
   "metadata": {
    "tags": []
   },
   "outputs": [
    {
     "output_type": "stream",
     "name": "stdout",
     "text": "True\n"
    }
   ],
   "source": [
    "print('x' in t4)"
   ]
  },
  {
   "cell_type": "code",
   "execution_count": 10,
   "metadata": {
    "tags": []
   },
   "outputs": [
    {
     "output_type": "stream",
     "name": "stdout",
     "text": "('x', [1, 2, 3])\n"
    }
   ],
   "source": [
    "t5 = ('x', [1, 2, 3]) # 嵌套\n",
    "print(t5)"
   ]
  },
  {
   "cell_type": "code",
   "execution_count": 11,
   "metadata": {
    "tags": []
   },
   "outputs": [
    {
     "output_type": "stream",
     "name": "stdout",
     "text": "('x', [1, 2])\n"
    }
   ],
   "source": [
    "t5[1].pop() \n",
    "print(t5) # 可见元组虽然不可变，但嵌套中的元素是可变的，则可变。注意修改的只是引用，不会是新元组"
   ]
  }
 ]
}
{
 "metadata": {
  "language_info": {
   "codemirror_mode": {
    "name": "ipython",
    "version": 3
   },
   "file_extension": ".py",
   "mimetype": "text/x-python",
   "name": "python",
   "nbconvert_exporter": "python",
   "pygments_lexer": "ipython3",
   "version": "3.7.1-final"
  },
  "orig_nbformat": 2,
  "kernelspec": {
   "name": "python_defaultSpec_1599147733974",
   "display_name": "Python 3.7.1 64-bit ('learnPy': conda)"
  }
 },
 "nbformat": 4,
 "nbformat_minor": 2,
 "cells": [
  {
   "cell_type": "markdown",
   "metadata": {},
   "source": [
    "## This file introduce recursion and design rule."
   ]
  },
  {
   "cell_type": "markdown",
   "metadata": {},
   "source": [
    "### 递归：\n",
    "+ 自己调用自己\n",
    "+ 需要：边界条件、递归前进段和递归返回段"
   ]
  },
  {
   "cell_type": "code",
   "execution_count": 1,
   "metadata": {
    "tags": []
   },
   "outputs": [
    {
     "output_type": "stream",
     "name": "stdout",
     "text": "6\n720\n"
    }
   ],
   "source": [
    "# 用递归计算阶乘\n",
    "def fact(n):\n",
    "    if n<=1:\n",
    "        return 1\n",
    "    else:\n",
    "        return n*fact(n-1)\n",
    "\n",
    "print(fact(3))\n",
    "print(fact(6))"
   ]
  },
  {
   "cell_type": "markdown",
   "metadata": {},
   "source": [
    "### 函数的设计规范：\n",
    "#### 耦合性：\n",
    "+ 通过参数接受输入，以及通过return产生输出，以保证函数的独立性\n",
    "+ 尽量减少使用全局变量进行函数间通信\n",
    "+ 不要在函数中修改可变类型的参数\n",
    "+ 避免直接改变定义在另外一个模块中的变量\n",
    "\n",
    "#### 聚合性：\n",
    "+ 每个函数都应该有一个单一的、统一的目标\n",
    "+ 每个函数的功能都应该相对简单\n"
   ]
  },
  {
   "cell_type": "code",
   "execution_count": null,
   "metadata": {},
   "outputs": [],
   "source": []
  }
 ]
}
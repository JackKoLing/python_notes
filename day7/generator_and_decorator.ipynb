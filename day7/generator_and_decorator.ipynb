{
 "metadata": {
  "language_info": {
   "codemirror_mode": {
    "name": "ipython",
    "version": 3
   },
   "file_extension": ".py",
   "mimetype": "text/x-python",
   "name": "python",
   "nbconvert_exporter": "python",
   "pygments_lexer": "ipython3",
   "version": "3.7.1-final"
  },
  "orig_nbformat": 2,
  "kernelspec": {
   "name": "python_defaultSpec_1599145060232",
   "display_name": "Python 3.7.1 64-bit ('learnPy': conda)"
  }
 },
 "nbformat": 4,
 "nbformat_minor": 2,
 "cells": [
  {
   "cell_type": "markdown",
   "metadata": {},
   "source": [
    "## This file introduce generator and decorators."
   ]
  },
  {
   "cell_type": "code",
   "execution_count": 1,
   "metadata": {
    "tags": []
   },
   "outputs": [
    {
     "output_type": "stream",
     "name": "stdout",
     "text": "1\n4\n9\n16\n25\n36\n49\n64\n81\n100\n"
    }
   ],
   "source": [
    "# 生成1到10的平方\n",
    "for i in (j**2 for j in range(1, 11)):\n",
    "    print(i)"
   ]
  },
  {
   "cell_type": "code",
   "execution_count": 2,
   "metadata": {
    "tags": []
   },
   "outputs": [
    {
     "output_type": "stream",
     "name": "stdout",
     "text": "[1, 4, 9, 16, 25, 36, 49, 64, 81, 100]\n"
    }
   ],
   "source": [
    "# 也可以转为列表\n",
    "print(list(i**2 for i in range(1, 11)))"
   ]
  },
  {
   "cell_type": "markdown",
   "metadata": {},
   "source": [
    "### 生成器(generator):\n",
    "+ 生成器是指含有yield的函数\n",
    "+ 在调用生成器运行的过程中，每次遇到 yield 时函数会暂停并保存当前所有的运行信息，返回 yield 的值\n",
    "+ 并在下一次执行 next() 方法时从当前位置继续运行"
   ]
  },
  {
   "cell_type": "code",
   "execution_count": 3,
   "metadata": {
    "tags": []
   },
   "outputs": [
    {
     "output_type": "stream",
     "name": "stdout",
     "text": "<class 'generator'>\n1\n4\n9\n16\n25\n36\n49\n64\n81\n100\n"
    }
   ],
   "source": [
    "# 也可以使用含有yield的函数来生成\n",
    "def gen_num(x):\n",
    "    i = 1\n",
    "    while i <= x:\n",
    "        yield i**2 # 遇到yield就返回其后面的信息\n",
    "        i += 1\n",
    "\n",
    "g1 = gen_num(10) # 返回的是生成器对象\n",
    "print(type(g1))\n",
    "\n",
    "# print(next(g1)) # 输出一个\n",
    "\n",
    "for i in g1:\n",
    "    print(i)"
   ]
  },
  {
   "cell_type": "markdown",
   "metadata": {},
   "source": [
    "### 装饰器(Decorators)：\n",
    "+ 装饰器本身就是一个函数，用于装饰其他函数\n",
    "+ 用于增强被装饰函数的功功能\n",
    "+ 一般接受一个函数对象作为参数，以对其进行增强"
   ]
  },
  {
   "cell_type": "code",
   "execution_count": 4,
   "metadata": {
    "tags": []
   },
   "outputs": [
    {
     "output_type": "stream",
     "name": "stdout",
     "text": "please say something:\nI am from Mars.\nNo zuo no die.\n"
    }
   ],
   "source": [
    "# 使用闭包定义一个装饰器，通过@来引用装饰器\n",
    "def deco(func):\n",
    "    def wrapper(x):\n",
    "        print(\"please say something:\")\n",
    "        func(x)\n",
    "        print(\"No zuo no die.\")\n",
    "    return wrapper\n",
    "\n",
    "@deco\n",
    "def show(x):\n",
    "    print(x)\n",
    "\n",
    "show(\"I am from Mars.\") # 原来函数只说一句话，现在将其增强为说三句话"
   ]
  },
  {
   "cell_type": "code",
   "execution_count": null,
   "metadata": {},
   "outputs": [],
   "source": []
  }
 ]
}
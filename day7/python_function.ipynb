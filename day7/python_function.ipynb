{
 "metadata": {
  "language_info": {
   "codemirror_mode": {
    "name": "ipython",
    "version": 3
   },
   "file_extension": ".py",
   "mimetype": "text/x-python",
   "name": "python",
   "nbconvert_exporter": "python",
   "pygments_lexer": "ipython3",
   "version": "3.7.1-final"
  },
  "orig_nbformat": 2,
  "kernelspec": {
   "name": "python_defaultSpec_1599394205426",
   "display_name": "Python 3.7.1 64-bit ('learnPy': conda)"
  }
 },
 "nbformat": 4,
 "nbformat_minor": 2,
 "cells": [
  {
   "cell_type": "markdown",
   "metadata": {},
   "source": [
    "## This file introduce python function."
   ]
  },
  {
   "cell_type": "markdown",
   "metadata": {},
   "source": [
    "### 函数的基础概念：\n",
    "+ 函数是Python为了代码最大程度地重用和最小化代码冗余而提供的基本程序结构\n",
    "+ 函数是一种设计工具，它能让程序员将复杂的系统分解为可管理的部件\n",
    "+ 简单来说，函数就是用于将相关功能打包并参数化"
   ]
  },
  {
   "cell_type": "markdown",
   "metadata": {},
   "source": [
    "### python可以创建4种函数：\n",
    "+ 全局函数：定义在模块（.py文件）中\n",
    "+ 局部函数：嵌套于其他函数中\n",
    "+ lambda函数：表达式\n",
    "+ 方法：与特定数据类型关联的函数，并且只能与数据类型关联一起使用。也就是类中的函数\n",
    "\n",
    "#### python还提供了许多内置函数"
   ]
  },
  {
   "cell_type": "markdown",
   "metadata": {},
   "source": [
    "### 一些相关的概念：\n",
    "+ def是一个可执行的语句，故可出现在任何能够使用语句的地方，可嵌套于其他语句，如if、while\n",
    "+ def创建了一个对象并将其赋值给一个变量名（即函数名）\n",
    "+ return用于返回结果对象，其为可选。无return语句的函数默认返回None对象\n",
    "+ return返回多个值时，彼此间用逗号分隔，且组合为元组形式返回一个对象\n",
    "+ def语句运行之后，可以在程序中通过函数后附加括号进行调用"
   ]
  },
  {
   "cell_type": "code",
   "execution_count": 1,
   "metadata": {
    "tags": []
   },
   "outputs": [
    {
     "output_type": "stream",
     "name": "stdout",
     "text": "Hello!\n"
    }
   ],
   "source": [
    "def printName():\n",
    "    print(\"Hello!\")\n",
    "\n",
    "printName()"
   ]
  },
  {
   "cell_type": "code",
   "execution_count": 2,
   "metadata": {},
   "outputs": [],
   "source": [
    "def testFunc():\n",
    "    pass # 占位符，先定义好函数名，后续再把功能补全\n",
    "\n",
    "testFunc()"
   ]
  },
  {
   "cell_type": "markdown",
   "metadata": {},
   "source": [
    "### 函数作用域：\n",
    "+ Python创建、改变或查找变量名都是在名称空间（即变量作用范围）中进行\n",
    "+ 在代码中变量名被赋值的位置决定了其能被访问到的范围\n",
    "+ 函数定义了本地作用域，而模块定义了全局作用域\n",
    "+ 每个模块都是一个全局作用域，故其范围仅限于单个程序文件\n",
    "+ 每次对函数的调用都会创建一个新的本地作用域，赋值的变量除非声明为全局变量，否则均为本地变量\n",
    "+ 所有的变量名都可以归纳为本地、全局或内置的（\\__builtin\\__模块提供）\n",
    "+ 函数中可以直接使用全局变量，但要想在函数中改变全局变量，需要将函数中的同名变量定义为global（避免使用这个）"
   ]
  },
  {
   "cell_type": "markdown",
   "metadata": {},
   "source": [
    "### 变量名解析：LEGB原则\n",
    "+ 变量名引用，首先找的是本地作用域（Local），如果没有，就找外地作用域（Enclosing）\n",
    "+ 如果还是没有，就找全局作用域（Global）,如果还是没有，就找内置函数作用域（Built-in）\n",
    "+ 若找到，就直接返回。如果都没有，那就有异常"
   ]
  },
  {
   "cell_type": "code",
   "execution_count": 3,
   "metadata": {
    "tags": []
   },
   "outputs": [
    {
     "output_type": "stream",
     "name": "stdout",
     "text": "from f1 from global\nfrom f2 3 from global\n"
    }
   ],
   "source": [
    "x = 6\n",
    "z = \"from global\"\n",
    "def f1():\n",
    "    x = \"from f1\"\n",
    "    y = 3\n",
    "    print(x, z)\n",
    "    def f2():\n",
    "        x = \"from f2\"\n",
    "        print(x, y, z) # z本地没有，找外部。外部没有，找全局\n",
    "    f2() # 在f1中调用f2\n",
    "\n",
    "f1()"
   ]
  },
  {
   "cell_type": "markdown",
   "metadata": {},
   "source": [
    "### python闭包(lexical closure)：\n",
    "+ 定义在外层函数内，但是被内层函数引用的变量，在外层函数返回时，如果外层函数将内层函数\n",
    "+ 作为返回结果，则再次调用内层函数时，仍然可以使用外层函数的变量，它实现了记忆的效果。这种机制叫闭包"
   ]
  },
  {
   "cell_type": "code",
   "execution_count": 4,
   "metadata": {
    "tags": []
   },
   "outputs": [
    {
     "output_type": "stream",
     "name": "stdout",
     "text": "<function f1.<locals>.f2 at 0x000002A8DDC5DE18>\n<class 'function'>\n8\n64\n"
    }
   ],
   "source": [
    "def f1(x):\n",
    "    def f2(y):\n",
    "        return y ** x\n",
    "    return f2\n",
    "\n",
    "print(f1(3))\n",
    "a1 = f1(3) # 注意，a1是一个函数\n",
    "print(type(a1))\n",
    "print(a1(2)) # 注意，f1虽然调用完了，但是其变量x已经被内层函数记住了\n",
    "print(a1(4))"
   ]
  },
  {
   "cell_type": "code",
   "execution_count": 5,
   "metadata": {
    "tags": []
   },
   "outputs": [
    {
     "output_type": "stream",
     "name": "stdout",
     "text": "The old position is (10, 10), and the new position is (11, 12).\nThe old position is (10, 10), and the new position is (9, 13).\n"
    }
   ],
   "source": [
    "# 闭包应用：外层循环只是用于提供参数，给内层函数提供运行环境。比如下棋\n",
    "def start_pos(m, n):\n",
    "    def new_pos(x, y):\n",
    "        print(\"The old position is (%d, %d), and the new position is (%d, %d).\"%(m, n, m+x, n+y))\n",
    "    return new_pos\n",
    "\n",
    "action = start_pos(10, 10)\n",
    "action(1, 2)\n",
    "action(-1, 3)"
   ]
  },
  {
   "cell_type": "markdown",
   "metadata": {},
   "source": [
    "### 函数参数:\n",
    "+ 多态性：一个函数实现多种类型操作\n"
   ]
  },
  {
   "cell_type": "code",
   "execution_count": 6,
   "metadata": {
    "tags": []
   },
   "outputs": [
    {
     "output_type": "stream",
     "name": "stdout",
     "text": "3\nJackko\n"
    }
   ],
   "source": [
    "def f1(x):\n",
    "    print(x)\n",
    "f1(3)\n",
    "f1(\"Jackko\")"
   ]
  },
  {
   "cell_type": "code",
   "execution_count": 7,
   "metadata": {
    "tags": []
   },
   "outputs": [
    {
     "output_type": "stream",
     "name": "stdout",
     "text": "7\nhello world\n"
    }
   ],
   "source": [
    "def f2(x, y):\n",
    "    print(x+y)\n",
    "f2(3, 4)\n",
    "f2(\"hello \", \"world\")"
   ]
  },
  {
   "cell_type": "code",
   "execution_count": 8,
   "metadata": {
    "tags": []
   },
   "outputs": [
    {
     "output_type": "stream",
     "name": "stdout",
     "text": "2 4\n3 4\n"
    }
   ],
   "source": [
    "m=3\n",
    "n=4\n",
    "def f3(x, y):\n",
    "    x -= 1\n",
    "    print(x, y)\n",
    "f3(m, n)\n",
    "print(m, n) # 变量是不可变对象"
   ]
  },
  {
   "cell_type": "code",
   "execution_count": 9,
   "metadata": {
    "tags": []
   },
   "outputs": [
    {
     "output_type": "stream",
     "name": "stdout",
     "text": "[1, 2]\n"
    }
   ],
   "source": [
    "l1 = [1, 2, 3]\n",
    "def f4(x):\n",
    "    x.pop()\n",
    "    print(x)\n",
    "f4(l1) # 列表是可变对象"
   ]
  },
  {
   "cell_type": "code",
   "execution_count": 10,
   "metadata": {
    "tags": []
   },
   "outputs": [
    {
     "output_type": "stream",
     "name": "stdout",
     "text": "[1, 2]\n[1, 2, 3]\n"
    }
   ],
   "source": [
    "l1 = [1, 2, 3]\n",
    "def f5(x):\n",
    "    x.pop()\n",
    "    print(x)\n",
    "f5(l1[:]) # 不要把l1传过去，而是弄一个切片新对象\n",
    "print(l1)"
   ]
  },
  {
   "cell_type": "markdown",
   "metadata": {},
   "source": [
    "### 参数匹配模型\n",
    "+ 默认情况下，参数通过其位置进行传递，从左到右，所以必须精准地传递和函数头部参数一样多的参数，也可以通过关键字参数、默认参数或参数容器等改变这种机制\n",
    "+ 位置参数：从左到右，精准匹配\n",
    "+ 关键字参数：调用函数时，使用“name=value”的语法通过参数名进行匹配\n",
    "+ 默认参数：定义函数时，使用“name=value”的语法直接给变量一个值，从而传入的值可以少于参数个数\n",
    "+ 可变参数：定义函数时，使用*开头的参数，可用于收集任意多基于位置或关键字的参数\n",
    "+ 可变参数解包：调用函数时，使用*开头的参数，可用于将参数集合打散，从而传递任意多基于位置或关键字的参数"
   ]
  },
  {
   "cell_type": "code",
   "execution_count": 11,
   "metadata": {
    "tags": []
   },
   "outputs": [
    {
     "output_type": "stream",
     "name": "stdout",
     "text": "3 4\n"
    }
   ],
   "source": [
    "# 位置参数：从左到右，精准匹配\n",
    "m = 3\n",
    "n = 4\n",
    "def f6(x, y):\n",
    "    print(x, y)\n",
    "f6(m, n) "
   ]
  },
  {
   "cell_type": "code",
   "execution_count": 12,
   "metadata": {
    "tags": []
   },
   "outputs": [
    {
     "output_type": "stream",
     "name": "stdout",
     "text": "4 3\n"
    }
   ],
   "source": [
    "# 关键字参数，在调用时使用关键字\n",
    "f6(y=m, x=n)"
   ]
  },
  {
   "cell_type": "code",
   "execution_count": 13,
   "metadata": {
    "tags": []
   },
   "outputs": [
    {
     "output_type": "stream",
     "name": "stdout",
     "text": "3 4 7\n"
    }
   ],
   "source": [
    "# 混用位置参数和关键字参数时，从左到右，必须先放所有的位置参数，再放所有的关键字参数\n",
    "o = 7\n",
    "def f7(x, y, z):\n",
    "    print(x, y, z)\n",
    "f7(m, z=o, y=n) # f7(z=o, y=n, m)则是语法错误"
   ]
  },
  {
   "cell_type": "code",
   "execution_count": 14,
   "metadata": {
    "tags": []
   },
   "outputs": [
    {
     "output_type": "stream",
     "name": "stdout",
     "text": "3 4 7\n3 4 9\n"
    }
   ],
   "source": [
    "# 默认参数：在定义函数时使用，也是要求默认的参数放在后面\n",
    "def f8(x, y, z=9):\n",
    "    print(x, y, z)\n",
    "f8(m, n, o)\n",
    "f8(m, n)"
   ]
  },
  {
   "cell_type": "code",
   "execution_count": 15,
   "metadata": {
    "tags": []
   },
   "outputs": [
    {
     "output_type": "stream",
     "name": "stdout",
     "text": "(3,)\n(3, 4, 7)\n(3, 4, 9)\n"
    }
   ],
   "source": [
    "# 可变参数：在定义函数时使用,类似于收集参数。一个*是收集位置参数，返回元组\n",
    "def f9(*x):\n",
    "    print(x)\n",
    "f9(m)\n",
    "f9(m, n, o)\n",
    "f9(m, n, 9)"
   ]
  },
  {
   "cell_type": "code",
   "execution_count": 16,
   "metadata": {
    "tags": []
   },
   "outputs": [
    {
     "output_type": "stream",
     "name": "stdout",
     "text": "{'x': 1, 'y': 2, 'z': 9}\n"
    }
   ],
   "source": [
    "# 可变参数的两个*是收集关键字参数，返回字典类型\n",
    "def f10(**x):\n",
    "    print(x)\n",
    "f10(x=1, y=2, z=9)"
   ]
  },
  {
   "cell_type": "code",
   "execution_count": 17,
   "metadata": {
    "tags": []
   },
   "outputs": [
    {
     "output_type": "stream",
     "name": "stdout",
     "text": "3 (4, 7)\n"
    }
   ],
   "source": [
    "# 混用位置参数和可变参数\n",
    "def f11(x, *y):\n",
    "    print(x, y)\n",
    "f11(m, n, o)"
   ]
  },
  {
   "cell_type": "code",
   "execution_count": 18,
   "metadata": {
    "tags": []
   },
   "outputs": [
    {
     "output_type": "stream",
     "name": "stdout",
     "text": "3\n4\n(7,)\n3\n10\n()\n"
    }
   ],
   "source": [
    "def f12(x, y=10, *z):\n",
    "    print(x)\n",
    "    print(y)\n",
    "    print(z)\n",
    "f12(m, n, o)\n",
    "f12(m)"
   ]
  },
  {
   "cell_type": "code",
   "execution_count": 19,
   "metadata": {
    "tags": []
   },
   "outputs": [
    {
     "output_type": "stream",
     "name": "stdout",
     "text": "(3, 4, 7)\n{'i': 3, 'j': 6}\n"
    }
   ],
   "source": [
    "def f13(*x, **y):\n",
    "    print(x)\n",
    "    print(y)\n",
    "f13(m, n, o, i=3, j=6)"
   ]
  },
  {
   "cell_type": "code",
   "execution_count": 20,
   "metadata": {
    "tags": []
   },
   "outputs": [
    {
     "output_type": "stream",
     "name": "stdout",
     "text": "Sun Mon Tus\n3 a b\n"
    }
   ],
   "source": [
    "# 可变参数解包：在调用函数时使用，刚好和可变参数相反，这是分解参数\n",
    "l1 = ['Sun', 'Mon', 'Tus']\n",
    "def f14(x, y, z):\n",
    "    print(x, y, z)\n",
    "f14(*l1) # 元素个数需要和函数参数匹配\n",
    "l2 = ['a', 'b']\n",
    "f14(m, *l2)"
   ]
  },
  {
   "cell_type": "code",
   "execution_count": 21,
   "metadata": {
    "tags": []
   },
   "outputs": [
    {
     "output_type": "stream",
     "name": "stdout",
     "text": "3\n('a', 'b')\n"
    }
   ],
   "source": [
    "def f15(x, *y):\n",
    "    print(x)\n",
    "    print(y)\n",
    "f15(m, *l2)"
   ]
  },
  {
   "cell_type": "code",
   "execution_count": 22,
   "metadata": {
    "tags": []
   },
   "outputs": [
    {
     "output_type": "stream",
     "name": "stdout",
     "text": "3\n('a', 'b')\n{'k1': 1, 'k2': 2, 'k3': 3}\n"
    }
   ],
   "source": [
    "d1 = {'k1':1, 'k2':2, 'k3':3}\n",
    "def f16(x, *y, **z):\n",
    "    print(x)\n",
    "    print(y)\n",
    "    print(z)\n",
    "f16(m, *l2, **d1)"
   ]
  },
  {
   "cell_type": "code",
   "execution_count": 23,
   "metadata": {
    "tags": []
   },
   "outputs": [
    {
     "output_type": "stream",
     "name": "stdout",
     "text": "3\n(4, 7)\n{'k1': 1, 'k2': 2, 'k3': 3}\n"
    }
   ],
   "source": [
    "f16(m, n, o, **d1)"
   ]
  },
  {
   "cell_type": "code",
   "execution_count": 24,
   "metadata": {
    "tags": []
   },
   "outputs": [
    {
     "output_type": "stream",
     "name": "stdout",
     "text": "3\n(4, 7)\n{'k1': 'v1', 'k2': 'v2'}\n"
    }
   ],
   "source": [
    "f16(m, n, o, k1='v1', k2='v2') # 反正就是位置参数，关键字参数对应起来"
   ]
  },
  {
   "cell_type": "markdown",
   "metadata": {},
   "source": [
    "### 匿名函数lambda:\n",
    "+ lambda args: expression\n",
    "+ args是参数，expression是语句\n",
    "+ lambda是一个表达式，而非语句\n",
    "+ lambda语句必须是合法的表达式，它是单个表达式，而不是代码块\n",
    "+ lambda的首要用途是指定短小的回调函数，即函数功能非常简单，可以尝试使用lambda\n",
    "+ lambda将返回一个函数，而不是将函数赋值给某变量名\n",
    "+ lambda也支持使用默认参数，如f=(lambda x,y,z=10: x+y+z)"
   ]
  },
  {
   "cell_type": "code",
   "execution_count": 25,
   "metadata": {},
   "outputs": [
    {
     "output_type": "execute_result",
     "data": {
      "text/plain": "7"
     },
     "metadata": {},
     "execution_count": 25
    }
   ],
   "source": [
    "f = lambda x, y : x+y # 执行x+y\n",
    "f(3, 4)"
   ]
  },
  {
   "cell_type": "code",
   "execution_count": 26,
   "metadata": {
    "tags": []
   },
   "outputs": [
    {
     "output_type": "stream",
     "name": "stdout",
     "text": "8\n12\n"
    }
   ],
   "source": [
    "l3 = [ (lambda x: x*2), (lambda y: y*3)]\n",
    "for i in l3:\n",
    "    print(i(4)) # 函数调用"
   ]
  },
  {
   "cell_type": "markdown",
   "metadata": {},
   "source": [
    "### 函数式编程\n",
    "+ 也叫泛函编程，是一种编程范型\n",
    "+ 它将电脑运算视为数学上的函数计算，并且避免转态以及可变数据\n",
    "+ 函数式编程语言最重要的基础是lambda演算，而且lambda演算的函数可以接受函数当作输入和输出\n",
    "+ python支持有限的函数式编程功能，如filter()、map()、reduce()"
   ]
  },
  {
   "cell_type": "markdown",
   "metadata": {},
   "source": [
    "#### (1)过滤器filter(function, iterable)\n",
    "+ filter()为已知的序列的每个元素调用给定的布尔函数，即用于过滤序列中不符合条件的元素，返回的是迭代器对象\n",
    "+ 调用中，返回值为非零值的元素将被添加至一个列表中"
   ]
  },
  {
   "cell_type": "code",
   "execution_count": 27,
   "metadata": {
    "tags": []
   },
   "outputs": [
    {
     "output_type": "stream",
     "name": "stdout",
     "text": "[34, 25]\n[34, 25]\n"
    }
   ],
   "source": [
    "def f1(x):\n",
    "    if x > 20:\n",
    "        return True\n",
    "    else:\n",
    "        return False\n",
    "\n",
    "def f2(x):\n",
    "    return x > 20\n",
    "\n",
    "l1 = [3, 10, 34, 25]\n",
    "\n",
    "print(list(filter(f1, l1)))\n",
    "print(list(filter(f2, l1)))"
   ]
  },
  {
   "cell_type": "markdown",
   "metadata": {},
   "source": [
    "#### (2)映射器map(function, iterable, ...)\n",
    "+ map()会根据提供的函数，对指定的序列做映射\n"
   ]
  },
  {
   "cell_type": "code",
   "execution_count": 28,
   "metadata": {
    "tags": []
   },
   "outputs": [
    {
     "output_type": "stream",
     "name": "stdout",
     "text": "[0, 2, 4, 6, 8, 10, 12]\n['zerozero', 'oneone', 'twotwo', 'threethree', 'fourfour', 'fivefive', 'sixsix']\n[(0, 'zerozero'), (2, 'oneone'), (4, 'twotwo'), (6, 'threethree'), (8, 'fourfour'), (10, 'fivefive'), (12, 'sixsix')]\n"
    }
   ],
   "source": [
    "l1 = [0, 1, 2, 3, 4, 5, 6]\n",
    "l2 = ['zero', 'one', 'two', 'three', 'four', 'five', 'six']\n",
    "\n",
    "def f3(x):\n",
    "    return x*2\n",
    "print(list(map(f3, l1)))\n",
    "print(list(map(f3, l2)))\n",
    "\n",
    "def f4(x, y):\n",
    "    return x*2, y*2\n",
    "print(list(map(f4, l1, l2))) "
   ]
  },
  {
   "cell_type": "code",
   "execution_count": 29,
   "metadata": {
    "tags": []
   },
   "outputs": [
    {
     "output_type": "stream",
     "name": "stdout",
     "text": "[3, 7, 11]\n"
    }
   ],
   "source": [
    "print(list(map(lambda x,y: x+y, [1,3,5], [2,4,6])))"
   ]
  },
  {
   "cell_type": "markdown",
   "metadata": {},
   "source": [
    "#### (3)reduce()"
   ]
  },
  {
   "cell_type": "code",
   "execution_count": 30,
   "metadata": {
    "tags": []
   },
   "outputs": [
    {
     "output_type": "stream",
     "name": "stdout",
     "text": "21\n31\n"
    }
   ],
   "source": [
    "# python3中已经将reduce()从全局名字空间移出\n",
    "from functools import reduce\n",
    "\n",
    "def f5(x, y):\n",
    "    return x+y\n",
    "print(reduce(f5, l1))\n",
    "print(reduce(f5, l1, 10))"
   ]
  },
  {
   "cell_type": "code",
   "execution_count": null,
   "metadata": {},
   "outputs": [],
   "source": []
  }
 ]
}
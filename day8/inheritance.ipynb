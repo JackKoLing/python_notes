{
 "metadata": {
  "language_info": {
   "codemirror_mode": {
    "name": "ipython",
    "version": 3
   },
   "file_extension": ".py",
   "mimetype": "text/x-python",
   "name": "python",
   "nbconvert_exporter": "python",
   "pygments_lexer": "ipython3",
   "version": "3.7.1-final"
  },
  "orig_nbformat": 2,
  "kernelspec": {
   "name": "python_defaultSpec_1599237498285",
   "display_name": "Python 3.7.1 64-bit"
  }
 },
 "nbformat": 4,
 "nbformat_minor": 2,
 "cells": [
  {
   "cell_type": "markdown",
   "metadata": {},
   "source": [
    "## This file introduce inheritance."
   ]
  },
  {
   "cell_type": "markdown",
   "metadata": {},
   "source": [
    "### 一、类的继承\n",
    "+ 继承描述了父类的属性如何“遗传”给派生类\n",
    "+ 子类可以继承它的父类的任何属性，包括数据属性和方法\n",
    "+ 一个未指定父类的类，其默认有一个名为object的父类\n",
    "+ python允许多重继承，也就是可以有多个父类\n",
    "+ 在创建子类时，只需在类名后跟一个或从其中派生的父类"
   ]
  },
  {
   "cell_type": "code",
   "execution_count": 1,
   "metadata": {
    "tags": []
   },
   "outputs": [
    {
     "output_type": "stream",
     "name": "stdout",
     "text": "Male jackko\n"
    }
   ],
   "source": [
    "class ParentClass(object):\n",
    "    gender = 'Male'\n",
    "    def __init__(self, who):\n",
    "        self.name = who\n",
    "\n",
    "class ChildClass(ParentClass):\n",
    "    def displayInfo(self):\n",
    "        print(self.gender, self.name)\n",
    "\n",
    "x = ChildClass('jackko') # 自动继承父类的属性和方法\n",
    "x.displayInfo()"
   ]
  },
  {
   "cell_type": "code",
   "execution_count": 2,
   "metadata": {
    "tags": []
   },
   "outputs": [
    {
     "output_type": "stream",
     "name": "stdout",
     "text": "['__class__', '__delattr__', '__dict__', '__dir__', '__doc__', '__eq__', '__format__', '__ge__', '__getattribute__', '__gt__', '__hash__', '__init__', '__init_subclass__', '__le__', '__lt__', '__module__', '__ne__', '__new__', '__reduce__', '__reduce_ex__', '__repr__', '__setattr__', '__sizeof__', '__str__', '__subclasshook__', '__weakref__', 'gender']\n"
    }
   ],
   "source": [
    "print(dir(ParentClass))"
   ]
  },
  {
   "cell_type": "code",
   "execution_count": 3,
   "metadata": {
    "tags": []
   },
   "outputs": [
    {
     "output_type": "stream",
     "name": "stdout",
     "text": "['__class__', '__delattr__', '__dict__', '__dir__', '__doc__', '__eq__', '__format__', '__ge__', '__getattribute__', '__gt__', '__hash__', '__init__', '__init_subclass__', '__le__', '__lt__', '__module__', '__ne__', '__new__', '__reduce__', '__reduce_ex__', '__repr__', '__setattr__', '__sizeof__', '__str__', '__subclasshook__', '__weakref__', 'displayInfo', 'gender']\n"
    }
   ],
   "source": [
    "print(dir(ChildClass)) # 可以看到子类已经继承了父类的属性和方法"
   ]
  },
  {
   "cell_type": "markdown",
   "metadata": {},
   "source": [
    "### 二、类的继承和属性搜索\n",
    "+ python中可以使用“obj.attribute”来获取属性，但此表达式会启动搜索连续的树\n",
    "+ 创建类的实例时，实例会自动连接到创建了此实例的一个或多个类\n",
    "+ 类连接到父类的方式是：将父类列在类头部的括号内，其从左至右的顺序会决定树中的次序\n",
    "+ 搜索是由下至上，由左到右（python支持多重继承）\n",
    "+ 如：p2继承自p1，当创建p2的实例时，会先搜索p2的属性，若找不到，再去找p1的属性"
   ]
  },
  {
   "cell_type": "markdown",
   "metadata": {},
   "source": [
    "### 三、继承方法专用化\n",
    "+ 继承会先在子类寻找变量名，然后才查找父类。因此，子类可以对父类的属性重新定义，来取代继承而来的行为\n",
    "+ 子类可以完全取代从父类继承而来的属性\n",
    "+ 子类也可以通过已覆盖的方法回调父类来扩展超类的方法"
   ]
  },
  {
   "cell_type": "code",
   "execution_count": 4,
   "metadata": {
    "tags": []
   },
   "outputs": [
    {
     "output_type": "stream",
     "name": "stdout",
     "text": "jackko\n"
    }
   ],
   "source": [
    "# 子类覆盖了父类的方法\n",
    "class ParClass(object):\n",
    "    def setInfo(self, sex='Male'):\n",
    "        self.gender = sex\n",
    "\n",
    "class ChiClass(ParClass):\n",
    "    # 覆盖父类的方法\n",
    "    def setInfo(self, who):\n",
    "        self.name = who\n",
    "\n",
    "x = ChiClass()\n",
    "x.setInfo('jackko')\n",
    "print(x.name)\n",
    "# print(x.gender) # AttributeError: 'ChiClass' object has no attribute 'gender'，因为子类覆盖了父类"
   ]
  },
  {
   "cell_type": "code",
   "execution_count": 5,
   "metadata": {
    "tags": []
   },
   "outputs": [
    {
     "output_type": "stream",
     "name": "stdout",
     "text": "jackko\nMale\n"
    }
   ],
   "source": [
    "# 子类通过回调扩展父类的方法\n",
    "class ParClass(object):\n",
    "    def setInfo(self, sex='Male'):\n",
    "        self.gender = sex\n",
    "\n",
    "class ChiClass(ParClass):\n",
    "    # 覆盖父类的方法\n",
    "    def setInfo(self, who):\n",
    "        self.name = who\n",
    "        ParClass.setInfo(self) # 回调父类的方法，把实例名通过self传给父类\n",
    "\n",
    "x = ChiClass()\n",
    "x.setInfo('jackko')\n",
    "print(x.name)\n",
    "print(x.gender)"
   ]
  },
  {
   "cell_type": "markdown",
   "metadata": {},
   "source": [
    "### 四、类、实例和其他对象的内建函数"
   ]
  },
  {
   "cell_type": "code",
   "execution_count": 6,
   "metadata": {
    "tags": []
   },
   "outputs": [
    {
     "output_type": "stream",
     "name": "stdout",
     "text": "True\n"
    }
   ],
   "source": [
    "# 判断一个类是否是另一个类的子类\n",
    "print(issubclass(ChiClass, ParClass))"
   ]
  },
  {
   "cell_type": "code",
   "execution_count": 7,
   "metadata": {
    "tags": []
   },
   "outputs": [
    {
     "output_type": "stream",
     "name": "stdout",
     "text": "True\n"
    }
   ],
   "source": [
    "# 判断一个对象是否是另一个类的实例\n",
    "print(isinstance(x, ChiClass))"
   ]
  },
  {
   "cell_type": "code",
   "execution_count": 8,
   "metadata": {
    "tags": []
   },
   "outputs": [
    {
     "output_type": "stream",
     "name": "stdout",
     "text": "True\n"
    }
   ],
   "source": [
    "# 判断一个对象是否拥有指定的属性\n",
    "print(hasattr(x, 'name'))"
   ]
  },
  {
   "cell_type": "code",
   "execution_count": 9,
   "metadata": {
    "tags": []
   },
   "outputs": [
    {
     "output_type": "stream",
     "name": "stdout",
     "text": "jackko\n"
    }
   ],
   "source": [
    "# 获取一个对象的指定属性，也能删除一个属性delattr()\n",
    "print(getattr(x, 'name'))"
   ]
  },
  {
   "cell_type": "code",
   "execution_count": 10,
   "metadata": {
    "tags": []
   },
   "outputs": [
    {
     "output_type": "stream",
     "name": "stdout",
     "text": "jackko\nNone\nanney\n"
    }
   ],
   "source": [
    "# 设置一个对象的指定属性\n",
    "print(getattr(x, 'name'))\n",
    "print(setattr(x, 'name', 'anney')) # 没有返回值\n",
    "print(getattr(x, 'name')) "
   ]
  },
  {
   "cell_type": "markdown",
   "metadata": {},
   "source": [
    "#### super()\n",
    "+ 在子类中找出其父类以便于调用其属性\n",
    "+ 一般情况下仅能采用非绑定方式调用祖先类方法\n",
    "+ 而super()可用于传入实例或类型对象\n",
    "+ 语法是在\\__init\\__(self)内写super(类名, self).__init__()"
   ]
  },
  {
   "cell_type": "code",
   "execution_count": null,
   "metadata": {},
   "outputs": [],
   "source": []
  }
 ]
}
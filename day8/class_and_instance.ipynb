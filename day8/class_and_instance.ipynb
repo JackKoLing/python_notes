{
 "metadata": {
  "language_info": {
   "codemirror_mode": {
    "name": "ipython",
    "version": 3
   },
   "file_extension": ".py",
   "mimetype": "text/x-python",
   "name": "python",
   "nbconvert_exporter": "python",
   "pygments_lexer": "ipython3",
   "version": "3.7.1-final"
  },
  "orig_nbformat": 2,
  "kernelspec": {
   "name": "python_defaultSpec_1599232591031",
   "display_name": "Python 3.7.1 64-bit"
  }
 },
 "nbformat": 4,
 "nbformat_minor": 2,
 "cells": [
  {
   "cell_type": "markdown",
   "metadata": {},
   "source": [
    "## This file introduce python class and instance."
   ]
  },
  {
   "cell_type": "markdown",
   "metadata": {},
   "source": [
    "### 一、python类和实例\n",
    "+ 类是一种数据结构，可用于创建实例。类中封装了数据和方法\n",
    "+ python类是一个可调用对象，即类对象\n",
    "+ 类是一种自定义类型，而实例则是声明某个自定义类型的变量，所以实例是实例化对象\n",
    "+ 实例的初始化可以通过调用类来创建，如：net = my_CNN()\n",
    "+ 类在实例化时可以使用\\__init\\__和\\__del\\__两个特殊的方法"
   ]
  },
  {
   "cell_type": "code",
   "execution_count": 1,
   "metadata": {
    "tags": []
   },
   "outputs": [
    {
     "output_type": "stream",
     "name": "stdout",
     "text": "<class 'type'>\n<class 'list'>\n"
    }
   ],
   "source": [
    "print(type(list))\n",
    "l1 = [1, 2, 3]\n",
    "print(type(l1))"
   ]
  },
  {
   "cell_type": "markdown",
   "metadata": {},
   "source": [
    "### 二、创建类\n",
    "+ 超类是一个或多个用于继承的父类的集合\n",
    "+ 类体可以包含：声明语句、类成员定义、数据属性、方法\n",
    "+ 若不存在继承关系，则类名后的括号可以为空\n",
    "+ 类文档为可选\n",
    "+ class语句中，任何赋值语句都会创建类属性，也就是类的变量\n",
    "+ 每个实例对象都会继承类的属性并获得自己的名称空间\n",
    "+ python规定，没有实例，方法不允许被调用，这就是“绑定”"
   ]
  },
  {
   "cell_type": "code",
   "execution_count": 2,
   "metadata": {
    "tags": []
   },
   "outputs": [
    {
     "output_type": "stream",
     "name": "stdout",
     "text": "<class 'type'>\n<class '__main__.TestClass'>\n"
    }
   ],
   "source": [
    "class TestClass():\n",
    "    pass\n",
    "\n",
    "print(type(TestClass))\n",
    "\n",
    "obj1 = TestClass() # 实例化\n",
    "print(type(obj1))"
   ]
  },
  {
   "cell_type": "code",
   "execution_count": 3,
   "metadata": {
    "tags": []
   },
   "outputs": [
    {
     "output_type": "stream",
     "name": "stdout",
     "text": "hello class\nprint jackko hello class\n"
    }
   ],
   "source": [
    "class FirstClass():\n",
    "    # 定义类的变量\n",
    "    data = 'hello class'\n",
    "    # 定义类的方法，一定要有self，来替代当前实例\n",
    "    def printData(self, x):\n",
    "        self.str1 = x # 定义实例自己的变量\n",
    "        print(\"print \" + self.str1 + ' ' + self.data)\n",
    "\n",
    "ins1 = FirstClass() # 类的实例化\n",
    "print(ins1.data) # 类的属性\n",
    "ins1.printData('jackko') # 这里相当于调用 FirstClass.printData(ins1, 'jackko')"
   ]
  },
  {
   "cell_type": "code",
   "execution_count": 4,
   "metadata": {
    "tags": []
   },
   "outputs": [
    {
     "output_type": "stream",
     "name": "stdout",
     "text": "print anney hello class\nhello class\nhello class\njackko\nanney\n"
    }
   ],
   "source": [
    "ins2 = FirstClass()\n",
    "ins2.printData('anney')\n",
    "print(ins1.data)\n",
    "print(ins2.data) # 类的属性是相同的\n",
    "print(ins1.str1)\n",
    "print(ins2.str1) # 实例的属性是不同的"
   ]
  },
  {
   "cell_type": "markdown",
   "metadata": {},
   "source": [
    "### 三、Python构造器\n",
    "+ 创建实例时，python会自动调用类中的\\__init\\__方法，以隐性地为实例提供属性\n",
    "+ 这个\\__init\\__方法被称为“构造器”\n",
    "+ 如果类中没有定义\\__init\\__方法，实例创建之初仅是一个简单的名称空间"
   ]
  },
  {
   "cell_type": "code",
   "execution_count": 5,
   "metadata": {
    "tags": []
   },
   "outputs": [
    {
     "output_type": "stream",
     "name": "stdout",
     "text": "hello MyClass\nhello MyClass\njackko\nanney\n"
    }
   ],
   "source": [
    "class MyClass():\n",
    "    data = 'hello MyClass'\n",
    "    # 利用构造器，可以在类的实例化时自动创建实例属性\n",
    "    def __init__(self, x):\n",
    "        self.str1 = x\n",
    "\n",
    "i1 = MyClass('jackko') # 这里相当于调用 MyClass.__init__(i1, 'jackko')\n",
    "i2 = MyClass('anney')\n",
    "print(i1.data)\n",
    "print(i2.data)\n",
    "print(i1.str1)\n",
    "print(i2.str1)"
   ]
  },
  {
   "cell_type": "markdown",
   "metadata": {},
   "source": [
    "### 四、类的特殊属性\n",
    "+ 使用类的\\__dict\\__字典属性或python内置的dir()函数来获取类的属性"
   ]
  },
  {
   "cell_type": "code",
   "execution_count": 6,
   "metadata": {},
   "outputs": [
    {
     "output_type": "execute_result",
     "data": {
      "text/plain": "['__class__',\n '__delattr__',\n '__dict__',\n '__dir__',\n '__doc__',\n '__eq__',\n '__format__',\n '__ge__',\n '__getattribute__',\n '__gt__',\n '__hash__',\n '__init__',\n '__init_subclass__',\n '__le__',\n '__lt__',\n '__module__',\n '__ne__',\n '__new__',\n '__reduce__',\n '__reduce_ex__',\n '__repr__',\n '__setattr__',\n '__sizeof__',\n '__str__',\n '__subclasshook__',\n '__weakref__',\n 'data']"
     },
     "metadata": {},
     "execution_count": 6
    }
   ],
   "source": [
    "dir(MyClass)"
   ]
  },
  {
   "cell_type": "code",
   "execution_count": 7,
   "metadata": {
    "tags": []
   },
   "outputs": [
    {
     "output_type": "stream",
     "name": "stdout",
     "text": "{'__module__': '__main__', 'data': 'hello MyClass', '__init__': <function MyClass.__init__ at 0x0000025C2A5EE598>, '__dict__': <attribute '__dict__' of 'MyClass' objects>, '__weakref__': <attribute '__weakref__' of 'MyClass' objects>, '__doc__': None}\n"
    }
   ],
   "source": [
    "print(MyClass.__dict__) # 返回类的所有成员，包括属性成员和方法成员"
   ]
  },
  {
   "cell_type": "markdown",
   "metadata": {},
   "source": [
    "### 五、实例的属性"
   ]
  },
  {
   "cell_type": "code",
   "execution_count": 8,
   "metadata": {
    "tags": []
   },
   "outputs": [
    {
     "output_type": "stream",
     "name": "stdout",
     "text": "['__class__', '__delattr__', '__dict__', '__dir__', '__doc__', '__eq__', '__format__', '__ge__', '__getattribute__', '__gt__', '__hash__', '__init__', '__init_subclass__', '__le__', '__lt__', '__module__', '__ne__', '__new__', '__reduce__', '__reduce_ex__', '__repr__', '__setattr__', '__sizeof__', '__str__', '__subclasshook__', '__weakref__', 'data', 'str1']\n"
    }
   ],
   "source": [
    "print(dir(i1))"
   ]
  },
  {
   "cell_type": "code",
   "execution_count": 9,
   "metadata": {
    "tags": []
   },
   "outputs": [
    {
     "output_type": "stream",
     "name": "stdout",
     "text": "{'str1': 'jackko'}\n"
    }
   ],
   "source": [
    "print(i1.__dict__) # 返回实例的属性"
   ]
  },
  {
   "cell_type": "code",
   "execution_count": 10,
   "metadata": {
    "tags": []
   },
   "outputs": [
    {
     "output_type": "stream",
     "name": "stdout",
     "text": "<class '__main__.MyClass'>\n"
    }
   ],
   "source": [
    "print(i1.__class__) # 返回实例所属的类"
   ]
  },
  {
   "cell_type": "markdown",
   "metadata": {},
   "source": [
    "### 六、Python类方法中可用的变量\n",
    "+ 类变量（也叫静态变量）：通过指定类名与变量名进行引用，如Myclass.data\n",
    "+ 实例变量：指定实例自身和变量名称进行引用，如self.str1\n",
    "+ 局部变量：方法内部创建的变量，可直接使用，如在方法中定义y=5\n",
    "+ 全局变量：直接使用"
   ]
  },
  {
   "cell_type": "code",
   "execution_count": 11,
   "metadata": {
    "tags": []
   },
   "outputs": [
    {
     "output_type": "stream",
     "name": "stdout",
     "text": "hello 50\nhello 100\n"
    }
   ],
   "source": [
    "class c1():\n",
    "    d1 = 'hello'\n",
    "\n",
    "    def __init__(self, x):\n",
    "        self.insdata = x\n",
    "\n",
    "i1 = c1(50)\n",
    "i2 = c1(100)\n",
    "print(i1.d1, i1.insdata)\n",
    "print(i2.d1, i2.insdata) # d1是类变量，静态变量，所以是一样的"
   ]
  },
  {
   "cell_type": "code",
   "execution_count": 12,
   "metadata": {
    "tags": []
   },
   "outputs": [
    {
     "output_type": "stream",
     "name": "stdout",
     "text": "new hello 50\nhello now c1 100\n"
    }
   ],
   "source": [
    "i1.d1 = 'new hello'\n",
    "c1.d1 = 'hello now c1'\n",
    "print(i1.d1, i1.insdata)\n",
    "print(i2.d1, i2.insdata) # i2没有自己赋值，所以就跟着类的属性来"
   ]
  },
  {
   "cell_type": "code",
   "execution_count": null,
   "metadata": {},
   "outputs": [],
   "source": []
  }
 ]
}
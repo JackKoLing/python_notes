{
 "metadata": {
  "language_info": {
   "codemirror_mode": {
    "name": "ipython",
    "version": 3
   },
   "file_extension": ".py",
   "mimetype": "text/x-python",
   "name": "python",
   "nbconvert_exporter": "python",
   "pygments_lexer": "ipython3",
   "version": 3
  },
  "orig_nbformat": 2
 },
 "nbformat": 4,
 "nbformat_minor": 2,
 "cells": [
  {
   "cell_type": "markdown",
   "metadata": {},
   "source": [
    "## This file introduce operator overloading and callable object."
   ]
  },
  {
   "cell_type": "markdown",
   "metadata": {},
   "source": [
    "### 一、运算符重载\n",
    "+ 它是指在方法中拦截内置的操作\n",
    "+ 当类的实例出现在内置操作中，python会自动调用自定义的方法，并且返回自定义方法的操作结果\n",
    "+ 运算符重载让类拦截常规的python运算，类可重载所有表达式运算符，也可重载打印、函数调用、属性点号运算等内置运算\n",
    "+ 重载使类实例的行为像内置类型\n",
    "+ 重载通过提供特殊名称的类方法实现\n",
    "#### 运算符重载并非必需，并且通常也不是默认的"
   ]
  },
  {
   "cell_type": "markdown",
   "metadata": {},
   "source": [
    "### 二、基于特殊的方法定制类\n",
    "+ 除了\\__init\\__和\\__del\\__之外，python类支持使用许多特殊方法\n",
    "+ 这些特殊方法都以双下划线开头和结尾，有些特殊方法有默认行为，没有默认行为的是为了留到需要的时候再实现\n",
    "+ 这些特殊方法是扩充类的强大工具，可以实现模拟标准类型和重载操作符\n",
    "+ 特殊方法允许类通过重载标准操作符+，*，甚至包括分段下标及映射操作[]来模拟标准类型"
   ]
  },
  {
   "cell_type": "markdown",
   "metadata": {},
   "source": [
    "### 三、可调用对象(内置\\__call\\__()方法)\n",
    "#### （1）函数：内置函数、自定义函数(def 、lambda)\n",
    "#### （2）类\n",
    "#### （3）类的方法\n",
    "#### （4）函数的属性：\n",
    "+  \\__doc\\__\n",
    "+  \\__name\\__\n",
    "+  \\__dict\\__\n",
    "+  \\__code\\__\n",
    "+  \\__globals\\__ 全局命名空间\n",
    "#### （5）方法的属性：\n",
    "+  \\__doc\\__\n",
    "+  \\__name\\__\n",
    "+  \\__class\\__ 方法所属的类\n",
    "+  \\__func\\__ 实现该方法的函数对象\n",
    "+  \\__self\\__ 调用此方法的实例\n",
    "#### （6）内置函数：\n",
    "+  \\__doc\\__\n",
    "+  \\__name\\__\n",
    "+  \\__self\\__\n",
    "#### （7）类：\n",
    "+  \\__doc\\__\n",
    "+  \\__name\\__\n",
    "+  \\__bases\\__\n",
    "+  \\__dict\\__\n",
    "+  \\__module\\__ 定义了当前类的模块名称\n",
    "#### （8）实例：\n",
    "+  \\__class\\__\n",
    "+  \\__dict\\__\n",
    "#### （9）任何对象都有特殊方法：\n",
    "+  \\__init\\__\n",
    "+  \\__new\\__\n",
    "+  \\__del\\__\n",
    "+  \\__dir\\__()\n",
    "+  \\__add\\__()\n",
    "+  \\__ge\\__() a>=b就相当于a.\\__ge\\__(b)，这是解释器自动转换"
   ]
  },
  {
   "cell_type": "code",
   "execution_count": null,
   "metadata": {},
   "outputs": [],
   "source": []
  }
 ]
}
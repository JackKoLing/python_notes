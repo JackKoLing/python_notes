{
 "metadata": {
  "language_info": {
   "codemirror_mode": {
    "name": "ipython",
    "version": 3
   },
   "file_extension": ".py",
   "mimetype": "text/x-python",
   "name": "python",
   "nbconvert_exporter": "python",
   "pygments_lexer": "ipython3",
   "version": "3.7.1-final"
  },
  "orig_nbformat": 2,
  "kernelspec": {
   "name": "python_defaultSpec_1599223134384",
   "display_name": "Python 3.7.1 64-bit ('learnPy': conda)"
  }
 },
 "nbformat": 4,
 "nbformat_minor": 2,
 "cells": [
  {
   "cell_type": "markdown",
   "metadata": {},
   "source": [
    "## This file introduce object-oriented programming."
   ]
  },
  {
   "cell_type": "markdown",
   "metadata": {},
   "source": [
    "### 一、面向对象编程（OOP）\n",
    "+ 程序 = 算法（指令）+ 数据，代码可以选择以指令为核心或以数据为核心进行编写\n",
    "+ 两种范型：\n",
    "+ 面向过程编程：以指令为核心，程序具有一系列线性步骤，阐述算法的步骤，主体思想是代码作用于数据\n",
    "+ 面向对象编程（OOP）：以数据为核心，围绕数据及为数据严格定义的接口来组织程序，用数据控制对代码的访问"
   ]
  },
  {
   "cell_type": "markdown",
   "metadata": {},
   "source": [
    "### 二、面向对象的核心概念：\n",
    "#### （1）所有编程语言最终目的都是提供一种“抽象”方法\n",
    "+ 在机器模型（“解空间”或“方案空间”）与实际解决的问题模型（“问题空间”）之间，程序员必须建立一种联系\n",
    "+ 面向过程：程序 = 算法 + 数据结构\n",
    "+ 面向对象：将问题空间中的元素以及它们在解空间中的表示物抽象为对象，并允许通过问题来描述问题而不是方案。可以把实例想象成一种新型变量，它保存着数据，但可以对自身的数据执行操作"
   ]
  },
  {
   "cell_type": "code",
   "execution_count": 1,
   "metadata": {
    "tags": []
   },
   "outputs": [
    {
     "output_type": "stream",
     "name": "stdout",
     "text": "3\n"
    }
   ],
   "source": [
    "l1 = [1, 2, 3] # 这就是一个列表实例，可以想象成一种新型变量\n",
    "print(l1.pop()) # 可以对自身的数据执行操作，但这些操作必须是本来定义好的"
   ]
  },
  {
   "cell_type": "markdown",
   "metadata": {},
   "source": [
    "#### （2）类型由状态集合（数据）和转换这些转态的操作集合（内置函数）组成\n",
    "#### 类抽象：\n",
    "+ 类：定义了被多个同一类型对象共享的结构和行为（数据和代码，即类的成员）\n",
    "+ 类是抽象的，不能操作。只有实例成具体的对象，含有数据才能操作\n",
    "+ 数据：成员变量或实例变量，也就是属性\n",
    "+ 成员方法：简称方法，也就是函数，是操作变量的代码，用于定义如何使用成员变量。因此一个类的行为和接口是通过方法来定义的\n",
    "+ 变量和方法分为：（1）私有，内部使用；（2）公共：外部可见"
   ]
  },
  {
   "cell_type": "markdown",
   "metadata": {},
   "source": [
    "### 三、面向对象的程序设计方法\n",
    "+ 所有东西都是对象\n",
    "+ 程序是一大堆对象的组合。通过消息（调用请求）传递，各对象知道自己该做什么\n",
    "+ 每个对象都有自己的存储空间，并可容纳其他对象。通过封装现有对象，可以制作成新型对象\n",
    "+ 每个对象（类的实例）都属于某一类型。类的一个重要特性为“能发什么样的消息给它”，即内置接口是限定的\n",
    "+ 同一个类的所有对象都能接受相同的消息，因为方法是类内定义的"
   ]
  },
  {
   "cell_type": "markdown",
   "metadata": {},
   "source": [
    "### 四、类间关系\n",
    "+ 依赖（“uses-a”）：一个类的方法操纵另一个类的对象\n",
    "+ 聚合（“has-a”）：类A的对象包含类B的对象，如l1=\\['a','b'\\]这就是列表类对象包含字符串类的对象\n",
    "+ 继承（“is-a”）：描述特殊与一般关系，如汽车是车"
   ]
  },
  {
   "cell_type": "markdown",
   "metadata": {},
   "source": [
    "### 五、面向对象编程的三个原则"
   ]
  },
  {
   "cell_type": "markdown",
   "metadata": {},
   "source": [
    "#### （1）封装(Encapsulation)\n",
    "+ 隐藏实现方案细节\n",
    "+ 将代码及处理的数据绑定在一起的一种编程机制，用于保证程序和数据不受外部干扰且不会被误用\n",
    "+ 比如：sort()就是一种封装了的排序，你无须深入了解具体怎么实现排序的，只需要给数据就行\n",
    "+ 又比如：你要开车，不需要去了解引擎怎么制作，只需要插入钥匙，掌握开车的技巧"
   ]
  },
  {
   "cell_type": "markdown",
   "metadata": {},
   "source": [
    "#### （2）继承(Inheritance)\n",
    "+ 一个对象获得另一个对象属性的过程；用于实现按层分类的概念\n",
    "+ 一个深度继承的子类继承了类层次中它的每个祖先的所有属性\n",
    "+ 超类、基类、父类都是一个概念\n",
    "+ 子类、派生类都是一个概念\n",
    "+ 比如：动物分为哺乳动物和爬行动物，哺乳动物又分为犬科动物和猫科动物。那么动物能呼吸的属性，犬科动物也有"
   ]
  },
  {
   "cell_type": "markdown",
   "metadata": {},
   "source": [
    "#### （3）多态(Polymorphism)\n",
    "+ 允许一个接口被多个通用的类动作使用的特性，具体使用哪个动作与应用场合相关\n",
    "+ “一个接口，多个方法”，用于为一组相关的动作设计一个通用的接口，以降低程序复杂性"
   ]
  },
  {
   "cell_type": "code",
   "execution_count": 2,
   "metadata": {
    "tags": []
   },
   "outputs": [
    {
     "output_type": "stream",
     "name": "stdout",
     "text": "ab\n[1, 2, 3, 'a', 'b', 'c']\n"
    }
   ],
   "source": [
    "# 这就是“一个接口，多个方法”\n",
    "def plus(x, y):\n",
    "    print(x+y)\n",
    "\n",
    "plus('a', 'b')\n",
    "plus([1, 2, 3], ['a', 'b', 'c'])"
   ]
  },
  {
   "cell_type": "code",
   "execution_count": null,
   "metadata": {},
   "outputs": [],
   "source": []
  }
 ]
}
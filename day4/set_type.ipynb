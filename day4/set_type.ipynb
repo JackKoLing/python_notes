{
 "metadata": {
  "language_info": {
   "codemirror_mode": {
    "name": "ipython",
    "version": 3
   },
   "file_extension": ".py",
   "mimetype": "text/x-python",
   "name": "python",
   "nbconvert_exporter": "python",
   "pygments_lexer": "ipython3",
   "version": 3
  },
  "orig_nbformat": 2,
  "kernelspec": {
   "name": "python_defaultSpec_1595040194911",
   "display_name": "Python 3.7.1 64-bit ('learnPy': conda)"
  }
 },
 "nbformat": 4,
 "nbformat_minor": 2,
 "cells": [
  {
   "cell_type": "markdown",
   "metadata": {},
   "source": [
    "## This file introduce set type"
   ]
  },
  {
   "cell_type": "markdown",
   "metadata": {},
   "source": [
    "## 集合类型：\n",
    "+ 可变的set()和不可变的frozenset()\n",
    "+ 一种无序排列的、可哈希集\n",
    "+ 支持集合关系测试: 交集、并集等\n",
    "+ 支持成员关系测试：in、not in\n",
    "+ 支持迭代\n",
    "+ 不支持：索引、元素获取、切片\n",
    "+ 没有特定语法格式，只能通过工厂函数创建"
   ]
  },
  {
   "cell_type": "code",
   "execution_count": 1,
   "metadata": {
    "tags": []
   },
   "outputs": [
    {
     "output_type": "stream",
     "name": "stdout",
     "text": "<class 'set'>\n"
    }
   ],
   "source": [
    "s1 = set()\n",
    "print(type(s1))"
   ]
  },
  {
   "cell_type": "code",
   "execution_count": 2,
   "metadata": {
    "tags": []
   },
   "outputs": [
    {
     "output_type": "stream",
     "name": "stdout",
     "text": "{1, 2, 3} <class 'set'>\n"
    }
   ],
   "source": [
    "s1 = set([1, 2, 3]) # 注意：其参数只有1个，而且是可迭代的对象，比如字符串、列表、元组、字典，不能是纯数值\n",
    "print(s1, type(s1))"
   ]
  },
  {
   "cell_type": "markdown",
   "metadata": {},
   "source": [
    "### 集合类型的方法和操作"
   ]
  },
  {
   "cell_type": "code",
   "execution_count": 3,
   "metadata": {
    "tags": []
   },
   "outputs": [
    {
     "output_type": "stream",
     "name": "stdout",
     "text": "3\n3\n1\n"
    }
   ],
   "source": [
    "print(len(s1)) # 虽然使用列表定义，但并不是包含列表，而是一个迭代器\n",
    "print(max(s1))\n",
    "print(min(s1))"
   ]
  },
  {
   "cell_type": "code",
   "execution_count": 4,
   "metadata": {
    "tags": []
   },
   "outputs": [
    {
     "output_type": "stream",
     "name": "stdout",
     "text": "{2, 3}\n{2, 3}\n"
    }
   ],
   "source": [
    "s2 = set([2, 3, 4])\n",
    "print(s1 & s2) # 交集，返回的是集合\n",
    "print(s1.intersection(s2)) # 内置方法求交集"
   ]
  },
  {
   "cell_type": "code",
   "execution_count": 5,
   "metadata": {
    "tags": []
   },
   "outputs": [
    {
     "output_type": "stream",
     "name": "stdout",
     "text": "{1, 4}\n{1, 4}\n"
    }
   ],
   "source": [
    "print(s1.symmetric_difference(s2)) # 对称差，属于s1但不属于s2，属于s2但不属于s1的集合\n",
    "print(s1 ^ s2) # 对称差"
   ]
  },
  {
   "cell_type": "code",
   "execution_count": 6,
   "metadata": {
    "tags": []
   },
   "outputs": [
    {
     "output_type": "stream",
     "name": "stdout",
     "text": "{1, 2, 3, 4}\n{1, 2, 3, 4}\n"
    }
   ],
   "source": [
    "print(s1 | s2) # 求并集\n",
    "print(s1.union(s2))"
   ]
  },
  {
   "cell_type": "code",
   "execution_count": 7,
   "metadata": {
    "tags": []
   },
   "outputs": [
    {
     "output_type": "stream",
     "name": "stdout",
     "text": "{1}\n{1}\n"
    }
   ],
   "source": [
    "print(s1 - s2) # 求差集，属于s1，但不属于s2\n",
    "print(s1.difference(s2))"
   ]
  },
  {
   "cell_type": "code",
   "execution_count": 8,
   "metadata": {
    "tags": []
   },
   "outputs": [
    {
     "output_type": "stream",
     "name": "stdout",
     "text": "False\nFalse\nFalse\n"
    }
   ],
   "source": [
    "print(s1.isdisjoint(s2)) # 若没有相同项，则返回True\n",
    "print(s1.issubset(s2)) # 若s1是s2的子集，则返回True\n",
    "print(s1.issuperset(s2)) # 若s1是s2的超集，则True"
   ]
  },
  {
   "cell_type": "code",
   "execution_count": 9,
   "metadata": {
    "tags": []
   },
   "outputs": [
    {
     "output_type": "stream",
     "name": "stdout",
     "text": "2141455801256\n2141455801256\n{'x', 1, 2, 3, 'z', 'y'}\n"
    }
   ],
   "source": [
    "s1 = set([1, 2, 3])\n",
    "s3 = set('xyz')\n",
    "print(id(s1))\n",
    "s1.update(s3) # 合并\n",
    "print(id(s1))\n",
    "print(s1)"
   ]
  },
  {
   "cell_type": "code",
   "execution_count": 10,
   "metadata": {
    "tags": []
   },
   "outputs": [
    {
     "output_type": "stream",
     "name": "stdout",
     "text": "{'x', 1, 2, 3, 7, 'z', 'y'}\n{'x', 1, 2, 3, 7, 'z', 'Jerry', 'y'}\n"
    }
   ],
   "source": [
    "s1.add(7)\n",
    "print(s1)\n",
    "s1.add(\"Jerry\") # 在已有的集合中使用add,会把整个参数当成一个元素，而不会拆开\n",
    "print(s1) "
   ]
  },
  {
   "cell_type": "code",
   "execution_count": 11,
   "metadata": {
    "tags": []
   },
   "outputs": [
    {
     "output_type": "stream",
     "name": "stdout",
     "text": "{'Tus', 'Wed', 'Mon'}\n"
    }
   ],
   "source": [
    "s4 = set(['Mon', 'Tus', 'Wed']) # 适合定义带字符串的集合，也可定义空集合，然后使用add('str')\n",
    "print(s4)"
   ]
  }
 ]
}
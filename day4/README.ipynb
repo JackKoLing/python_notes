{
 "metadata": {
  "language_info": {
   "codemirror_mode": {
    "name": "ipython",
    "version": 3
   },
   "file_extension": ".py",
   "mimetype": "text/x-python",
   "name": "python",
   "nbconvert_exporter": "python",
   "pygments_lexer": "ipython3",
   "version": 3
  },
  "orig_nbformat": 2
 },
 "nbformat": 4,
 "nbformat_minor": 2,
 "cells": [
  {
   "cell_type": "markdown",
   "metadata": {},
   "source": [
    "## 学习内容\n",
    "1、set_type.ipynb 介绍集合的相关操作\n",
    "\n",
    "2、concept_summary.ipynb 容器、类型、对象的相关概念总结\n",
    "\n",
    "3、expressions_and_staments.ipynb 介绍python中的表达式类型、优先级以及各种类型的语句"
   ]
  }
 ]
}
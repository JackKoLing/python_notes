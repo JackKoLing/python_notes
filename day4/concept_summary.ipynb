{
 "metadata": {
  "language_info": {
   "codemirror_mode": {
    "name": "ipython",
    "version": 3
   },
   "file_extension": ".py",
   "mimetype": "text/x-python",
   "name": "python",
   "nbconvert_exporter": "python",
   "pygments_lexer": "ipython3",
   "version": 3
  },
  "orig_nbformat": 2,
  "kernelspec": {
   "name": "python_defaultSpec_1595046916868",
   "display_name": "Python 3.7.1 64-bit ('learnPy': conda)"
  }
 },
 "nbformat": 4,
 "nbformat_minor": 2,
 "cells": [
  {
   "cell_type": "markdown",
   "metadata": {},
   "source": [
    "# 容器、类型、对象的相关概念总结"
   ]
  },
  {
   "cell_type": "markdown",
   "metadata": {},
   "source": [
    "### 1、列表、元组、字典等容器可以在不使用续行符'\\'的操作下，直接分步写于多行。最后一个元素后面可以使用逗号，多一个逗号不影响。但是空元素不能使用逗号"
   ]
  },
  {
   "cell_type": "code",
   "execution_count": 1,
   "metadata": {
    "tags": []
   },
   "outputs": [
    {
     "output_type": "stream",
     "name": "stdout",
     "text": "[1, 2, 3]\n"
    }
   ],
   "source": [
    "l1 = [1,\n",
    "2,\n",
    "3,]\n",
    "print(l1)"
   ]
  },
  {
   "cell_type": "markdown",
   "metadata": {},
   "source": [
    "### 2、所有对象都有引用次数，如果为某个对象指定新名称，或者将对象放进一个容器时，都会导致其引用次数增加。当引用次数为0时，可以被垃圾回收机制回收。当删除引用对象时，引用次数会减一。"
   ]
  },
  {
   "cell_type": "code",
   "execution_count": 2,
   "metadata": {
    "tags": []
   },
   "outputs": [
    {
     "output_type": "stream",
     "name": "stdout",
     "text": "3\n4\n3\n"
    }
   ],
   "source": [
    "name = 'jackko'\n",
    "import sys\n",
    "print(sys.getrefcount(name)) # 显示对象的引用次数\n",
    "hello = 'jackko'\n",
    "print(sys.getrefcount(name)) # 增加引用次数\n",
    "del(hello)\n",
    "print(sys.getrefcount(name)) # 减少引用次数"
   ]
  },
  {
   "cell_type": "markdown",
   "metadata": {},
   "source": [
    "### 3、对于列表、字典，都支持两种类型的复制操作：\n",
    "+ 浅复制：如l2 = l1,创建一个新对象，但包含的元素是l1对象的引用，所以指向同一个位置。l1改，l2就会修改\n",
    "+ 深复制：如l2 = copy.deepcopy(l1)。创建一个新对象，并且递归复制l1中的所有对象。l1改，l2不会改"
   ]
  },
  {
   "cell_type": "code",
   "execution_count": 3,
   "metadata": {
    "tags": []
   },
   "outputs": [
    {
     "output_type": "stream",
     "name": "stdout",
     "text": "[1, 2, 3]\n[1, 2, 3]\n[1, 2, 4]\n[1, 2, 3]\n"
    }
   ],
   "source": [
    "l1 = [1, 2, 3]\n",
    "l2 = l1 # 浅复制\n",
    "import copy\n",
    "l3 = copy.deepcopy(l1) # 深复制\n",
    "print(l2)\n",
    "print(l3)\n",
    "l1[2] = 4\n",
    "print(l2)\n",
    "print(l3)"
   ]
  },
  {
   "cell_type": "markdown",
   "metadata": {},
   "source": [
    "### 4、Python中的所有对象都是“第一类”，这意味着使用标识符命名的所有对象都具有相同状态。于是，能够命名的所有对象都可以直接当数据进行处理\n"
   ]
  },
  {
   "cell_type": "code",
   "execution_count": 4,
   "metadata": {
    "tags": []
   },
   "outputs": [
    {
     "output_type": "stream",
     "name": "stdout",
     "text": "1.3333333333333333\n1\n"
    }
   ],
   "source": [
    "a = 4\n",
    "b = 3\n",
    "print(a / b) # 普通除法\n",
    "print(a // b) # 整除"
   ]
  },
  {
   "cell_type": "markdown",
   "metadata": {},
   "source": [
    "### 5、序列的特性：\n",
    "+ 序列是索引为非负整数的有序对象集合,包括：字符串、列表、元组\n",
    "+ 其中字符串和元组是不可变序列，而列表支持插入、删除和替换元素\n",
    "+ 所有序列都支持迭代\n",
    "+ 序列本身支持可修改，所以支持在原处进行插入、删除、替换等操作，但字符串和元组不支持\n",
    "+ 列表和元组能包含任意的python对象序列，因为是容器。但字符串只能使用字符\n"
   ]
  },
  {
   "cell_type": "markdown",
   "metadata": {},
   "source": [
    "### 6、所有序列都支持的操作和方法：\n",
    "+ s\\[i\\]：索引运算符\n",
    "+ s\\[i:j\\]为切片运算符，s\\[i:j:stride\\]为扩展切片运算符\n",
    "+ len(s)长度\n",
    "+ min(s)和max(s)只适用于能够对元素排序的序列\n",
    "+ sum(s)只适用于数字序列\n",
    "+ all(s)检查是否所有项为True\n",
    "+ any(s)若元素都是 0、空、FALSE，则为False，其余都是TRUE\n",
    "+ s1 + s2：连接\n",
    "+ s1 * N：重复\n",
    "+ obj in s1：成员关系判断\n",
    "+ obj not in s1"
   ]
  },
  {
   "cell_type": "markdown",
   "metadata": {},
   "source": [
    "### 7、可变序列的操作：\n",
    "+ s1\\[index\\] = value  元素赋值\n",
    "+ s1\\[i:j\\] = t 切片赋值\n",
    "+ s1\\[i:j:stride\\] 扩展切片赋值\n",
    "+ del s1\\[index\\]\n",
    "+ del s1\\[i:j\\]\n",
    "+ del s1\\[i:j:stride\\]"
   ]
  },
  {
   "cell_type": "code",
   "execution_count": null,
   "metadata": {},
   "outputs": [],
   "source": []
  }
 ]
}
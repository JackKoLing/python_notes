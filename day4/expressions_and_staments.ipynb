{
 "metadata": {
  "language_info": {
   "codemirror_mode": {
    "name": "ipython",
    "version": 3
   },
   "file_extension": ".py",
   "mimetype": "text/x-python",
   "name": "python",
   "nbconvert_exporter": "python",
   "pygments_lexer": "ipython3",
   "version": 3
  },
  "orig_nbformat": 2,
  "kernelspec": {
   "name": "python_defaultSpec_1595051040405",
   "display_name": "Python 3.7.1 64-bit ('learnPy': conda)"
  }
 },
 "nbformat": 4,
 "nbformat_minor": 2,
 "cells": [
  {
   "cell_type": "markdown",
   "metadata": {},
   "source": [
    "## This file introduce python expressions and statements"
   ]
  },
  {
   "cell_type": "markdown",
   "metadata": {},
   "source": [
    "## Python的表达式和语句：\n",
    "+ 表达式：一个或多个操作数和0个以上的操作符组成的序列，如1+2\n",
    "+ 语句：用来实现的操作，包括声明变量、变量赋值、调用函数和方法、循环访问、条件判断等"
   ]
  },
  {
   "cell_type": "markdown",
   "metadata": {},
   "source": [
    "### 常用的表达式操作符：\n",
    "+ 常见运算：+、-、*、/、//、%\n",
    "+ 逻辑运算：and、or、not\n",
    "+ 成员关系运算：in、not in\n",
    "+ 对象实例测试：is、not is\n",
    "+ 比较运算：<、>、<=、>=、==、!=\n",
    "+ 位运算：|、&、^、<<、>>\n",
    "+ 一元运算：-x、+x、~x(按位取反)\n",
    "+ 幂运算：x ** y\n",
    "+ 索引和分片运算：x\\[i\\], x\\[i:j\\], x\\[i:j:stride\\]\n",
    "+ 调用运算：x(...)\n",
    "+ 取属性运算：x.attribute\n",
    "+ 特殊定义运算：元组(...), 列表\\[...\\], 字典{...}\n",
    "+ 三元选择表达式：x if y else z\n",
    "+ 匿名函数：lambda args: expression\n",
    "+ 生成器函数发送协议：yield x"
   ]
  },
  {
   "cell_type": "markdown",
   "metadata": {},
   "source": [
    "### 运算优先级：\n",
    "+ (...), \\[...\\], {...}\n",
    "+ x\\[i\\], x\\[i:j\\], x\\[i:j:stride\\]\n",
    "+ x.attribute\n",
    "+ x(...)\n",
    "+ -x、+x、~x\n",
    "+ x ** y\n",
    "+ *、/、//、%\n",
    "+ +、-\n",
    "+ <<、>>\n",
    "+ &\n",
    "+ ^\n",
    "+ |\n",
    "+ <、>、<=、>=、==、!=\n",
    "+ is、not is\n",
    "+ in、not in\n",
    "+ not\n",
    "+ and\n",
    "+ or\n",
    "+ lambda\n",
    "\n"
   ]
  },
  {
   "cell_type": "markdown",
   "metadata": {},
   "source": [
    "### 常见语句：\n",
    "+ 赋值语句\n",
    "+ 调用语句\n",
    "+ print：打印对象\n",
    "+ if/elif/else: 条件判断\n",
    "+ for/else: 序列迭代\n",
    "+ while/else: 普通循环\n",
    "+ pass: 占位符\n",
    "+ break\n",
    "+ continue\n",
    "+ def\n",
    "+ return\n",
    "+ yield：生成器函数\n",
    "+ global：命名空间\n",
    "+ raise: 手动触发异常\n",
    "+ import\n",
    "+ from：模块属性访问\n",
    "+ class: 类\n",
    "+ try/except/finally：捕捉异常\n",
    "+ del：删除引用\n",
    "+ assert：断言、调试检查\n",
    "+ with/as：环境管理器"
   ]
  },
  {
   "cell_type": "markdown",
   "metadata": {},
   "source": [
    "### 赋值语句：\n",
    "+ 隐式赋值：import, from, def, class, for, 函数参数\n",
    "+ 元组和列表分解赋值：当赋值符号的左侧为元组（括号可省略）或列表时，会按照位置把右边的对象和左边的目标自左向右逐个进行配对；个数不同时会触发异常，此时可以切片的方式进行\n",
    "+ 多重目标赋值\n",
    "+ 增强赋值：+=， -+， *=， /=, //= , %="
   ]
  },
  {
   "cell_type": "code",
   "execution_count": 1,
   "metadata": {
    "tags": []
   },
   "outputs": [
    {
     "output_type": "stream",
     "name": "stdout",
     "text": "Sun\nSat\n"
    }
   ],
   "source": [
    "l1 = ('Sun', 'Sat', 'Mon')\n",
    "x, y, z = l1 # 元组括号可省略\n",
    "print(x)\n",
    "(x, y, z) = l1\n",
    "print(y)\n"
   ]
  },
  {
   "cell_type": "code",
   "execution_count": 2,
   "metadata": {
    "tags": []
   },
   "outputs": [
    {
     "output_type": "stream",
     "name": "stdout",
     "text": "44 140720450282368\n44 140720450282368\n"
    }
   ],
   "source": [
    "num1 = num2 = num3 = 44 # 多重目标赋值\n",
    "print(num1, id(num1))\n",
    "print(num2, id(num2)) # 指向同一对象"
   ]
  },
  {
   "cell_type": "code",
   "execution_count": 3,
   "metadata": {
    "tags": []
   },
   "outputs": [
    {
     "output_type": "stream",
     "name": "stdout",
     "text": "33\n44\n"
    }
   ],
   "source": [
    "num1 = 33\n",
    "print(num1)\n",
    "print(num2)"
   ]
  },
  {
   "cell_type": "code",
   "execution_count": 4,
   "metadata": {
    "tags": []
   },
   "outputs": [
    {
     "output_type": "stream",
     "name": "stdout",
     "text": "3 140720450281056\n4 140720450281088\n"
    }
   ],
   "source": [
    "a = 3\n",
    "print(a, id(a))\n",
    "a += 1 # 增强赋值，新建了一个对象，然后a指向新的对象\n",
    "print(a, id(a))"
   ]
  },
  {
   "cell_type": "code",
   "execution_count": null,
   "metadata": {},
   "outputs": [],
   "source": []
  }
 ]
}
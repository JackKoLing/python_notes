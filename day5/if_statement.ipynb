{
 "metadata": {
  "language_info": {
   "codemirror_mode": {
    "name": "ipython",
    "version": 3
   },
   "file_extension": ".py",
   "mimetype": "text/x-python",
   "name": "python",
   "nbconvert_exporter": "python",
   "pygments_lexer": "ipython3",
   "version": 3
  },
  "orig_nbformat": 2,
  "kernelspec": {
   "name": "python_defaultSpec_1595060354176",
   "display_name": "Python 3.7.1 64-bit ('learnPy': conda)"
  }
 },
 "nbformat": 4,
 "nbformat_minor": 2,
 "cells": [
  {
   "cell_type": "markdown",
   "metadata": {},
   "source": [
    "## This file introduce condition test and \"if\" statement\n"
   ]
  },
  {
   "cell_type": "markdown",
   "metadata": {},
   "source": [
    "## Python的比较操作\n",
    "+ 不同类型比较肯定是False\n",
    "+ 数字：通过相对大小进行比较\n",
    "+ 字符串：按照字典次序逐个字符比较\n",
    "+ 列表和元组：自左向右比较各个元素\n",
    "+ 字典：对排序后的(key,value)列表进行比较"
   ]
  },
  {
   "cell_type": "markdown",
   "metadata": {},
   "source": [
    "## Python中真假定义：\n",
    "+ 非零数字为真，否则为假\n",
    "+ 非空对象为真，否则为假\n",
    "+ None始终为假"
   ]
  },
  {
   "cell_type": "markdown",
   "metadata": {},
   "source": [
    "## 条件测试\n",
    "### 1、if 条件测试式\n",
    "### 2、Python中的真假总结：\n",
    "+ 任何非0数字和非空对象都为真\n",
    "+ 数字0、空对象和特殊对象None均为假\n",
    "+ 比较和相等测试会递归地应用于数据结构中\n",
    "+ 返回值为True或False\n",
    "### 3、组合条件测试：\n",
    "+ X and Y：与运算\n",
    "+ X or Y：或运算\n",
    "+ not X：非运算\n",
    "### 4、三元选择：\n",
    "+ A = X if Y else Z 如果Y条件满足，则A=X,否则A=Z\n",
    "+ expression1 if boolean_expression else expression2"
   ]
  },
  {
   "cell_type": "code",
   "execution_count": 1,
   "metadata": {
    "tags": []
   },
   "outputs": [
    {
     "output_type": "stream",
     "name": "stdout",
     "text": "'x' in l1\n"
    }
   ],
   "source": [
    "l1 = ['x', 'y', 1]\n",
    "if 'x' in l1:\n",
    "    print(\"'x' in l1\")"
   ]
  },
  {
   "cell_type": "code",
   "execution_count": 2,
   "metadata": {
    "tags": []
   },
   "outputs": [
    {
     "output_type": "stream",
     "name": "stdout",
     "text": "the max number is 2.\n"
    }
   ],
   "source": [
    "x = 1\n",
    "y = 2\n",
    "if x > y:\n",
    "    print(\"the max number is %d.\" % x)\n",
    "else:\n",
    "    print(\"the max number is %d.\" % y)"
   ]
  },
  {
   "cell_type": "code",
   "execution_count": 3,
   "metadata": {
    "tags": []
   },
   "outputs": [
    {
     "output_type": "stream",
     "name": "stdout",
     "text": "9\n"
    }
   ],
   "source": [
    "a = 7\n",
    "b = 9\n",
    "max_num = a if a>b else b\n",
    "print(max_num)"
   ]
  },
  {
   "cell_type": "code",
   "execution_count": null,
   "metadata": {},
   "outputs": [],
   "source": []
  }
 ]
}
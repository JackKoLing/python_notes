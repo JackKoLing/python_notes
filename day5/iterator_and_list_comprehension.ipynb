{
 "metadata": {
  "language_info": {
   "codemirror_mode": {
    "name": "ipython",
    "version": 3
   },
   "file_extension": ".py",
   "mimetype": "text/x-python",
   "name": "python",
   "nbconvert_exporter": "python",
   "pygments_lexer": "ipython3",
   "version": 3
  },
  "orig_nbformat": 2,
  "kernelspec": {
   "name": "python_defaultSpec_1595133524546",
   "display_name": "Python 3.7.1 64-bit ('learnPy': conda)"
  }
 },
 "nbformat": 4,
 "nbformat_minor": 2,
 "cells": [
  {
   "cell_type": "markdown",
   "metadata": {},
   "source": [
    "## This file include iterator, list comprehension, generator."
   ]
  },
  {
   "cell_type": "markdown",
   "metadata": {},
   "source": [
    "## Python迭代\n",
    "+ 迭代：重复做一件事\n",
    "+ 如果某个对象，在其内部实现了\\__iter\\__()或\\__getitem\\__()的方法，则其为可迭代对象\n",
    "+ 可迭代(iterable)对象支持每次返回自己所包含的一个成员的对象,也就是可遍历对象\n",
    "\n",
    "\n",
    "### 可迭代对象有：\n",
    "+ 序列类型：list, str, tuple\n",
    "+ 非序列类型：dict, file\n",
    "+ 用户自定义包含\\__iter\\__()或\\__getitem\\__()方法的类\n",
    "\n",
    "\n",
    "### for循环可用于任何可迭代对象  \n",
    "+ for循环开始时，会通过迭代协议传递给iter()内置函数，从而能够从可迭代对象中获得一个迭代器，返回的对象含有需要的\\__next\\__()方法"
   ]
  },
  {
   "cell_type": "code",
   "execution_count": 1,
   "metadata": {
    "tags": []
   },
   "outputs": [
    {
     "output_type": "stream",
     "name": "stdout",
     "text": "['__add__', '__class__', '__contains__', '__delattr__', '__delitem__', '__dir__', '__doc__', '__eq__', '__format__', '__ge__', '__getattribute__', '__getitem__', '__gt__', '__hash__', '__iadd__', '__imul__', '__init__', '__init_subclass__', '__iter__', '__le__', '__len__', '__lt__', '__mul__', '__ne__', '__new__', '__reduce__', '__reduce_ex__', '__repr__', '__reversed__', '__rmul__', '__setattr__', '__setitem__', '__sizeof__', '__str__', '__subclasshook__', 'append', 'clear', 'copy', 'count', 'extend', 'index', 'insert', 'pop', 'remove', 'reverse', 'sort']\n"
    }
   ],
   "source": [
    "l1 = [1, 2, 3]\n",
    "print(dir(l1)) # 可以看到含有iter、getitem的方法，所以是可迭代对象"
   ]
  },
  {
   "cell_type": "code",
   "execution_count": 2,
   "metadata": {
    "tags": []
   },
   "outputs": [
    {
     "output_type": "stream",
     "name": "stdout",
     "text": "<list_iterator object at 0x000001449EEA60B8>\n1\n2\n3\n"
    }
   ],
   "source": [
    "i1 = l1.__iter__()\n",
    "print(i1)  # 返回一个迭代器对象，每次使用循环时，系统自动创建迭代器，来遍历每个元素\n",
    "print(i1.__next__())\n",
    "print(i1.__next__())\n",
    "print(i1.__next__()) # 注意：迭代器不可逆，要想再迭代就要创建新的迭代器"
   ]
  },
  {
   "cell_type": "markdown",
   "metadata": {},
   "source": [
    "### 迭代器(iterator):\n",
    "+ 又称为游标(cursor)，它是程序设计的软件设计模式，是一种可在容器(container)上实现元素遍历的接口\n",
    "+ 迭代器是一种特殊的数据结构，也是以对象的形式存在\n",
    "+ 简单的理解就是：迭代器定义了遍历可迭代对象中的每个元素的顺序或方法"
   ]
  },
  {
   "cell_type": "code",
   "execution_count": 3,
   "metadata": {
    "tags": []
   },
   "outputs": [
    {
     "output_type": "stream",
     "name": "stdout",
     "text": "1\n2\n3\n"
    }
   ],
   "source": [
    "i2 = iter(l1) # 等价于 i2 = l1.__iter__()\n",
    "print(i2.__next__())\n",
    "print(i2.__next__())\n",
    "print(i2.__next__())"
   ]
  },
  {
   "cell_type": "markdown",
   "metadata": {},
   "source": [
    "## 列表解析：\n",
    "+ 定义：根据已有列表，高效生成新列表的方式\n",
    "+ 它是python迭代机制的一种应用，常用用于创建新的列表"
   ]
  },
  {
   "cell_type": "code",
   "execution_count": 4,
   "metadata": {
    "tags": []
   },
   "outputs": [
    {
     "output_type": "stream",
     "name": "stdout",
     "text": "[1, 4, 9, 16, 25]\n[1, 4, 9, 16, 25]\n"
    }
   ],
   "source": [
    "l1 = [1, 2, 3, 4, 5]\n",
    "l2 = []\n",
    "for i in l1:\n",
    "    l2.append(i ** 2)\n",
    "print(l2)\n",
    "\n",
    "# 使用列表解析\n",
    "l3 = [i**2 for i in l1] # 这个列表解析比for循环要快得多\n",
    "print(l3)"
   ]
  },
  {
   "cell_type": "code",
   "execution_count": 5,
   "metadata": {
    "tags": []
   },
   "outputs": [
    {
     "output_type": "stream",
     "name": "stdout",
     "text": "[9, 16, 25]\n"
    }
   ],
   "source": [
    "l4 = [i**2 for i in l1 if i>=3] # 加入额外判断\n",
    "print(l4)"
   ]
  },
  {
   "cell_type": "code",
   "execution_count": 6,
   "metadata": {
    "tags": []
   },
   "outputs": [
    {
     "output_type": "stream",
     "name": "stdout",
     "text": "0\n2\n4\n8\n12\n18\n24\n32\n40\n50\n"
    }
   ],
   "source": [
    "for i in [i**2 for i in range(1, 11)]:\n",
    "    print(i//2)"
   ]
  },
  {
   "cell_type": "code",
   "execution_count": 7,
   "metadata": {
    "tags": []
   },
   "outputs": [
    {
     "output_type": "stream",
     "name": "stdout",
     "text": "0\n2\n4\n8\n12\n18\n24\n32\n40\n50\n"
    }
   ],
   "source": [
    "for i in [i**2//2 for i in range(1, 11)]:\n",
    "    print(i)"
   ]
  },
  {
   "cell_type": "code",
   "execution_count": 8,
   "metadata": {
    "tags": []
   },
   "outputs": [
    {
     "output_type": "stream",
     "name": "stdout",
     "text": "2\n8\n18\n32\n50\n"
    }
   ],
   "source": [
    "for i in [i**2//2 for i in range(1, 11) if i%2 == 0]:\n",
    "    print(i)"
   ]
  },
  {
   "cell_type": "code",
   "execution_count": 9,
   "metadata": {
    "tags": []
   },
   "outputs": [
    {
     "output_type": "stream",
     "name": "stdout",
     "text": "['if_statement.ipynb', 'iterator_and_list_comprehension.ipynb', 'README.ipynb', 'while_and_for_statement.ipynb']\n"
    }
   ],
   "source": [
    "# 导出文件夹下以.ipynb为结尾的文件并创建成列表\n",
    "import os\n",
    "list1 = os.listdir('../day5')\n",
    "list2 = [i for i in list1 if i.endswith('.ipynb')] # 特别适合提取文件夹中特定的图片路径\n",
    "print(list2)"
   ]
  },
  {
   "cell_type": "code",
   "execution_count": 10,
   "metadata": {
    "tags": []
   },
   "outputs": [
    {
     "output_type": "stream",
     "name": "stdout",
     "text": "[('x', 1), ('x', 2), ('x', 3), ('y', 1), ('y', 2), ('y', 3), ('z', 1), ('z', 2), ('z', 3)]\n"
    }
   ],
   "source": [
    "# 使用循环嵌套\n",
    "l1 = ['x', 'y', 'z']\n",
    "l2 = [1, 2, 3]\n",
    "l3 = [(i, j) for i in l1 for j in l2]\n",
    "print(l3)"
   ]
  },
  {
   "cell_type": "code",
   "execution_count": 11,
   "metadata": {
    "tags": []
   },
   "outputs": [
    {
     "output_type": "stream",
     "name": "stdout",
     "text": "[('x', 2), ('x', 3), ('y', 2), ('y', 3), ('z', 2), ('z', 3)]\n"
    }
   ],
   "source": [
    "# 使用循环嵌套加上条件\n",
    "l1 = ['x', 'y', 'z']\n",
    "l2 = [1, 2, 3]\n",
    "l3 = [(i, j) for i in l1 for j in l2 if j != 1]\n",
    "print(l3)"
   ]
  },
  {
   "cell_type": "markdown",
   "metadata": {},
   "source": [
    "## 生成器表达式：\n",
    "+ 列表解析表达式是一次生成全部对象，如果没有使用到的对象就很占内存\n",
    "+ 而生成器表达式是一次只生成一个对象，调用一次生成一次。使用“懒性计算”或称为“延迟求值”的机制\n",
    "+ 其并不真正创建数字列表，而是返回一个生成器对象，此对象在每次计算出一个条目后，就“产生”(yield)出来\n",
    "+ 序列过长，并且每次只需要获取一个元素时，应当考虑使用生成器表达式而不是列表解析\n",
    "+ 生成器表达式的语法就是把列表解析的\\[\\]换成()"
   ]
  },
  {
   "cell_type": "code",
   "execution_count": 12,
   "metadata": {
    "tags": []
   },
   "outputs": [
    {
     "output_type": "stream",
     "name": "stdout",
     "text": "<generator object <genexpr> at 0x000001449EE0CCF0>\n1\n4\n9\n16\n"
    }
   ],
   "source": [
    "print((i**2 for i in range(1, 11))) # 注意返回的是生成器对象\n",
    "g1 = (i**2 for i in range(1, 11))\n",
    "print(g1.__next__())\n",
    "print(g1.__next__())\n",
    "print(g1.__next__())\n",
    "print(g1.__next__())"
   ]
  },
  {
   "cell_type": "code",
   "execution_count": 13,
   "metadata": {
    "tags": []
   },
   "outputs": [
    {
     "output_type": "stream",
     "name": "stdout",
     "text": "0\n2\n4\n8\n12\n18\n24\n32\n40\n50\n"
    }
   ],
   "source": [
    "for i in (i**2 for i in range(1, 11)):\n",
    "    print(i//2)"
   ]
  },
  {
   "cell_type": "markdown",
   "metadata": {},
   "source": [
    "### enumerate:\n",
    "+ range可在非完备遍历中用于生成索引偏移，如range(1,100,2)\n",
    "+ 若同时需要偏移的索引和偏移元素，则可以使用enumerate()函数，其内置函数返回一个生成器对象"
   ]
  },
  {
   "cell_type": "code",
   "execution_count": 14,
   "metadata": {
    "tags": []
   },
   "outputs": [
    {
     "output_type": "stream",
     "name": "stdout",
     "text": "(0, 'w')\n(1, 'w')\n(2, 'w')\n(3, '.')\n"
    }
   ],
   "source": [
    "url = \"www.baidu.com\"\n",
    "g1 = enumerate(url) # 获取枚举的生成器\n",
    "print(g1.__next__()) # 可以获取对象的索引以及元素本身\n",
    "print(g1.__next__())\n",
    "print(g1.__next__())\n",
    "print(g1.__next__())"
   ]
  },
  {
   "cell_type": "code",
   "execution_count": 15,
   "metadata": {
    "tags": []
   },
   "outputs": [
    {
     "output_type": "stream",
     "name": "stdout",
     "text": "0\nw\n1\nw\n2\nw\n3\n.\n"
    }
   ],
   "source": [
    "for i,value in enumerate(url):\n",
    "    if i < 4:\n",
    "        print(i)\n",
    "        print(value)"
   ]
  }
 ]
}
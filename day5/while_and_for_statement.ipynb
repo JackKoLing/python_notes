{
 "metadata": {
  "language_info": {
   "codemirror_mode": {
    "name": "ipython",
    "version": 3
   },
   "file_extension": ".py",
   "mimetype": "text/x-python",
   "name": "python",
   "nbconvert_exporter": "python",
   "pygments_lexer": "ipython3",
   "version": 3
  },
  "orig_nbformat": 2,
  "kernelspec": {
   "name": "python_defaultSpec_1595126029424",
   "display_name": "Python 3.7.1 64-bit ('learnPy': conda)"
  }
 },
 "nbformat": 4,
 "nbformat_minor": 2,
 "cells": [
  {
   "cell_type": "markdown",
   "metadata": {},
   "source": [
    "## This file introduce \"while\" and \"for\" statements"
   ]
  },
  {
   "cell_type": "markdown",
   "metadata": {},
   "source": [
    "## While:\n",
    "while bool_expression:  \n",
    "&ensp;&ensp;&ensp;&ensp;while_suite  \n",
    "else:  \n",
    "&ensp;&ensp;&ensp;&ensp;else_suite  \n",
    "\n",
    "+ break: 跳出最内层的循环  \n",
    "+ continue: 跳到所处的最近层循环的开始处  \n",
    "+ pass: 占位语句  \n",
    "+ else代码块：循环正常终止才会执行，如果循环终止是由break导致的，则else不会执行"
   ]
  },
  {
   "cell_type": "code",
   "execution_count": 1,
   "metadata": {
    "tags": []
   },
   "outputs": [
    {
     "output_type": "stream",
     "name": "stdout",
     "text": "www.baidu.com\nww.baidu.com\nw.baidu.com\n.baidu.com\nbaidu.com\naidu.com\nidu.com\ndu.com\nu.com\n.com\ncom\nom\nm\n"
    }
   ],
   "source": [
    "url = \"www.baidu.com\"\n",
    "while url:\n",
    "    print(url)\n",
    "    url = url[1:] # 最后一个返回是空，对象是空即为False"
   ]
  },
  {
   "cell_type": "code",
   "execution_count": 2,
   "metadata": {
    "tags": []
   },
   "outputs": [
    {
     "output_type": "stream",
     "name": "stdout",
     "text": "www.baidu.com\nwww.baidu.co\nwww.baidu.c\nwww.baidu.\nwww.baidu\nwww.baid\nwww.bai\nwww.ba\nwww.b\nwww.\nwww\nww\nw\nGame over.\n"
    }
   ],
   "source": [
    "url = \"www.baidu.com\"\n",
    "while url:\n",
    "    print(url)\n",
    "    url = url[:-1] # 从后面删\n",
    "else:\n",
    "    print(\"Game over.\") # 正常结束只会运行一次"
   ]
  },
  {
   "cell_type": "code",
   "execution_count": 3,
   "metadata": {
    "tags": []
   },
   "outputs": [
    {
     "output_type": "stream",
     "name": "stdout",
     "text": "www.baidu.com\nwww.baidu.co\nwww.baidu.c\nwww.baidu.\nwww.baidu\nwww.baid\nwww.bai\nwww.ba\n"
    }
   ],
   "source": [
    "url = \"www.baidu.com\"\n",
    "x = 0\n",
    "while url:\n",
    "    print(url)\n",
    "    url = url[:-1] # 从后面删\n",
    "    x += 1\n",
    "    if x > 7:\n",
    "        break\n",
    "else:\n",
    "    print(\"Game over.\") # 不正常跳出，不执行此语句，因为url仍热爱为True"
   ]
  },
  {
   "cell_type": "code",
   "execution_count": 4,
   "metadata": {
    "tags": []
   },
   "outputs": [
    {
     "output_type": "stream",
     "name": "stdout",
     "text": "0 1 2 3 4 5 6 7 8 9 10 11 12 13 14 15 16 17 18 19 20 21 22 23 24 25 26 27 28 29"
    }
   ],
   "source": [
    "x = 0\n",
    "y = 30\n",
    "while x<y:\n",
    "    print(x, end=' ') # 在print函数中使用end=' '可以让结果在一行中打印\n",
    "    x += 1"
   ]
  },
  {
   "cell_type": "code",
   "execution_count": 5,
   "metadata": {
    "tags": []
   },
   "outputs": [
    {
     "output_type": "stream",
     "name": "stdout",
     "text": "4\n3\n2\n1\n"
    }
   ],
   "source": [
    "l1 = [1, 2, 3, 4]\n",
    "while l1:\n",
    "    print(l1[-1]) # 逆序输出\n",
    "    l1.pop()"
   ]
  },
  {
   "cell_type": "code",
   "execution_count": 6,
   "metadata": {
    "tags": []
   },
   "outputs": [
    {
     "output_type": "stream",
     "name": "stdout",
     "text": "x\ny\nz\n3\n"
    }
   ],
   "source": [
    "d1 = {'x':1, 'y':23, 'z':78}\n",
    "keylist = list(d1.keys())\n",
    "# print(keylist)\n",
    "while keylist:\n",
    "    print(keylist[0]) # 逐一显示指定字典的所有键\n",
    "    keylist.pop(0)\n",
    "else:\n",
    "    print(len(d1)) # 打印总键数"
   ]
  },
  {
   "cell_type": "code",
   "execution_count": 7,
   "metadata": {
    "tags": []
   },
   "outputs": [
    {
     "output_type": "stream",
     "name": "stdout",
     "text": "{0: 'Sun', 1: 'Mon', 2: 'Tue', 3: 'Wed', 4: 'Thu', 5: 'Fri', 6: 'Sat'}\n"
    }
   ],
   "source": [
    "# 两个列表分别为keys-values,来生成一个字典，法1\n",
    "d1 = {}\n",
    "l1 = [0, 1, 2, 3, 4, 5, 6]\n",
    "l2 = [\"Sun\", \"Mon\", \"Tue\", \"Wed\", \"Thu\", \"Fri\", \"Sat\"]\n",
    "i = 0\n",
    "if len(l1) == len(l2):\n",
    "    while i < len(l1):\n",
    "        d1[l1[i]] = l2[i]\n",
    "        i += 1\n",
    "print(d1)"
   ]
  },
  {
   "cell_type": "markdown",
   "metadata": {},
   "source": [
    "## For："
   ]
  },
  {
   "cell_type": "code",
   "execution_count": 8,
   "metadata": {
    "tags": []
   },
   "outputs": [
    {
     "output_type": "stream",
     "name": "stdout",
     "text": "{0: 'Sun', 1: 'Mon', 2: 'Tue', 3: 'Wed', 4: 'Thu', 5: 'Fri', 6: 'Sat'}\n"
    }
   ],
   "source": [
    "# 两个列表分别为keys-values,来生成一个字典，法2\n",
    "d1 = {}\n",
    "l1 = [0, 1, 2, 3, 4, 5, 6]\n",
    "l2 = [\"Sun\", \"Mon\", \"Tue\", \"Wed\", \"Thu\", \"Fri\", \"Sat\"]\n",
    "# 使用zip来将并排元素配成元组，并行遍历\n",
    "for (k, v) in zip(l1, l2):\n",
    "    d1[k] = v\n",
    "print(d1)"
   ]
  },
  {
   "cell_type": "code",
   "execution_count": 9,
   "metadata": {
    "tags": []
   },
   "outputs": [
    {
     "output_type": "stream",
     "name": "stdout",
     "text": "1\n2\n3\n4\n"
    }
   ],
   "source": [
    "l1 = [1, 2, 3, 4]\n",
    "for i in l1:\n",
    "    print(i)"
   ]
  },
  {
   "cell_type": "code",
   "execution_count": 10,
   "metadata": {
    "tags": []
   },
   "outputs": [
    {
     "output_type": "stream",
     "name": "stdout",
     "text": "5050\n"
    }
   ],
   "source": [
    "sum = 0\n",
    "for i in range(1, 101):\n",
    "    sum += i\n",
    "print(sum)"
   ]
  },
  {
   "cell_type": "code",
   "execution_count": 11,
   "metadata": {
    "tags": []
   },
   "outputs": [
    {
     "output_type": "stream",
     "name": "stdout",
     "text": "0 Sun\n1 Mon\n2 Tue\n"
    }
   ],
   "source": [
    "d1 = {0: 'Sun', 1: 'Mon', 2: 'Tue'}\n",
    "for k, v in d1.items():\n",
    "    print(k, v)"
   ]
  },
  {
   "cell_type": "code",
   "execution_count": 12,
   "metadata": {
    "tags": []
   },
   "outputs": [
    {
     "output_type": "stream",
     "name": "stdout",
     "text": "Mon\nWed\nFri\n"
    }
   ],
   "source": [
    "# 输出奇数位的元素\n",
    "l1 = [\"Sun\", \"Mon\", \"Tue\", \"Wed\", \"Thu\", \"Fri\", \"Sat\"]\n",
    "for i in range(1, len(l1), 2):\n",
    "    print(l1[i])"
   ]
  },
  {
   "cell_type": "markdown",
   "metadata": {},
   "source": [
    "## 回顾\n",
    "python是动态语言，使用sys.getrefcount()查看对象引用次数\n",
    "+ 增加对象的引用计数场景：  \n",
    "对象创建时；将对象添加进容器时，类似list.append();当对象被当做参数传递给函数时；为对象创建另外变量名\n",
    "\n",
    "+ 减少引用计数：  \n",
    "引用此对象的某变量名被显式销毁：del x;给引用此对象的某变量名重新赋值；从容器中移除对象，类似list.pop()；容器本身被销毁\n"
   ]
  },
  {
   "cell_type": "code",
   "execution_count": null,
   "metadata": {},
   "outputs": [],
   "source": []
  }
 ]
}
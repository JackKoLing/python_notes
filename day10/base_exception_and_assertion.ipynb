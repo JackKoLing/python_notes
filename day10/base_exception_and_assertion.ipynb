{
 "metadata": {
  "language_info": {
   "codemirror_mode": {
    "name": "ipython",
    "version": 3
   },
   "file_extension": ".py",
   "mimetype": "text/x-python",
   "name": "python",
   "nbconvert_exporter": "python",
   "pygments_lexer": "ipython3",
   "version": "3.7.1-final"
  },
  "orig_nbformat": 2,
  "kernelspec": {
   "name": "python_defaultSpec_1599394105158",
   "display_name": "Python 3.7.1 64-bit"
  }
 },
 "nbformat": 4,
 "nbformat_minor": 2,
 "cells": [
  {
   "cell_type": "markdown",
   "metadata": {},
   "source": [
    "## This file introduce base exception and assertions."
   ]
  },
  {
   "cell_type": "markdown",
   "metadata": {},
   "source": [
    "### 一、异常对象\n",
    "+ python自身引发的所有异常都是Exception的子类实例，而Exception是从BaseException继承的新式类\n",
    "+ 所以，捕获BaseException异常，能包括所有异常"
   ]
  },
  {
   "cell_type": "code",
   "execution_count": 1,
   "metadata": {
    "tags": []
   },
   "outputs": [
    {
     "output_type": "stream",
     "name": "stdout",
     "text": "Exception occurs.\n"
    }
   ],
   "source": [
    "try:\n",
    "    print(3/0)\n",
    "except BaseException:\n",
    "    print(\"Exception occurs.\")"
   ]
  },
  {
   "cell_type": "code",
   "execution_count": 2,
   "metadata": {
    "tags": []
   },
   "outputs": [
    {
     "output_type": "stream",
     "name": "stdout",
     "text": "Exception occurs.\n"
    }
   ],
   "source": [
    "try:\n",
    "    f = open('a.txt','r')\n",
    "except BaseException:\n",
    "    print(\"Exception occurs.\")"
   ]
  },
  {
   "cell_type": "markdown",
   "metadata": {},
   "source": [
    "### 二、标准异常分类\n",
    "+ 大多的标准异常都是由BaseException派生的，有三个抽象的子类：\n",
    "+ （1）ArithmeticError：由于算术错误而引发的异常基类，如：OverflowError, ZeroDivisionError, FloatingPointError\n",
    "+ （2）LookupError：容器在接收到一个无效键或索引时引发的异常基类，如：IndexError, KeyError\n",
    "+ （3）EnvironmentError：由于外部原因而导致的异常基类，如：IOError, OSError, WindowsError"
   ]
  },
  {
   "cell_type": "markdown",
   "metadata": {},
   "source": [
    "### 三、常见的标准异常类\n",
    "+ AssertionError 断言语句错误\n",
    "+ AttributeError 属性引用或赋值错误\n",
    "+ FloatingPointError 浮点型运算错误\n",
    "+ IOError I/O操作失败\n",
    "+ ImportError import语句不能找到要导入的模块，或者不能找到该模块特别请求的名称\n",
    "+ IndentationError 解析器遇到了一个由于错误的缩进而引发的语法错误\n",
    "+ IndexError 用来索引序列的整数超出了范围，就是下标错误\n",
    "+ KeyError 用来索引映射的键不在映射中\n",
    "+ KeyboardInterrupt 用户按了中断键（ctrl+c、ctrl+break或delete键）\n",
    "+ MemoryError 爆内存\n",
    "+ NameError 引用了一个不存在的变量名\n",
    "+ NotImplementedError 由抽象基类引发的异常，用于指示一个具体的子类必须覆盖一个方法\n",
    "+ OSError 由模块os中的函数引发的异常，用来指示平台相关的错误\n",
    "+ OverflowError 整数运算的结果太大导致溢出\n",
    "+ SyntaxError 语法错误\n",
    "+ SystemError python本身或某些扩展模块中的内部错误\n",
    "+ TypeError 对某对象执行了不支持的操作\n",
    "+ UnboundLocalError 引用未绑定值的本地变量\n",
    "+ UnicodeError 在Unicode的字符串之间进行转换时发生的错误\n",
    "+ ValueError 应用于某个对象的操作或函数，这个对象具有正确的类型，但确有不适当的值\n",
    "+ WindowsError 模块os中的函数引发的异常，用来指示与Windows相关的错误\n",
    "+ ZeroDivisionError 除数为0的错误"
   ]
  },
  {
   "cell_type": "markdown",
   "metadata": {
    "tags": []
   },
   "source": [
    "### 四、自定义异常类\n",
    "+ 可以从自定义异常类和标准异常类进行多重继承\n",
    "+ 如 class CustomAttributeError(CustomException, AttributeError):\n",
    "+ python标准库中的许多模块都定义了自己的异常类，如socket中的socket.error，等同于自定义的异常类"
   ]
  },
  {
   "cell_type": "markdown",
   "metadata": {},
   "source": [
    "### 五、断言assert语句\n",
    "+ assert语句相当于自定义异常（手动触发异常），用于在程序中引入调试代码\n",
    "+ 语句为：assert condition\\[, expression\\]\n",
    "+ 如果条件满足，则assert不做任何操作。反之使用expression作为参数来实例化AssertionError并引发结果实例\n",
    "+ 若运行python时不使用-O选项，则\\__debug\\__内置变量为True。反之为False,编译器不为assert语句生成代码\n",
    "+ 所以语句相当于：先判断\\__debug\\__，再判断condition。若为not condition, 则raise AssertionError,<expression\\>\n",
    "+ 简单来说，就是assert后面的条件语句不满足，就会引发异常"
   ]
  },
  {
   "cell_type": "code",
   "execution_count": 3,
   "metadata": {},
   "outputs": [
    {
     "output_type": "error",
     "ename": "AssertionError",
     "evalue": "assert error.",
     "traceback": [
      "\u001b[1;31m---------------------------------------------------------------------------\u001b[0m",
      "\u001b[1;31mAssertionError\u001b[0m                            Traceback (most recent call last)",
      "\u001b[1;32m<ipython-input-3-71d4300abcd1>\u001b[0m in \u001b[0;36m<module>\u001b[1;34m\u001b[0m\n\u001b[0;32m      1\u001b[0m \u001b[0mx\u001b[0m \u001b[1;33m=\u001b[0m \u001b[1;36m1\u001b[0m\u001b[1;33m\u001b[0m\u001b[1;33m\u001b[0m\u001b[0m\n\u001b[1;32m----> 2\u001b[1;33m \u001b[1;32massert\u001b[0m \u001b[0mx\u001b[0m \u001b[1;33m==\u001b[0m \u001b[1;36m0\u001b[0m\u001b[1;33m,\u001b[0m\u001b[1;34m\"assert error.\"\u001b[0m\u001b[1;33m\u001b[0m\u001b[1;33m\u001b[0m\u001b[0m\n\u001b[0m",
      "\u001b[1;31mAssertionError\u001b[0m: assert error."
     ]
    }
   ],
   "source": [
    "x = 1\n",
    "assert x == 0,\"assert error.\""
   ]
  },
  {
   "cell_type": "code",
   "execution_count": null,
   "metadata": {},
   "outputs": [],
   "source": []
  }
 ]
}
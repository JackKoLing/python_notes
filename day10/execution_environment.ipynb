{
 "metadata": {
  "language_info": {
   "codemirror_mode": {
    "name": "ipython",
    "version": 3
   },
   "file_extension": ".py",
   "mimetype": "text/x-python",
   "name": "python",
   "nbconvert_exporter": "python",
   "pygments_lexer": "ipython3",
   "version": 3
  },
  "orig_nbformat": 2
 },
 "nbformat": 4,
 "nbformat_minor": 2,
 "cells": [
  {
   "cell_type": "markdown",
   "metadata": {},
   "source": [
    "## This file introduce python execution environment."
   ]
  },
  {
   "cell_type": "markdown",
   "metadata": {},
   "source": [
    "### 一、解释器环境与选项\n",
    "+ 通常运行python脚本，都是直接python filename\n",
    "+ 但是python解释器启动时，可以有一些选项。python \\[options\\]\\[-c cmd| filename| -\\] \\[args\\]\n",
    "+ 常见的选项有：\n",
    "+ -h 打印所有可用命令行选项的列表\n",
    "+ -i 在程序执行后进入交互模式\n",
    "+ -O 优化模式\n",
    "+ -OO 优化模式，在创建.pyo文件时删除文档字符串\n",
    "+ -c cmd 以字符串形式执行cmd\n",
    "+ -v 详细模式，跟踪导入语句"
   ]
  },
  {
   "cell_type": "markdown",
   "metadata": {},
   "source": [
    "### 二、python解释器环境变量\n",
    "+ PYTHONPATH 以冒号分隔的模块搜索路径\n",
    "+ pYTHONHOME python的安装位置\n",
    "+ PYTHONOPTIMIZE 相当于-O选项\n",
    "+ PYTHONVERBOSE 相当于-v选项"
   ]
  },
  {
   "cell_type": "code",
   "execution_count": null,
   "metadata": {},
   "outputs": [],
   "source": []
  }
 ]
}
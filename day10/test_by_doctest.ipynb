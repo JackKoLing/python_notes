{
 "metadata": {
  "language_info": {
   "codemirror_mode": {
    "name": "ipython",
    "version": 3
   },
   "file_extension": ".py",
   "mimetype": "text/x-python",
   "name": "python",
   "nbconvert_exporter": "python",
   "pygments_lexer": "ipython3",
   "version": "3.7.1-final"
  },
  "orig_nbformat": 2,
  "kernelspec": {
   "name": "python_defaultSpec_1599391033175",
   "display_name": "Python 3.7.1 64-bit ('learnPy': conda)"
  }
 },
 "nbformat": 4,
 "nbformat_minor": 2,
 "cells": [
  {
   "cell_type": "markdown",
   "metadata": {},
   "source": [
    "## This file introduce python test by doctest."
   ]
  },
  {
   "cell_type": "markdown",
   "metadata": {},
   "source": [
    "### 一、python文档字符串\n",
    "+ 如果函数、类或模块的第一行是一个字符串，这个字符串就称为文档字符串（docstrings）\n",
    "+ 内置函数help()或对象的默认方法\\__doc\\__可以显示这些文档字符串"
   ]
  },
  {
   "cell_type": "code",
   "execution_count": 1,
   "metadata": {
    "tags": []
   },
   "outputs": [
    {
     "output_type": "stream",
     "name": "stdout",
     "text": "5\n"
    }
   ],
   "source": [
    "def add(num1, num2):\n",
    "    \"\"\" the sumary of num1 and num2.\n",
    "    >>> add(2, 5)\n",
    "    7\n",
    "    >>> add(12, 77)\n",
    "    89\n",
    "    \"\"\"\n",
    "    return num1 + num2\n",
    "\n",
    "print(add(2, 3))"
   ]
  },
  {
   "cell_type": "code",
   "execution_count": 2,
   "metadata": {
    "tags": []
   },
   "outputs": [
    {
     "output_type": "stream",
     "name": "stdout",
     "text": "Help on function add in module __main__:\n\nadd(num1, num2)\n    the sumary of num1 and num2.\n    >>> add(2, 5)\n    7\n    >>> add(12, 77)\n    89\n\nNone\n"
    }
   ],
   "source": [
    "print(help(add))"
   ]
  },
  {
   "cell_type": "code",
   "execution_count": 3,
   "metadata": {
    "tags": []
   },
   "outputs": [
    {
     "output_type": "stream",
     "name": "stdout",
     "text": "the sumary of num1 and num2.\n    >>> add(2, 5)\n    7\n    >>> add(12, 77)\n    89\n    \n"
    }
   ],
   "source": [
    "print(add.__doc__)"
   ]
  },
  {
   "cell_type": "markdown",
   "metadata": {},
   "source": [
    "### 二、使用doctest模块来测试\n",
    "+ doctest模块允许在文档字符串内嵌入注释以显示各种语句的期望行为，尤其是函数和方法的结果\n",
    "+ 此处的文档字符串看起来如同一个交互式shell会话\n",
    "+ 可用于测试文档是否与程序主体保持同步，或基于文档对程序本身做测试"
   ]
  },
  {
   "cell_type": "code",
   "execution_count": 4,
   "metadata": {
    "tags": []
   },
   "outputs": [
    {
     "output_type": "stream",
     "name": "stdout",
     "text": "**********************************************************************\nFile \"D:\\learnCode\\learnPython\\day10\\lib\\my_module.py\", line 9, in my_module.add\nFailed example:\n    add(12, 77)\nExpected:\n    90\nGot:\n    89\n**********************************************************************\n1 items had failures:\n   1 of   2 in my_module.add\n***Test Failed*** 1 failures.\n"
    },
    {
     "output_type": "execute_result",
     "data": {
      "text/plain": "TestResults(failed=1, attempted=2)"
     },
     "metadata": {},
     "execution_count": 4
    }
   ],
   "source": [
    "import sys\n",
    "sys.path.append('D:\\learnCode\\learnPython\\day10\\lib')\n",
    "import my_module\n",
    "import doctest\n",
    "doctest.testmod(my_module) # 参数是模块名"
   ]
  },
  {
   "cell_type": "markdown",
   "metadata": {},
   "source": [
    "### 三、创建可自测试的模块"
   ]
  },
  {
   "cell_type": "code",
   "execution_count": 5,
   "metadata": {
    "tags": []
   },
   "outputs": [
    {
     "output_type": "stream",
     "name": "stdout",
     "text": "**********************************************************************\nFile \"__main__\", line 6, in __main__.add\nFailed example:\n    add(12, 77)\nExpected:\n    90\nGot:\n    89\n**********************************************************************\n1 items had failures:\n   1 of   2 in __main__.add\n***Test Failed*** 1 failures.\n"
    }
   ],
   "source": [
    "def add(num1, num2):\n",
    "    \"\"\"\n",
    "    the sumary of num1 and num2.\n",
    "    >>> add(2, 5)\n",
    "    7\n",
    "    >>> add(12, 77)\n",
    "    90\n",
    "    \"\"\"\n",
    "    return num1 + num2\n",
    "\n",
    "if __name__ == '__main__':\n",
    "    import doctest\n",
    "    doctest.testmod()"
   ]
  },
  {
   "cell_type": "code",
   "execution_count": null,
   "metadata": {},
   "outputs": [],
   "source": []
  }
 ]
}
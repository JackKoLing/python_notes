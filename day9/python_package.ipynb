{
 "metadata": {
  "language_info": {
   "codemirror_mode": {
    "name": "ipython",
    "version": 3
   },
   "file_extension": ".py",
   "mimetype": "text/x-python",
   "name": "python",
   "nbconvert_exporter": "python",
   "pygments_lexer": "ipython3",
   "version": "3.7.1-final"
  },
  "orig_nbformat": 2,
  "kernelspec": {
   "name": "python_defaultSpec_1599319993643",
   "display_name": "Python 3.7.1 64-bit ('learnPy': conda)"
  }
 },
 "nbformat": 4,
 "nbformat_minor": 2,
 "cells": [
  {
   "cell_type": "markdown",
   "metadata": {},
   "source": [
    "## This file introduce python package."
   ]
  },
  {
   "cell_type": "markdown",
   "metadata": {},
   "source": [
    "### 一、Python包\n",
    "+ 包用于将一组模块归并到一个目录中，此目录就是包，目录名即为包名\n",
    "+ 包是一个有层次的文件目录结构，它定义了一个由模块和子包组成的python应用程序执行环境\n",
    "+ 基于包，python在导入模块时可以指定模块的路径，如：import utils.dataloader\n",
    "+ 每个包（文件夹）内一般都必须有\\__init\\__.py文件，它可包含python代码，但通常为空，仅用于扮演包初始化的挂钩、替目录产生模块命名空间以及使用目录导入时实现from *行为的角色"
   ]
  },
  {
   "cell_type": "markdown",
   "metadata": {},
   "source": [
    "### 二、模块的顶层执行及被导入\n",
    "+ 一个模块文件（.py文件）可以同时支持顶层执行（作为顶层文件直接运行）或被导入（作为模型文件提供函数）\n",
    "+ 每个模块都有个名为\\__name\\__的内置属性，这是python自动设置的\n",
    "+ 若直接运行此顶层文件，则其\\__name\\__值为“\\__main\\__”。如果是被导入，则\\__name\\__值为模块名\n",
    "+ 因此可以利用这个特点，来做模块的自我测试"
   ]
  },
  {
   "cell_type": "code",
   "execution_count": 1,
   "metadata": {
    "tags": []
   },
   "outputs": [
    {
     "output_type": "stream",
     "name": "stdout",
     "text": "hello\n"
    }
   ],
   "source": [
    "def testFunc():\n",
    "    print('hello')\n",
    "\n",
    "if __name__ == '__main__':\n",
    "    testFunc()"
   ]
  }
 ]
}
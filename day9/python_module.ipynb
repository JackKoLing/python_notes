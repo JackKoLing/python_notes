{
 "metadata": {
  "language_info": {
   "codemirror_mode": {
    "name": "ipython",
    "version": 3
   },
   "file_extension": ".py",
   "mimetype": "text/x-python",
   "name": "python",
   "nbconvert_exporter": "python",
   "pygments_lexer": "ipython3",
   "version": "3.7.1-final"
  },
  "orig_nbformat": 2,
  "kernelspec": {
   "name": "python_defaultSpec_1599316105003",
   "display_name": "Python 3.7.1 64-bit ('learnPy': conda)"
  }
 },
 "nbformat": 4,
 "nbformat_minor": 2,
 "cells": [
  {
   "cell_type": "markdown",
   "metadata": {},
   "source": [
    "## This file introduce python module."
   ]
  },
  {
   "cell_type": "markdown",
   "metadata": {},
   "source": [
    "### 一、Python模块\n",
    "+ 可以将代码量较大的程序分割成多个有组织的、彼此独立但又能互相交互的代码片段，这些自我包含的有组织的代码段就是模块\n",
    "+ 模块在物理形式上表现为以.py结尾的代码文件\n",
    "+ 一个文件被看作一个独立的模块，一个模块也可以被看作是一个文件，每个模块都有自己的名称空间\n",
    "+ python允许“导入”其他模块以实现代码重用，从而也实现了将独立的代码文件组织成更大的程序系统\n",
    "+ python中，模块也是对象\n",
    "+ 在一个模块的顶层定义的所有变量，都会在被导入时成为了被导入模块的属性"
   ]
  },
  {
   "cell_type": "markdown",
   "metadata": {},
   "source": [
    "### 二、Python程序架构\n",
    "+ 一个python程序通常包括一个顶层程序文件和其他的模块文件（0个、1个或多个）\n",
    "+ 顶层文件：包含了程序的主要控制流程\n",
    "+ 模块文件：为顶层文件或其他模块提供各种功能性组件。被导入时，会立刻执行顶层程序代码，比如定义路径、超参数那些\n",
    "+ 比如一个深度学习训练，顶层文件就是train.py，而其他模块有dataloader.py、net.py、util.py等等"
   ]
  },
  {
   "cell_type": "code",
   "execution_count": 1,
   "metadata": {
    "tags": []
   },
   "outputs": [
    {
     "output_type": "stream",
     "name": "stdout",
     "text": "['__add__', '__class__', '__contains__', '__delattr__', '__dir__', '__doc__', '__eq__', '__format__', '__ge__', '__getattribute__', '__getitem__', '__getnewargs__', '__gt__', '__hash__', '__init__', '__init_subclass__', '__iter__', '__le__', '__len__', '__lt__', '__mod__', '__mul__', '__ne__', '__new__', '__reduce__', '__reduce_ex__', '__repr__', '__rmod__', '__rmul__', '__setattr__', '__sizeof__', '__str__', '__subclasshook__', 'capitalize', 'casefold', 'center', 'count', 'encode', 'endswith', 'expandtabs', 'find', 'format', 'format_map', 'index', 'isalnum', 'isalpha', 'isascii', 'isdecimal', 'isdigit', 'isidentifier', 'islower', 'isnumeric', 'isprintable', 'isspace', 'istitle', 'isupper', 'join', 'ljust', 'lower', 'lstrip', 'maketrans', 'partition', 'replace', 'rfind', 'rindex', 'rjust', 'rpartition', 'rsplit', 'rstrip', 'split', 'splitlines', 'startswith', 'strip', 'swapcase', 'title', 'translate', 'upper', 'zfill']\n"
    }
   ],
   "source": [
    "# 查看python自带的模块\n",
    "print(dir('module'))"
   ]
  },
  {
   "cell_type": "markdown",
   "metadata": {},
   "source": [
    "### 三、模块的执行环境\n",
    "+ 模块是被导入的，但模块也可以导入和使用其他模块，这些模块可以用python或其他编程语言写成\n",
    "+ 模块可内含变量、函数以及类来进行其工作，而函数和类可以包含变量和其它元素"
   ]
  },
  {
   "cell_type": "markdown",
   "metadata": {},
   "source": [
    "### 四、导入模块\n",
    "+ 只能使用模块名，不能带.py后缀\n",
    "+ import语句，建议一个import导入一个模块，会生成一个名称空间。如：import numpy as np、import pytorch\n",
    "+ from-import语句，用于导入只需要的模块，如：from matplotlib import pyplot as plt\n",
    "+ import和from都是可执行语句，可嵌套在if语句中\n",
    "+ import和from是隐性赋值语句，import将整个模块对象赋值给一个变量名；from将一个或多个变量名赋值给同名对象"
   ]
  },
  {
   "cell_type": "code",
   "execution_count": 2,
   "metadata": {
    "tags": []
   },
   "outputs": [
    {
     "output_type": "stream",
     "name": "stdout",
     "text": "['ALLOW_THREADS', 'AxisError', 'BUFSIZE', 'CLIP', 'ComplexWarning', 'DataSource', 'ERR_CALL', 'ERR_DEFAULT', 'ERR_IGNORE', 'ERR_LOG', 'ERR_PRINT', 'ERR_RAISE', 'ERR_WARN', 'FLOATING_POINT_SUPPORT', 'FPE_DIVIDEBYZERO', 'FPE_INVALID', 'FPE_OVERFLOW', 'FPE_UNDERFLOW', 'False_', 'Inf', 'Infinity', 'MAXDIMS', 'MAY_SHARE_BOUNDS', 'MAY_SHARE_EXACT', 'MachAr', 'ModuleDeprecationWarning', 'NAN', 'NINF', 'NZERO', 'NaN', 'PINF', 'PZERO', 'RAISE', 'RankWarning', 'SHIFT_DIVIDEBYZERO', 'SHIFT_INVALID', 'SHIFT_OVERFLOW', 'SHIFT_UNDERFLOW', 'ScalarType', 'Tester', 'TooHardError', 'True_', 'UFUNC_BUFSIZE_DEFAULT', 'UFUNC_PYVALS_NAME', 'VisibleDeprecationWarning', 'WRAP', '_NoValue', '_UFUNC_API', '__NUMPY_SETUP__', '__all__', '__builtins__', '__cached__', '__config__', '__dir__', '__doc__', '__file__', '__getattr__', '__git_revision__', '__loader__', '__name__', '__package__', '__path__', '__spec__', '__version__', '_add_newdoc_ufunc', '_distributor_init', '_globals', '_mat', '_pytesttester', 'abs', 'absolute', 'absolute_import', 'add', 'add_docstring', 'add_newdoc', 'add_newdoc_ufunc', 'alen', 'all', 'allclose', 'alltrue', 'amax', 'amin', 'angle', 'any', 'append', 'apply_along_axis', 'apply_over_axes', 'arange', 'arccos', 'arccosh', 'arcsin', 'arcsinh', 'arctan', 'arctan2', 'arctanh', 'argmax', 'argmin', 'argpartition', 'argsort', 'argwhere', 'around', 'array', 'array2string', 'array_equal', 'array_equiv', 'array_repr', 'array_split', 'array_str', 'asanyarray', 'asarray', 'asarray_chkfinite', 'ascontiguousarray', 'asfarray', 'asfortranarray', 'asmatrix', 'asscalar', 'atleast_1d', 'atleast_2d', 'atleast_3d', 'average', 'bartlett', 'base_repr', 'binary_repr', 'bincount', 'bitwise_and', 'bitwise_not', 'bitwise_or', 'bitwise_xor', 'blackman', 'block', 'bmat', 'bool', 'bool8', 'bool_', 'broadcast', 'broadcast_arrays', 'broadcast_to', 'busday_count', 'busday_offset', 'busdaycalendar', 'byte', 'byte_bounds', 'bytes0', 'bytes_', 'c_', 'can_cast', 'cast', 'cbrt', 'cdouble', 'ceil', 'cfloat', 'char', 'character', 'chararray', 'choose', 'clip', 'clongdouble', 'clongfloat', 'column_stack', 'common_type', 'compare_chararrays', 'compat', 'complex', 'complex128', 'complex64', 'complex_', 'complexfloating', 'compress', 'concatenate', 'conj', 'conjugate', 'convolve', 'copy', 'copysign', 'copyto', 'core', 'corrcoef', 'correlate', 'cos', 'cosh', 'count_nonzero', 'cov', 'cross', 'csingle', 'ctypeslib', 'cumprod', 'cumproduct', 'cumsum', 'datetime64', 'datetime_as_string', 'datetime_data', 'deg2rad', 'degrees', 'delete', 'deprecate', 'deprecate_with_doc', 'diag', 'diag_indices', 'diag_indices_from', 'diagflat', 'diagonal', 'diff', 'digitize', 'disp', 'divide', 'division', 'divmod', 'dot', 'double', 'dsplit', 'dstack', 'dtype', 'e', 'ediff1d', 'einsum', 'einsum_path', 'emath', 'empty', 'empty_like', 'equal', 'errstate', 'euler_gamma', 'exp', 'exp2', 'expand_dims', 'expm1', 'extract', 'eye', 'fabs', 'fastCopyAndTranspose', 'fft', 'fill_diagonal', 'find_common_type', 'finfo', 'fix', 'flatiter', 'flatnonzero', 'flexible', 'flip', 'fliplr', 'flipud', 'float', 'float16', 'float32', 'float64', 'float_', 'float_power', 'floating', 'floor', 'floor_divide', 'fmax', 'fmin', 'fmod', 'format_float_positional', 'format_float_scientific', 'format_parser', 'frexp', 'frombuffer', 'fromfile', 'fromfunction', 'fromiter', 'frompyfunc', 'fromregex', 'fromstring', 'full', 'full_like', 'fv', 'gcd', 'generic', 'genfromtxt', 'geomspace', 'get_array_wrap', 'get_include', 'get_printoptions', 'getbufsize', 'geterr', 'geterrcall', 'geterrobj', 'gradient', 'greater', 'greater_equal', 'half', 'hamming', 'hanning', 'heaviside', 'histogram', 'histogram2d', 'histogram_bin_edges', 'histogramdd', 'hsplit', 'hstack', 'hypot', 'i0', 'identity', 'iinfo', 'imag', 'in1d', 'index_exp', 'indices', 'inexact', 'inf', 'info', 'infty', 'inner', 'insert', 'int', 'int0', 'int16', 'int32', 'int64', 'int8', 'int_', 'int_asbuffer', 'intc', 'integer', 'interp', 'intersect1d', 'intp', 'invert', 'ipmt', 'irr', 'is_busday', 'isclose', 'iscomplex', 'iscomplexobj', 'isfinite', 'isfortran', 'isin', 'isinf', 'isnan', 'isnat', 'isneginf', 'isposinf', 'isreal', 'isrealobj', 'isscalar', 'issctype', 'issubclass_', 'issubdtype', 'issubsctype', 'iterable', 'ix_', 'kaiser', 'kron', 'lcm', 'ldexp', 'left_shift', 'less', 'less_equal', 'lexsort', 'lib', 'linalg', 'linspace', 'little_endian', 'load', 'loads', 'loadtxt', 'log', 'log10', 'log1p', 'log2', 'logaddexp', 'logaddexp2', 'logical_and', 'logical_not', 'logical_or', 'logical_xor', 'logspace', 'long', 'longcomplex', 'longdouble', 'longfloat', 'longlong', 'lookfor', 'ma', 'mafromtxt', 'mask_indices', 'mat', 'math', 'matmul', 'matrix', 'matrixlib', 'max', 'maximum', 'maximum_sctype', 'may_share_memory', 'mean', 'median', 'memmap', 'meshgrid', 'mgrid', 'min', 'min_scalar_type', 'minimum', 'mintypecode', 'mirr', 'mod', 'modf', 'moveaxis', 'msort', 'multiply', 'nan', 'nan_to_num', 'nanargmax', 'nanargmin', 'nancumprod', 'nancumsum', 'nanmax', 'nanmean', 'nanmedian', 'nanmin', 'nanpercentile', 'nanprod', 'nanquantile', 'nanstd', 'nansum', 'nanvar', 'nbytes', 'ndarray', 'ndenumerate', 'ndfromtxt', 'ndim', 'ndindex', 'nditer', 'negative', 'nested_iters', 'newaxis', 'nextafter', 'nonzero', 'not_equal', 'nper', 'npv', 'numarray', 'number', 'obj2sctype', 'object', 'object0', 'object_', 'ogrid', 'oldnumeric', 'ones', 'ones_like', 'outer', 'packbits', 'pad', 'partition', 'percentile', 'pi', 'piecewise', 'place', 'pmt', 'poly', 'poly1d', 'polyadd', 'polyder', 'polydiv', 'polyfit', 'polyint', 'polymul', 'polynomial', 'polysub', 'polyval', 'positive', 'power', 'ppmt', 'print_function', 'printoptions', 'prod', 'product', 'promote_types', 'ptp', 'put', 'put_along_axis', 'putmask', 'pv', 'quantile', 'r_', 'rad2deg', 'radians', 'random', 'rate', 'ravel', 'ravel_multi_index', 'real', 'real_if_close', 'rec', 'recarray', 'recfromcsv', 'recfromtxt', 'reciprocal', 'record', 'remainder', 'repeat', 'require', 'reshape', 'resize', 'result_type', 'right_shift', 'rint', 'roll', 'rollaxis', 'roots', 'rot90', 'round', 'round_', 'row_stack', 's_', 'safe_eval', 'save', 'savetxt', 'savez', 'savez_compressed', 'sctype2char', 'sctypeDict', 'sctypeNA', 'sctypes', 'searchsorted', 'select', 'set_numeric_ops', 'set_printoptions', 'set_string_function', 'setbufsize', 'setdiff1d', 'seterr', 'seterrcall', 'seterrobj', 'setxor1d', 'shape', 'shares_memory', 'short', 'show_config', 'sign', 'signbit', 'signedinteger', 'sin', 'sinc', 'single', 'singlecomplex', 'sinh', 'size', 'sometrue', 'sort', 'sort_complex', 'source', 'spacing', 'split', 'sqrt', 'square', 'squeeze', 'stack', 'std', 'str', 'str0', 'str_', 'string_', 'subtract', 'sum', 'swapaxes', 'sys', 'take', 'take_along_axis', 'tan', 'tanh', 'tensordot', 'test', 'testing', 'tile', 'timedelta64', 'trace', 'tracemalloc_domain', 'transpose', 'trapz', 'tri', 'tril', 'tril_indices', 'tril_indices_from', 'trim_zeros', 'triu', 'triu_indices', 'triu_indices_from', 'true_divide', 'trunc', 'typeDict', 'typeNA', 'typecodes', 'typename', 'ubyte', 'ufunc', 'uint', 'uint0', 'uint16', 'uint32', 'uint64', 'uint8', 'uintc', 'uintp', 'ulonglong', 'unicode', 'unicode_', 'union1d', 'unique', 'unpackbits', 'unravel_index', 'unsignedinteger', 'unwrap', 'ushort', 'vander', 'var', 'vdot', 'vectorize', 'version', 'void', 'void0', 'vsplit', 'vstack', 'warnings', 'where', 'who', 'zeros', 'zeros_like']\n"
    }
   ],
   "source": [
    "import numpy as np\n",
    "print(dir(np))"
   ]
  },
  {
   "cell_type": "markdown",
   "metadata": {},
   "source": [
    "### 五、import的工作机制\n",
    "+ import语句导入指定的模块时会执行三个步骤：\n",
    "+ （1）找到模块文件：在指定的路径下搜索模块文件\n",
    "+ （2）编译成字节码：文件导入时就会编译。顶层文件的.pyc字节码文件在内部使用后会被丢弃，只有被导入的文件才会留下.pyc文件\n",
    "+ （3）执行模块的代码来创建其所定义的对象：模块文件中的所有语句都会依次执行，从头到尾，所以任何对变量名的赋值运算，都会产生所得到的模块文件的属性\n",
    "+ 注意：模块只在第一次导入时才会执行以上步骤，后续的导入只不过是提取内存中已加载的模块对象。也可以使用reload()来重新加载模块"
   ]
  },
  {
   "cell_type": "markdown",
   "metadata": {},
   "source": [
    "### 六、搜索模块文件\n",
    "+ python解释器在import模块时必须先找到对应的模块文件，其可查找的路径有四个：\n",
    "+ （1）程序的主目录，也就是当前路径\n",
    "+ （2）pythonpath目录（如果设置了此变量）\n",
    "+ （3）标准链接库目录\n",
    "+ （4）任何.pth文件的内容（如果存在.pth文件）\n",
    "+ 这四个组件组合起来就是sys.path所包含的路径，它会搜索路径中第一个符合导入文件名的文件"
   ]
  },
  {
   "cell_type": "code",
   "execution_count": 3,
   "metadata": {
    "tags": []
   },
   "outputs": [
    {
     "output_type": "stream",
     "name": "stdout",
     "text": "['d:\\\\learnCode\\\\learnPython\\\\day9', 'c:\\\\Users\\\\JackkoLing\\\\.vscode\\\\extensions\\\\ms-python.python-2020.8.106424\\\\pythonFiles\\\\vscode_datascience_helpers\\\\..\\\\.does-not-exist', 'c:\\\\Users\\\\JackkoLing\\\\.vscode\\\\extensions\\\\ms-python.python-2020.8.106424\\\\pythonFiles', 'c:\\\\Users\\\\JackkoLing\\\\.vscode\\\\extensions\\\\ms-python.python-2020.8.106424\\\\pythonFiles\\\\lib\\\\python', 'D:\\\\Install\\\\Anaconda\\\\envs\\\\learnPy\\\\python37.zip', 'D:\\\\Install\\\\Anaconda\\\\envs\\\\learnPy\\\\DLLs', 'D:\\\\Install\\\\Anaconda\\\\envs\\\\learnPy\\\\lib', 'D:\\\\Install\\\\Anaconda\\\\envs\\\\learnPy', '', 'D:\\\\Install\\\\Anaconda\\\\envs\\\\learnPy\\\\lib\\\\site-packages', 'D:\\\\Install\\\\Anaconda\\\\envs\\\\learnPy\\\\lib\\\\site-packages\\\\win32', 'D:\\\\Install\\\\Anaconda\\\\envs\\\\learnPy\\\\lib\\\\site-packages\\\\win32\\\\lib', 'D:\\\\Install\\\\Anaconda\\\\envs\\\\learnPy\\\\lib\\\\site-packages\\\\Pythonwin', 'D:\\\\Install\\\\Anaconda\\\\envs\\\\learnPy\\\\lib\\\\site-packages\\\\IPython\\\\extensions', 'C:\\\\Users\\\\JackkoLing\\\\.ipython']\n"
    }
   ],
   "source": [
    "import sys\n",
    "print(sys.path) # 第一个就是程序主目录，当前路径"
   ]
  },
  {
   "cell_type": "markdown",
   "metadata": {},
   "source": [
    "### 七、导入自己的包"
   ]
  },
  {
   "cell_type": "code",
   "execution_count": 4,
   "metadata": {},
   "outputs": [],
   "source": [
    "import my_module "
   ]
  },
  {
   "cell_type": "code",
   "execution_count": 5,
   "metadata": {
    "tags": []
   },
   "outputs": [
    {
     "output_type": "stream",
     "name": "stdout",
     "text": "['d:\\\\learnCode\\\\learnPython\\\\day9', 'c:\\\\Users\\\\JackkoLing\\\\.vscode\\\\extensions\\\\ms-python.python-2020.8.106424\\\\pythonFiles\\\\vscode_datascience_helpers\\\\..\\\\.does-not-exist', 'c:\\\\Users\\\\JackkoLing\\\\.vscode\\\\extensions\\\\ms-python.python-2020.8.106424\\\\pythonFiles', 'c:\\\\Users\\\\JackkoLing\\\\.vscode\\\\extensions\\\\ms-python.python-2020.8.106424\\\\pythonFiles\\\\lib\\\\python', 'D:\\\\Install\\\\Anaconda\\\\envs\\\\learnPy\\\\python37.zip', 'D:\\\\Install\\\\Anaconda\\\\envs\\\\learnPy\\\\DLLs', 'D:\\\\Install\\\\Anaconda\\\\envs\\\\learnPy\\\\lib', 'D:\\\\Install\\\\Anaconda\\\\envs\\\\learnPy', '', 'D:\\\\Install\\\\Anaconda\\\\envs\\\\learnPy\\\\lib\\\\site-packages', 'D:\\\\Install\\\\Anaconda\\\\envs\\\\learnPy\\\\lib\\\\site-packages\\\\win32', 'D:\\\\Install\\\\Anaconda\\\\envs\\\\learnPy\\\\lib\\\\site-packages\\\\win32\\\\lib', 'D:\\\\Install\\\\Anaconda\\\\envs\\\\learnPy\\\\lib\\\\site-packages\\\\Pythonwin', 'D:\\\\Install\\\\Anaconda\\\\envs\\\\learnPy\\\\lib\\\\site-packages\\\\IPython\\\\extensions', 'C:\\\\Users\\\\JackkoLing\\\\.ipython', 'D:\\\\learnCode\\\\learnPython\\\\day9']\nhello myclass jackko\nmy_module\n"
    }
   ],
   "source": [
    "# 若找不到自己的模块，则需要将搜索的路径加入sys.path中\n",
    "import sys\n",
    "sys.path.append('D:\\learnCode\\learnPython\\day9') # 模块存放的绝对路径\n",
    "print(sys.path)\n",
    "\n",
    "import my_module\n",
    "ins1 = my_module.MyClass('jackko')\n",
    "ins1.print_name()\n",
    "print(my_module.__name__) # 如果一个模块是被导入的，则它的name属性是导入的对象名\n",
    "sys.path.remove('D:\\learnCode\\learnPython\\day9')"
   ]
  },
  {
   "cell_type": "code",
   "execution_count": null,
   "metadata": {},
   "outputs": [],
   "source": []
  }
 ]
}
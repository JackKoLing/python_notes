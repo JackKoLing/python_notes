{
 "metadata": {
  "language_info": {
   "codemirror_mode": {
    "name": "ipython",
    "version": 3
   },
   "file_extension": ".py",
   "mimetype": "text/x-python",
   "name": "python",
   "nbconvert_exporter": "python",
   "pygments_lexer": "ipython3",
   "version": 3
  },
  "orig_nbformat": 2
 },
 "nbformat": 4,
 "nbformat_minor": 2,
 "cells": [
  {
   "cell_type": "markdown",
   "metadata": {},
   "source": [
    "## This file introduce python release by distutils."
   ]
  },
  {
   "cell_type": "markdown",
   "metadata": {},
   "source": [
    "### 一、发布python模块或程序\n",
    "+ python模块、扩展和应用程序可以按一下几种形式进行打包和发布\n",
    "+ （1）压缩文件（使用distutils），如windows的zip文件和unix的tar.gz文件\n",
    "+ （2）自动解包或自动安装可执行文件，如windows的.exe文件\n",
    "+ （3）自包含的，不要求安装的预备运行可执行程序，如windows的.exe文件、unix的zip文件、mac的.app文件\n",
    "+ （4）平台相关的安装程序，如windows的.msi文件、linux的.rpm、src.rpm和.deb文件\n",
    "+ （5）python eggs，较流行的第三方扩展"
   ]
  },
  {
   "cell_type": "markdown",
   "metadata": {},
   "source": [
    "### 二、使用distutils发布模块\n",
    "+ distutils模块能帮助完成模块或程序发布\n",
    "+ 这里的“发布”是指一个文件集合，这些文件联合在一起可使用distutils构建、打包和发布模块\n",
    "+ 创建好的发布可以用于安装，也可上传到PyPI与他人共享"
   ]
  },
  {
   "cell_type": "markdown",
   "metadata": {},
   "source": [
    "#### (1)创建发布：\n",
    "+ 将各代码文件组织到模块容器中,也就是要打包的文件夹下\n",
    "+ 准备readme.md文件\n",
    "+ 在容器中创建setup.py文件\n",
    "+ from distutils.core import setup\n",
    "+ setup(name='test', version='0.0.1)"
   ]
  },
  {
   "cell_type": "markdown",
   "metadata": {},
   "source": [
    "#### setup.py中setup()中可用参数：\n",
    "+ name 包的名称（必需）\n",
    "+ version 版本号（必需）\n",
    "+ author\n",
    "+ author_email\n",
    "+ url 包的主页\n",
    "+ description 包的简单描述\n",
    "+ download_url\n",
    "+ platforms 平台列表\n",
    "+ license 许可证\n",
    "+ py_modules 各模块名称组成的列表，这些模块可能位于包的根目录下，也可能位于某子包目录下\n",
    "+ packages 各子包名称的列表\n",
    "+ 大体分为两类：元数据信息和包中的内容列表"
   ]
  },
  {
   "cell_type": "markdown",
   "metadata": {},
   "source": [
    "#### (2)完成打包\n",
    "+ 在要发布的容器目录中执行“python setup.py sdist”\n",
    "##### 命令python setup.py sdist --formats=  可以为sdist指定源码格式：\n",
    "+ zip: zip file\n",
    "+ gztar: tar.gz file\n",
    "+ bztar: tar.bz2 file\n",
    "+ ztar: tra.Z file\n",
    "+ tar: tar file\n",
    "##### 命令python setup.py bdist --formats=  可以为bdist指定二进制的格式：\n",
    "+ zip: zip file\n",
    "+ gztar: tar.gz file\n",
    "+ ztar: tra.Z file\n",
    "+ tar: tar file\n",
    "+ rpm: rpm package\n",
    "+ pkgtool: Solaris pkgtool\n",
    "+ wininst: Windows上自解压的zip格式的包\n",
    "+ msi: Microsoft Installer\n",
    "##### 还可以使用bdist_dumb、bdist_rpm、bdist_wininst\n",
    "##### 获取帮助的方式：\n",
    "+ python setup.py --help\n",
    "+ python setup.py --help-commands 所有可以使用的命令，如build, install\n",
    "+ python setup.py command --help 获取特定命令的帮助\n",
    "+ python setup.py command --help-formats 获取特定命令支持使用的格式\n"
   ]
  },
  {
   "cell_type": "markdown",
   "metadata": {},
   "source": [
    "#### （3）安装包\n",
    "+ python setup.py install\n",
    "+ 这个install会自动包含build和install的过程\n",
    "+ python setup.py build --build-base=/path/to/build_dir\n",
    "+ 第三方模块的安装路径通常为: site-packages\n",
    "+ 自定义安装路径：--user= 或者 --prefix= 或--exec-prefix=\n",
    "+ 深度定制：--install-lib=/path/to/lib或定义可执行文件的安装路径，用--install-scripts=/path/to/bin"
   ]
  },
  {
   "cell_type": "code",
   "execution_count": null,
   "metadata": {},
   "outputs": [],
   "source": []
  }
 ]
}
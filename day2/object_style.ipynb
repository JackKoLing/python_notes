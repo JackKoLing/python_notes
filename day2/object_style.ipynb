{
 "cells": [
  {
   "cell_type": "markdown",
   "metadata": {},
   "source": [
    "### This file include object types and data types"
   ]
  },
  {
   "cell_type": "markdown",
   "metadata": {},
   "source": [
    "### 前言：\n",
    "python当中一切皆对象（数据也是对象），所有都是由对象来展开，而对象就是由类的实例化而来。而有的类是内置的类，如整数、浮点数、字符串都是由内置类实例化而来。另外，用户可以自己定义类，就是所谓的面向对象编程（一般都是使用内置类型，因为性能更优）。类就是数据+方法。类的实例化只是数据不同，而使用的方法是一致的。比如3+5,其中3就是一个整型类的实例化，调用3.\\__add\\__(5)这个方法。"
   ]
  },
  {
   "cell_type": "markdown",
   "metadata": {},
   "source": [
    "### 获取使用帮助：\n",
    "+ 获取对象支持使用的属性和方法：dir(list)\n",
    "+ 某方法的具体使用帮助：help(list.pop)\n",
    "+ 获取可调用对象的文档字符串：print(obj.\\__doc\\__)"
   ]
  },
  {
   "cell_type": "markdown",
   "metadata": {},
   "source": [
    "### Python对象的相关术语：\n",
    "+ 程序中存储的所有数据都是对象\n",
    "+ 每个对象都有一个身份（id，即对象在内存中的地址）、一个类型（type）和一个值\n",
    "+ 对象的类型也叫类别，用于决定对象的内部表示及支持的方法和操作（如整数可以加减乘除运算，而字符串的加法是相连，所以python是强类型语言，相同类型才能操作）\n",
    "+ 创建特定类型的对象时，有时也将该对象称为该类型的实例（也就是内置函数的实例化），所以class是自定义类型，type是内置类型\n",
    "+ 实例被创建后，其身份和类型就不可改变。若对象值可修改，则称为可变对象（如列表、字典），反之为不可变对象（如数值、字符串、元组）\n",
    "+ 如果某个对象包含对其他对象的引用，则将其称为容器（如列表）\n",
    "+ 大多数对象都拥有大量特有的数据属性和方法。所有的对象都是由类实例化而来的，在类实例化成对象时，可以为内部的某些变量赋值。那么，这个对象内部可用的变量名称就叫做对象的属性。使用“.”来访问属性和方法"
   ]
  },
  {
   "cell_type": "code",
   "execution_count": 1,
   "metadata": {
    "tags": []
   },
   "outputs": [
    {
     "output_type": "stream",
     "name": "stdout",
     "text": "5\n"
    }
   ],
   "source": [
    "num = 5 # 这就是一个整型类的实例化成对象\n",
    "print(num.real) # 使用“.”来访问对象的属性和方法"
   ]
  },
  {
   "cell_type": "markdown",
   "metadata": {},
   "source": [
    "### 两个对象比较：\n",
    "1、值比较：对象中的数据是否相同\n",
    "\n",
    "2、身份比较：两个变量名引用的是否为同一对象\n",
    "\n",
    "3、类型比较：两个对象的类型是否相同"
   ]
  },
  {
   "cell_type": "code",
   "execution_count": 2,
   "metadata": {
    "tags": []
   },
   "outputs": [
    {
     "output_type": "stream",
     "name": "stdout",
     "text": "True\nTrue\nTrue\nTrue\n"
    }
   ],
   "source": [
    "num1 = 5\n",
    "num2 = 5\n",
    "print(num1 == num2) # 但未必证明是同一对象\n",
    "print(num1 is num2) # 这才是同一对象\n",
    "print(type(num1) is type(num2))\n",
    "print(id(num1) == id(num2))"
   ]
  },
  {
   "cell_type": "markdown",
   "metadata": {},
   "source": [
    "### python核心数据类型：\n",
    "+ 数字：int, long, float, complex, bool\n",
    "+ 字符串：str, bytes\n",
    "+ 列表：list\n",
    "+ 字典：dict\n",
    "+ 元组：tuple\n",
    "+ 文件：file\n",
    "+ 其他类型：集合（set）, frozenset, 类类型, None\n",
    "\n",
    "其他文件类工具：pipes, fifos, sockets"
   ]
  },
  {
   "cell_type": "markdown",
   "metadata": {},
   "source": [
    "### 类型显式转换：\n",
    "+ str(), repr()（精确值）或format()：将非字符型数据转换为字符串\n",
    "+ int()：转为整数\n",
    "+ float()：转为浮点数\n",
    "+ list(s)：将字符串s转为列表\n",
    "+ tuple(s)：将字符串s转换为元组\n",
    "+ set(s)：将字符串s转换为集合\n",
    "+ frozenset(s)：将字符串s转换为不可变集合\n",
    "+ dict(d)：创建字典,其中d必须是(key, value)的元组序列\n",
    "+ chr(x)：将整数转为对应的ASCII码\n",
    "+ ord(x)：将ASCII码转换为整数\n",
    "+ hex(x)：将整数转为十六进制字符串\n",
    "+ bin(x)：将整数转为二进制字符串\n",
    "+ oct(x): 将整数转为八进制字符串"
   ]
  },
  {
   "cell_type": "code",
   "execution_count": 3,
   "metadata": {
    "tags": []
   },
   "outputs": [
    {
     "output_type": "stream",
     "name": "stdout",
     "text": "<class 'float'>\n<class 'str'>\n<class 'float'>\n<class 'str'>\n<class 'str'>\n<class 'int'>\n<class 'float'>\n['h', 'e', 'l', 'l', 'o', ' ', 'w', 'o', 'r', 'l', 'd']\n['h', 'e', 'l', 'l', 'o', ' ', 'w', 'o', 'r', 'l', 'd']\n<class 'str'>\n('h', 'e', 'l', 'l', 'o', ' ', 'w', 'o', 'r', 'l', 'd')\n{'e', 'h', 'l', 'o', 'd', 'w', 'r', ' '}\n{'a': 1, 'b': 11, 'c': 45}\n<class 'str'>\n1\n51\n0xc 0b1100 0o14\n"
    }
   ],
   "source": [
    "num1 = 5.61\n",
    "print(type(num1))\n",
    "num1 = str(num1)\n",
    "print(type(num1))\n",
    "num2 = 3.14\n",
    "print(type(num2))\n",
    "num2 = repr(num2)\n",
    "print(type(num2))\n",
    "str1 = '45'\n",
    "print(type(str1))\n",
    "num3 = int(str1)\n",
    "print(type(num3))\n",
    "num4 = float(str1)\n",
    "print(type(num4))\n",
    "str2 = \"hello world\"\n",
    "l1 = list(str2)\n",
    "print(l1)\n",
    "str3 = str(l1) # 把整个列表当做一个串来用\n",
    "print(str3)\n",
    "print(type(str3))\n",
    "t1 = tuple(str2)\n",
    "print(t1)\n",
    "s1 = set(str2)\n",
    "print(s1)\n",
    "l3 = [('a', 1), ('b', 11), ('c', 45)]\n",
    "d1 = dict(l3)\n",
    "print(d1)\n",
    "num5 = 49\n",
    "c1 = chr(num5)\n",
    "print(type(c1))\n",
    "print(c1) # 因为49对应的ASCII码就是1\n",
    "s1 = '3'\n",
    "asc1 = ord(s1)\n",
    "print(asc1)  # 因为ASCII码是3的对应整数是51\n",
    "num6 = 12\n",
    "a = hex(num6)\n",
    "b = bin(num6)\n",
    "c = oct(num6)\n",
    "print(a, b, c)"
   ]
  },
  {
   "cell_type": "code",
   "execution_count": null,
   "metadata": {},
   "outputs": [],
   "source": []
  }
 ],
 "metadata": {
  "language_info": {
   "codemirror_mode": {
    "name": "ipython",
    "version": 3
   },
   "file_extension": ".py",
   "mimetype": "text/x-python",
   "name": "python",
   "nbconvert_exporter": "python",
   "pygments_lexer": "ipython3",
   "version": 3
  },
  "orig_nbformat": 2,
  "kernelspec": {
   "name": "python_defaultSpec_1594959941716",
   "display_name": "Python 3.7.1 64-bit ('learnPy': conda)"
  }
 },
 "nbformat": 4,
 "nbformat_minor": 2
}
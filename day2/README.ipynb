{
 "cells": [
  {
   "cell_type": "markdown",
   "metadata": {},
   "source": [
    "## 学习内容\n",
    "1、object_type.ipynb 介绍了对象的相关术语，核心数据类型，显式类型转换以及数字类型的操作。\n",
    "\n",
    "2、digit_type.ipynb 介绍了数字类型的操作\n",
    "\n",
    "2、string_type.ipynb 介绍了字符串的操作"
   ]
  },
  {
   "cell_type": "code",
   "execution_count": null,
   "metadata": {},
   "outputs": [],
   "source": []
  }
 ],
 "metadata": {
  "language_info": {
   "codemirror_mode": {
    "name": "ipython",
    "version": 3
   },
   "file_extension": ".py",
   "mimetype": "text/x-python",
   "name": "python",
   "nbconvert_exporter": "python",
   "pygments_lexer": "ipython3",
   "version": 3
  },
  "orig_nbformat": 2
 },
 "nbformat": 4,
 "nbformat_minor": 2
}
{
 "cells": [
  {
   "cell_type": "markdown",
   "metadata": {},
   "source": [
    "###  数字类型：布尔型、整数、浮点数、复数"
   ]
  },
  {
   "cell_type": "code",
   "execution_count": 1,
   "metadata": {
    "tags": []
   },
   "outputs": [
    {
     "output_type": "stream",
     "name": "stdout",
     "text": "16\n101\n154\n101\n-102\n27\n3.141592653589793\n"
    }
   ],
   "source": [
    "num7 = 2\n",
    "print(num7 << 3) #左移三位，由10变成10000\n",
    "print(255 & 101) #因为255是1，与其他按位与，就是其他\n",
    "print(255 ^ 101) #异或操作\n",
    "print(154 ^ 255)\n",
    "print(~101) # 按位取反\n",
    "print(3 ** 3)\n",
    "import math\n",
    "print(math.pi)"
   ]
  },
  {
   "cell_type": "code",
   "execution_count": null,
   "metadata": {},
   "outputs": [],
   "source": []
  }
 ],
 "metadata": {
  "language_info": {
   "codemirror_mode": {
    "name": "ipython",
    "version": 3
   },
   "file_extension": ".py",
   "mimetype": "text/x-python",
   "name": "python",
   "nbconvert_exporter": "python",
   "pygments_lexer": "ipython3",
   "version": 3
  },
  "orig_nbformat": 2,
  "kernelspec": {
   "name": "python_defaultSpec_1594959955160",
   "display_name": "Python 3.7.1 64-bit ('learnPy': conda)"
  }
 },
 "nbformat": 4,
 "nbformat_minor": 2
}
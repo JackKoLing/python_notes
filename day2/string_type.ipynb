{
 "cells": [
  {
   "cell_type": "markdown",
   "metadata": {},
   "source": [
    "### This file introduce string type"
   ]
  },
  {
   "cell_type": "markdown",
   "metadata": {},
   "source": [
    "### 序列类型：\n",
    "+ 字符串、列表、元组\n",
    "+ 其中字符和元组是不可变序列，而列表支持插入、删除和替换元素，它们都支持迭代"
   ]
  },
  {
   "cell_type": "markdown",
   "metadata": {},
   "source": [
    "### 适合所有序列的操作和方法：\n",
    "+ s\\[i\\]：索引运算符\n",
    "+ s\\[i:j\\]为切片运算符，s\\[i:j:stride\\]为扩展切片运算符\n",
    "+ len(s)长度\n",
    "+ min(s)和max(s)只适用于能够对元素排序的序列\n",
    "+ sum(s)只适用于数字序列\n",
    "+ all(s)检查是否所有项为True\n",
    "+ any(s)若元素都是 0、空、FALSE，则为False，其余都是TRUE"
   ]
  },
  {
   "cell_type": "markdown",
   "metadata": {},
   "source": [
    "## 字符类型：\n",
    "+ 字符串字面量：把文本放入单引号、双引号或三引号（多行）中\n",
    "+ 注意：python要使用unicode类型，需要在串前加u，但是python3不用\n",
    "    \n",
    "#### 文档字符串：\n",
    "+ 模块（py文件）、类或函数的第一条语句是一个字符串的话，该字符串就成为文档字符串，\n",
    "+ 可以使用\\__doc\\__属性引用\n",
    "\n",
    "#### 运算符：\n",
    "+ 索引运算：\\[i\\]\n",
    "+ 切片运算：\\[i:j\\]\n",
    "+ 扩展切片：\\[i:j:stride\\] （切片的结果会生成新的对象）\n",
    "    \n",
    "#### 支持运算：\n",
    "+ 索引、切片、min()、max()、len()等\n",
    "    \n",
    "#### 支持操作:\n",
    "+ 对象自有的方法，使用dir(str)来获取，也可以使用help(str.***)"
   ]
  },
  {
   "cell_type": "code",
   "execution_count": 1,
   "metadata": {
    "tags": []
   },
   "outputs": [
    {
     "output_type": "stream",
     "name": "stdout",
     "text": "13\nwww.baidu.com\nww.\n\niab.ww\nm o\n\nmo\nco\nc.udiab.www\n.\nw\nTrue\nTrue\n"
    }
   ],
   "source": [
    "str1 = \"www.baidu.com\"\n",
    "print(len(str1))\n",
    "print(str1[0:])\n",
    "print(str1[1:4]) # 顾首不顾尾\n",
    "print(str1[0:6:-1]) # 没有输出\n",
    "print(str1[6:0:-1]) # 倒序输出\n",
    "print(str1[-1], str1[-2])\n",
    "# 从左到右是0索引开始计算，反过来是从-1索引开始算，正负索引的绝对值之和为长度\n",
    "print(str1[-1:-3]) # 没有输出\n",
    "print(str1[-1:-3:-1])\n",
    "print(str1[-3:-1]) # 注意顾首不顾尾\n",
    "print(str1[-3::-1])\n",
    "print(min(str1))\n",
    "print(max(str1))\n",
    "print(all(str1))\n",
    "print(any(str1))"
   ]
  },
  {
   "cell_type": "markdown",
   "metadata": {},
   "source": [
    "### 字符串的操作：\n",
    "+ s.captitalize() 首字符变大写\n",
    "+ s.index(sub \\[, start \\[,end\\]\\]) 找到指定子字符串sub首次出现的位置，否则报错\n",
    "+ s.join(t) 使用s作为分隔符连接序列t中的字符串\n",
    "+ s.lower() 转换为小写形式\n",
    "+ s.replace(old, new \\[, maxrepalce\\]) 替换一个子字符串,maxreplace指定替换次数\n",
    "+ s.split(\\[sep \\[, maxsplit\\]\\]) 使用sep作为分隔符对一个字符串进行划分\n",
    "+ s.strip(\\[chrs\\]) 删掉chrs开头和结尾的空白或字符\n",
    "+ s.upper() 将一个字符串转换为大写形式"
   ]
  },
  {
   "cell_type": "code",
   "execution_count": 2,
   "metadata": {
    "tags": []
   },
   "outputs": [
    {
     "output_type": "stream",
     "name": "stdout",
     "text": "Jackkoling\n3\n4\n['j', 'a', 'c', 'k', 'k', 'o', 'l', 'i', 'n', 'g']\nj.a.c.k.k.o.l.i.n.g\njackkoling\njackko\nLING\njackkoLING\n['image', 'jpg']\nhello\n"
    }
   ],
   "source": [
    "str2 = \"jackkoling\"\n",
    "print(str2.capitalize())\n",
    "print(str2.index('kko'))\n",
    "print(str2.index('k', 4, 7)) # 指定从第4个开始找,找到第7个,不包括第7个\n",
    "t = list(str2) \n",
    "print(t)\n",
    "print('.'.join(t))\n",
    "print(''.join(t))\n",
    "print(\"JACKKO\".lower())\n",
    "print(\"ling\".upper())\n",
    "print(str2.replace('ling', 'LING'))\n",
    "str3 = \"image.jpg\"\n",
    "print(str3.split('.'))\n",
    "str4 = \"     hello   \"\n",
    "print(str4.strip())"
   ]
  },
  {
   "cell_type": "code",
   "execution_count": null,
   "metadata": {},
   "outputs": [],
   "source": []
  }
 ],
 "metadata": {
  "language_info": {
   "codemirror_mode": {
    "name": "ipython",
    "version": 3
   },
   "file_extension": ".py",
   "mimetype": "text/x-python",
   "name": "python",
   "nbconvert_exporter": "python",
   "pygments_lexer": "ipython3",
   "version": 3
  },
  "orig_nbformat": 2,
  "kernelspec": {
   "name": "python_defaultSpec_1594959922596",
   "display_name": "Python 3.7.1 64-bit ('learnPy': conda)"
  }
 },
 "nbformat": 4,
 "nbformat_minor": 2
}
{
 "metadata": {
  "language_info": {
   "codemirror_mode": {
    "name": "ipython",
    "version": 3
   },
   "file_extension": ".py",
   "mimetype": "text/x-python",
   "name": "python",
   "nbconvert_exporter": "python",
   "pygments_lexer": "ipython3",
   "version": 3
  },
  "orig_nbformat": 2,
  "kernelspec": {
   "name": "python_defaultSpec_1595244586224",
   "display_name": "Python 3.7.1 64-bit"
  }
 },
 "nbformat": 4,
 "nbformat_minor": 2,
 "cells": [
  {
   "cell_type": "markdown",
   "metadata": {},
   "source": [
    "## This file introduce file object"
   ]
  },
  {
   "cell_type": "markdown",
   "metadata": {},
   "source": [
    "## 文件对象\n",
    "+ 文件系统：OS用于在磁盘上组织文件的方法\n",
    "+ 文件：存储在某种长期储存设备或临时存储设备中的一股“数据流”，归属于文件系统管理之下\n",
    "+ 概括地说，文件是计算机中由OS管理的具有名字的存储区域\n",
    "+ 在linux系统上，文件被看做是字节序列"
   ]
  },
  {
   "cell_type": "markdown",
   "metadata": {},
   "source": [
    "var_name = open(filename\\[mode, \\[bufsize\\]\\])\n",
    "\n",
    "### 文件的打开模式：\n",
    "1、简单模式：\n",
    "+ r: 只读\n",
    "+ w: 写入\n",
    "+ a: 附加\n",
    "\n",
    "2、在模式后使用‘+’表示同时支持输入、输出操作，如r+、w+、a+\n",
    "  \n",
    "3、在模式后附加‘b’表示以二进制方式打开，如rb、wb、ab、rb+、wb+、ab+\n",
    "\n",
    "### 缓冲参数：\n",
    "+ 0：禁用\n",
    "+ 负数：使用系统默认缓冲\n",
    "+ 1：使用一行数据的缓冲\n",
    "+ 2+：指定缓冲空间大小"
   ]
  },
  {
   "cell_type": "code",
   "execution_count": 1,
   "metadata": {
    "tags": []
   },
   "outputs": [
    {
     "output_type": "stream",
     "name": "stdout",
     "text": "<class '_io.TextIOWrapper'>\nhello python\n\ni am learning\n\nyesnew line.\n\n"
    }
   ],
   "source": [
    "f1 = open('../day6/a.txt', 'r')\n",
    "print(type(f1)) # 返回的是文件对象\n",
    "print(f1.__next__()) # 使用对象的内置函数__next__()读取一行\n",
    "print(f1.__next__())\n",
    "print(f1.__next__())"
   ]
  },
  {
   "cell_type": "code",
   "execution_count": 2,
   "metadata": {},
   "outputs": [],
   "source": [
    "f1.close() # 关闭文件"
   ]
  },
  {
   "cell_type": "code",
   "execution_count": 3,
   "metadata": {
    "tags": []
   },
   "outputs": [
    {
     "output_type": "stream",
     "name": "stdout",
     "text": "4\n"
    }
   ],
   "source": [
    "f1 = open('../day6/a.txt', 'r')\n",
    "print(f1.fileno()) # 返回文件的描述符号"
   ]
  },
  {
   "cell_type": "code",
   "execution_count": 4,
   "metadata": {
    "tags": []
   },
   "outputs": [
    {
     "output_type": "stream",
     "name": "stdout",
     "text": "['hello python\\n', 'i am learning\\n', 'yesnew line.\\n', 'new line.\\n', 'new line.\\n', 'new line.\\n', 'new line.\\n', 'new line.\\n', 'new line.\\n', 'new line.\\n', 'new line.\\n', 'new line.\\n', 'new line.\\n', 'new line.\\n', 'new line.\\n', 'new line.\\n', 'new line.\\n']\n"
    }
   ],
   "source": [
    "f1 = open('../day6/a.txt', 'r')\n",
    "print(f1.readlines()) # 返回整个文件所有行，包括字符串，并生成列表"
   ]
  },
  {
   "cell_type": "code",
   "execution_count": 5,
   "metadata": {
    "tags": []
   },
   "outputs": [
    {
     "output_type": "stream",
     "name": "stdout",
     "text": "hello python\n\n"
    }
   ],
   "source": [
    "f1 = open('../day6/a.txt', 'r')\n",
    "print(f1.readline()) # 返回文件的一行"
   ]
  },
  {
   "cell_type": "code",
   "execution_count": 6,
   "metadata": {
    "tags": []
   },
   "outputs": [
    {
     "output_type": "stream",
     "name": "stdout",
     "text": "14\n"
    }
   ],
   "source": [
    "print(f1.tell()) # 返回当前文件指针的所在字节位置，注意指针一行一行跳，不可逆"
   ]
  },
  {
   "cell_type": "markdown",
   "metadata": {},
   "source": [
    "file.seek(offset \\[whence\\]):  \n",
    "+ offset：指定偏移量  \n",
    "+ whence:指定从哪里开始偏移，其中0：从文件头开始，1：从当前位置，2：从文件尾部"
   ]
  },
  {
   "cell_type": "code",
   "execution_count": 7,
   "metadata": {
    "tags": []
   },
   "outputs": [
    {
     "output_type": "stream",
     "name": "stdout",
     "text": "14\n0\n"
    }
   ],
   "source": [
    "print(f1.tell())\n",
    "f1.seek(0) # 默认是从文件头开始\n",
    "print(f1.tell())"
   ]
  },
  {
   "cell_type": "code",
   "execution_count": 8,
   "metadata": {
    "tags": []
   },
   "outputs": [
    {
     "output_type": "stream",
     "name": "stdout",
     "text": "hello python\ni\n15\n"
    }
   ],
   "source": [
    "f1 = open('../day6/a.txt', 'r')\n",
    "print(f1.read(14)) # 指定读出14个字节，若不给参数则默认读出所有字节\n",
    "print(f1.tell())"
   ]
  },
  {
   "cell_type": "code",
   "execution_count": 9,
   "metadata": {
    "tags": []
   },
   "outputs": [
    {
     "output_type": "stream",
     "name": "stdout",
     "text": "../day6/a.txt\n"
    }
   ],
   "source": [
    "print(f1.name)\n",
    "f1.close()"
   ]
  },
  {
   "cell_type": "code",
   "execution_count": 10,
   "metadata": {
    "tags": []
   },
   "outputs": [
    {
     "output_type": "stream",
     "name": "stdout",
     "text": "hello python\n\n197\n208\n"
    }
   ],
   "source": [
    "f1 = open('../day6/a.txt', 'r+')\n",
    "print(f1.__next__())\n",
    "f1.seek(0, 2) # 跳到文件尾部\n",
    "print(f1.tell())\n",
    "f1.write('new line.\\n') # 写进去，注意打开模式\n",
    "print(f1.tell())\n",
    "f1.close()"
   ]
  },
  {
   "cell_type": "code",
   "execution_count": 11,
   "metadata": {},
   "outputs": [],
   "source": [
    "f2 = open('../day6/b.txt', 'w+') # 若原来不存在，则自己创建这个文件\n",
    "f2.write('haha')\n",
    "f2.close()"
   ]
  },
  {
   "cell_type": "code",
   "execution_count": 12,
   "metadata": {},
   "outputs": [],
   "source": [
    "f3 = open('../day6/c.txt', 'w+')\n",
    "for line in (i**2 for i in range(1, 11)):\n",
    "    f3.write(str(line) + '\\n')\n",
    "f3.close()"
   ]
  },
  {
   "cell_type": "code",
   "execution_count": 13,
   "metadata": {},
   "outputs": [],
   "source": [
    "f4 = open('../day6/d.txt', 'w+')\n",
    "l1 = [i**2 for i in range(1, 11)]\n",
    "l2 = []\n",
    "for i in l1:\n",
    "    l2.append(str(i)+'\\n')\n",
    "f4.writelines(l2)\n",
    "f4.flush() # 将缓冲区的数据立刻写入文件，避免断电，一般文件关闭后会自动刷新"
   ]
  },
  {
   "cell_type": "code",
   "execution_count": 14,
   "metadata": {
    "tags": []
   },
   "outputs": [
    {
     "output_type": "stream",
     "name": "stdout",
     "text": "False\n"
    }
   ],
   "source": [
    "print(f4.isatty()) # 是否为终端文件"
   ]
  },
  {
   "cell_type": "code",
   "execution_count": 15,
   "metadata": {
    "tags": []
   },
   "outputs": [
    {
     "output_type": "stream",
     "name": "stdout",
     "text": "False\n"
    }
   ],
   "source": [
    "print(f4.closed) # 查看文件是否为关闭状态"
   ]
  },
  {
   "cell_type": "code",
   "execution_count": 16,
   "metadata": {
    "tags": []
   },
   "outputs": [
    {
     "output_type": "stream",
     "name": "stdout",
     "text": "cp936\nw+\n"
    }
   ],
   "source": [
    "print(f4.encoding) # 获取文件的编码模式\n",
    "print(f4.mode) # 获取文件的打开模式\n",
    "f4.close()"
   ]
  },
  {
   "cell_type": "code",
   "execution_count": null,
   "metadata": {},
   "outputs": [],
   "source": []
  }
 ]
}
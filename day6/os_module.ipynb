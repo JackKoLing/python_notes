{
 "metadata": {
  "language_info": {
   "codemirror_mode": {
    "name": "ipython",
    "version": 3
   },
   "file_extension": ".py",
   "mimetype": "text/x-python",
   "name": "python",
   "nbconvert_exporter": "python",
   "pygments_lexer": "ipython3",
   "version": 3
  },
  "orig_nbformat": 2,
  "kernelspec": {
   "name": "python_defaultSpec_1595244361860",
   "display_name": "Python 3.7.1 64-bit"
  }
 },
 "nbformat": 4,
 "nbformat_minor": 2,
 "cells": [
  {
   "cell_type": "markdown",
   "metadata": {},
   "source": [
    "## This file introduce the os module"
   ]
  },
  {
   "cell_type": "markdown",
   "metadata": {},
   "source": [
    "## 一、文件系统功能：OS模块\n",
    "\n",
    "### 1、目录：\n",
    "+ chdir()：改变工作目录\n",
    "+ chroot()：设定当前进程的根目录\n",
    "+ listdir()：列出指定目录下的所有文件名\n",
    "+ mkdir()：创建指定目录\n",
    "+ makedirs()：创建多级目录\n",
    "+ getcwd()：获取当前路径\n",
    "+ rmdir()：删除文件目录\n",
    "+ removedirs()：删除多级文件目录"
   ]
  },
  {
   "cell_type": "code",
   "execution_count": 2,
   "metadata": {},
   "outputs": [],
   "source": [
    "import os # 将linux或c语言的一些目录操作封装成文件管理系统\n",
    "os.mkdir('../day6/dir')"
   ]
  },
  {
   "cell_type": "code",
   "execution_count": 3,
   "metadata": {},
   "outputs": [
    {
     "output_type": "execute_result",
     "data": {
      "text/plain": "'d:\\\\learnCode\\\\learnPython\\\\day6'"
     },
     "metadata": {},
     "execution_count": 3
    }
   ],
   "source": [
    "os.getcwd() # 获取当前路径,注意linux的系统是/，而win系统是\\\\，使用了转义"
   ]
  },
  {
   "cell_type": "code",
   "execution_count": 9,
   "metadata": {
    "tags": []
   },
   "outputs": [
    {
     "output_type": "stream",
     "name": "stdout",
     "text": "d:\\learnCode\\learnPython\n"
    }
   ],
   "source": [
    "os.chdir('..') # 相当于cd到其他路径\n",
    "print(os.getcwd())"
   ]
  },
  {
   "cell_type": "code",
   "execution_count": 11,
   "metadata": {},
   "outputs": [
    {
     "output_type": "execute_result",
     "data": {
      "text/plain": "os.stat_result(st_mode=33206, st_ino=844424933738703, st_dev=2048257096, st_nlink=1, st_uid=0, st_gid=0, st_size=208, st_atime=1595244588, st_mtime=1595244588, st_ctime=1595138856)"
     },
     "metadata": {},
     "execution_count": 11
    }
   ],
   "source": [
    "os.chdir('day6')\n",
    "os.stat('a.txt') # 获取文件的相关状态信息"
   ]
  },
  {
   "cell_type": "markdown",
   "metadata": {},
   "source": [
    "\n",
    "### 2、文件：\n",
    "+ mkfifo()：创建先进先出管道\n",
    "+ mknod()：创建设备文件\n",
    "+ remove()：删除文件\n",
    "+ unlink(): 删除链接文件\n",
    "+ rename()： 重命名\n",
    "+ stat()： 返回文件状态信息\n",
    "+ symlink()：创建符号链接\n",
    "+ utime(): 更新文件时间戳\n",
    "+ tmpfile()： 创建并打开新的临时文件"
   ]
  },
  {
   "cell_type": "code",
   "execution_count": 12,
   "metadata": {},
   "outputs": [],
   "source": [
    "os.rename('a.txt', 'newa.txt')"
   ]
  },
  {
   "cell_type": "markdown",
   "metadata": {},
   "source": [
    "### 3、访问权限：\n",
    "+ access()：判定指定用户对某个文件是否有访问权限\n",
    "+ chmod(): 修改权限\n",
    "+ chown()：修改所属主、属组\n",
    "+ umask()：设置默认权限模式"
   ]
  },
  {
   "cell_type": "code",
   "execution_count": 18,
   "metadata": {
    "tags": []
   },
   "outputs": [
    {
     "output_type": "stream",
     "name": "stdout",
     "text": "True\n"
    }
   ],
   "source": [
    "print(os.access('b.txt', 0)) # 查看用户的访问权限"
   ]
  },
  {
   "cell_type": "markdown",
   "metadata": {},
   "source": [
    "### 4、文件描述符：\n",
    "+ open(): 较低IO的打开文件\n",
    "+ read(): 较低IO的读文件操作\n",
    "+ write(): 较低IO的写文件操作"
   ]
  },
  {
   "cell_type": "code",
   "execution_count": 21,
   "metadata": {
    "tags": []
   },
   "outputs": [
    {
     "output_type": "stream",
     "name": "stdout",
     "text": "Help on built-in function open in module nt:\n\nopen(path, flags, mode=511, *, dir_fd=None)\n    Open a file for low level IO.  Returns a file descriptor (integer).\n    \n    If dir_fd is not None, it should be a file descriptor open to a directory,\n      and path should be relative; path will then be relative to that directory.\n    dir_fd may not be implemented on your platform.\n      If it is unavailable, using it will raise a NotImplementedError.\n\n"
    }
   ],
   "source": [
    "help(os.open) # 这是较低级别的打开"
   ]
  },
  {
   "cell_type": "markdown",
   "metadata": {},
   "source": [
    "### 5、设备文件：\n",
    "+ mkdev()：创建设备\n",
    "+ major(): 获取指定设备的主设备号\n",
    "+ minor()： 获取指定设备的次设备号"
   ]
  },
  {
   "cell_type": "markdown",
   "metadata": {},
   "source": [
    "## 二、跟文件路径相关的：os.path\n",
    "+ basename(): 文件基名\n",
    "+ dirname()：文件目录名\n",
    "+ join(): 将多个离散路径整合成一个路径"
   ]
  },
  {
   "cell_type": "code",
   "execution_count": 33,
   "metadata": {
    "tags": []
   },
   "outputs": [
    {
     "output_type": "stream",
     "name": "stdout",
     "text": "d:\\learnCode\\learnPython\\day6\nd:\\learnCode\\learnPython\nday6\nd:\\learnCode\\learnPython\\day6\n"
    }
   ],
   "source": [
    "import os.path\n",
    "cwd = os.getcwd()\n",
    "dir1 = os.path.dirname(cwd)\n",
    "file1 = os.path.basename(cwd)\n",
    "print(cwd)\n",
    "print(dir1)\n",
    "print(file1)\n",
    "print(os.path.join(dir1, file1))"
   ]
  },
  {
   "cell_type": "code",
   "execution_count": null,
   "metadata": {},
   "outputs": [],
   "source": []
  }
 ]
}